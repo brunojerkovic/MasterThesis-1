{
 "cells": [
  {
   "cell_type": "code",
   "execution_count": 1,
   "outputs": [],
   "source": [
    "import utils\n",
    "from datagenerators import VARGenerator\n",
    "\n",
    "import numpy as np\n",
    "from matplotlib import pyplot as plt\n",
    "\n",
    "import torch\n",
    "import torch.nn as nn\n",
    "from torch.utils.data import TensorDataset, random_split"
   ],
   "metadata": {
    "collapsed": false,
    "pycharm": {
     "name": "#%%\n"
    }
   }
  },
  {
   "cell_type": "code",
   "execution_count": 40,
   "outputs": [
    {
     "data": {
      "text/plain": "((432, 7840, 2), (432, 2, 2), (432, 2, 2), (432, 7840, 2), (432, 2, 2))"
     },
     "execution_count": 40,
     "metadata": {},
     "output_type": "execute_result"
    }
   ],
   "source": [
    "def generate_data():\n",
    "    # Create a config file\n",
    "    config = utils.parse_config()\n",
    "    config.update(utils.generate_parameters(config)[0])\n",
    "    config.c11 = [0.1, 0.5, 0.8, 0.9]\n",
    "    config.c22 = [0.1, 0.8, 0.9]\n",
    "    config.c12 = [0, 0.1, 0.3, 0.9]\n",
    "    config.sigma_eta_diag = [0.3, 0.1, 0.05]\n",
    "    config.sigma_eta_off_diag = [0.05, 0.02, 0.01]\n",
    "    mini_configs = utils.generate_parameters(config)\n",
    "\n",
    "    # Get data from configs\n",
    "    X, coef_mats, edges, noises, noises_cov = [], [], [], [], []\n",
    "    for exp_params in mini_configs:\n",
    "        # Parse config\n",
    "        experiment_config = utils.deepcopy_lvl1(config)\n",
    "        experiment_config.update(exp_params)\n",
    "        experiment_config = utils.get_nested_config(experiment_config)\n",
    "        noise_cov = np.array([[experiment_config.sigma_eta_diag, experiment_config.sigma_eta_off_diag], [experiment_config.sigma_eta_off_diag, experiment_config.sigma_eta_diag]])\n",
    "\n",
    "        # Get all of the necessary data\n",
    "        generator = VARGenerator(experiment_config)\n",
    "        data, coef_mat, edge = generator.generate()\n",
    "        noise = generator.get_noise()\n",
    "\n",
    "        # Save the data\n",
    "        X.append(data)\n",
    "        coef_mats.append(coef_mat)\n",
    "        noises_cov.append(noise_cov)\n",
    "        edges.append(edge)\n",
    "        noises.append(noise)\n",
    "\n",
    "    return np.array(X), np.array(coef_mats), np.array(edges), np.array(noises), np.array(noises_cov)\n",
    "\n",
    "X, coef_mats, edges, noises, noises_cov = generate_data()\n",
    "X.shape, coef_mats.shape, edges.shape, noises.shape, noises_cov.shape"
   ],
   "metadata": {
    "collapsed": false,
    "pycharm": {
     "name": "#%%\n"
    }
   }
  },
  {
   "cell_type": "code",
   "execution_count": 41,
   "outputs": [],
   "source": [
    "device = torch.device('cuda' if torch.cuda.is_available() else 'cpu')\n",
    "dtype = torch.float\n",
    "\n",
    "tvt_split = (0.8, 0.1, 0.1)\n",
    "N = X.shape[0]\n",
    "train_size, valid_size = int(tvt_split[0] * N), int(tvt_split[1] * N)\n",
    "test_size = N - train_size - valid_size\n",
    "\n",
    "# Create datasets\n",
    "X_ = torch.from_numpy(X-noises).to(device).to(dtype)\n",
    "noise_ = torch.from_numpy(noises).to(device).to(dtype)\n",
    "noises_cov_ = torch.from_numpy(noises_cov).to(device).to(dtype)\n",
    "dataset = TensorDataset(X_, noise_, noises_cov_)\n",
    "train_set, valid_set, test_set = random_split(dataset, [train_size, valid_size, test_size])"
   ],
   "metadata": {
    "collapsed": false,
    "pycharm": {
     "name": "#%%\n"
    }
   }
  },
  {
   "cell_type": "code",
   "execution_count": 42,
   "outputs": [],
   "source": [
    "class DenoisingAutoencoder(nn.Module):\n",
    "    def __init__(self, input_size, hidden1, hidden2):\n",
    "        super(DenoisingAutoencoder, self).__init__()\n",
    "\n",
    "        p = input_size\n",
    "        self.encoder = nn.Sequential(\n",
    "            nn.Conv1d(p+p*(p+1)//2, hidden1, 1),\n",
    "            nn.ReLU(),\n",
    "            nn.Conv1d(hidden1, hidden2, 1),\n",
    "            nn.ReLU()\n",
    "        )\n",
    "        self.decoder = nn.Sequential(\n",
    "            nn.Conv1d(hidden2, hidden1, 1),\n",
    "            nn.ReLU(),\n",
    "            nn.Conv1d(hidden1, p, 1)\n",
    "        )\n",
    "\n",
    "    def forward(self, x, cov_mat):\n",
    "        # Reshape inputs in the desired shape\n",
    "        x = x.transpose(1, 0)\n",
    "        cov_mat = cov_mat[np.tril_indices(cov_mat.shape[0])].flatten()\n",
    "        cov_mat = cov_mat.repeat(x.shape[-1], 1).transpose(1,0)\n",
    "\n",
    "        # Perform the forward pass\n",
    "        x = torch.concat([x, cov_mat], 0)\n",
    "        x = self.encoder(x)\n",
    "        x = self.decoder(x)\n",
    "        return x.transpose(0,1)"
   ],
   "metadata": {
    "collapsed": false,
    "pycharm": {
     "name": "#%%\n"
    }
   }
  },
  {
   "cell_type": "code",
   "execution_count": 43,
   "outputs": [],
   "source": [
    "input_size = X.shape[-1]\n",
    "hidden1, hidden2 = 100, 50\n",
    "\n",
    "model = DenoisingAutoencoder(input_size, hidden1, hidden2).to(device)\n",
    "loss_mse = nn.MSELoss()\n",
    "optim = torch.optim.Adam(model.parameters())"
   ],
   "metadata": {
    "collapsed": false,
    "pycharm": {
     "name": "#%%\n"
    }
   }
  },
  {
   "cell_type": "code",
   "execution_count": 45,
   "outputs": [
    {
     "name": "stdout",
     "output_type": "stream",
     "text": [
      "Epoch 0/50 | Train Loss: 0.11928971918920676 | Valid loss: 0.07915265771538713\n",
      "Epoch 1/50 | Train Loss: 0.11517188597632491 | Valid loss: 0.0779721264315899\n",
      "Epoch 2/50 | Train Loss: 0.1138986580532746 | Valid loss: 0.07751691549323327\n",
      "Epoch 3/50 | Train Loss: 0.10720646485308374 | Valid loss: 0.07746918222238851\n",
      "Epoch 4/50 | Train Loss: 0.11156479406400004 | Valid loss: 0.07752085126243359\n",
      "Epoch 5/50 | Train Loss: 0.1065579401842062 | Valid loss: 0.07750280552305454\n",
      "Epoch 6/50 | Train Loss: 0.10857591453831697 | Valid loss: 0.0774954147203717\n",
      "Epoch 7/50 | Train Loss: 0.1065932139052429 | Valid loss: 0.07748507444075374\n",
      "Epoch 8/50 | Train Loss: 0.10721170399068058 | Valid loss: 0.07748606047311495\n",
      "Epoch 9/50 | Train Loss: 0.10690860649489838 | Valid loss: 0.07746794144081515\n",
      "Epoch 10/50 | Train Loss: 0.10664642116567795 | Valid loss: 0.07748113828169745\n",
      "Epoch 11/50 | Train Loss: 0.10687859975665376 | Valid loss: 0.07745283755452134\n",
      "Epoch 12/50 | Train Loss: 0.10654770574275998 | Valid loss: 0.07744304727503033\n",
      "Epoch 13/50 | Train Loss: 0.10658237424449644 | Valid loss: 0.07741441313437251\n",
      "Epoch 14/50 | Train Loss: 0.10639074211805195 | Valid loss: 0.07738522934012634\n",
      "Epoch 15/50 | Train Loss: 0.10642150809745425 | Valid loss: 0.07736184794542401\n",
      "Epoch 16/50 | Train Loss: 0.10627626214122426 | Valid loss: 0.07733337966681914\n",
      "Epoch 17/50 | Train Loss: 0.1061841556991356 | Valid loss: 0.07730482739591321\n",
      "Epoch 18/50 | Train Loss: 0.10609554970448 | Valid loss: 0.07729027784147928\n",
      "Epoch 19/50 | Train Loss: 0.10599189832860577 | Valid loss: 0.07726987646242907\n",
      "Epoch 20/50 | Train Loss: 0.10582741367482189 | Valid loss: 0.07725104321400787\n",
      "Epoch 21/50 | Train Loss: 0.1058137317498525 | Valid loss: 0.07722340104018532\n",
      "Epoch 22/50 | Train Loss: 0.10566170385404342 | Valid loss: 0.07719807868260284\n",
      "Epoch 23/50 | Train Loss: 0.10553928764024074 | Valid loss: 0.07717460246626721\n",
      "Epoch 24/50 | Train Loss: 0.10552710471539825 | Valid loss: 0.07714277848081533\n",
      "Epoch 25/50 | Train Loss: 0.10544145608833734 | Valid loss: 0.07710717068335345\n",
      "Epoch 26/50 | Train Loss: 0.10533746620775133 | Valid loss: 0.07707378246583217\n",
      "Epoch 27/50 | Train Loss: 0.10527944563739541 | Valid loss: 0.07703645076862602\n",
      "Epoch 28/50 | Train Loss: 0.10519504607857569 | Valid loss: 0.0770024826187034\n",
      "Epoch 29/50 | Train Loss: 0.10512648421623137 | Valid loss: 0.07696671563005725\n",
      "Epoch 30/50 | Train Loss: 0.10508673480725375 | Valid loss: 0.07719589232705361\n",
      "Epoch 31/50 | Train Loss: 0.10521731160419143 | Valid loss: 0.07691424071442249\n",
      "Epoch 32/50 | Train Loss: 0.1048880173743743 | Valid loss: 0.07686407452579154\n",
      "Epoch 33/50 | Train Loss: 0.10483692161927836 | Valid loss: 0.07683198192958222\n",
      "Epoch 34/50 | Train Loss: 0.10479188244249941 | Valid loss: 0.07680067948477212\n",
      "Epoch 35/50 | Train Loss: 0.10472811783623437 | Valid loss: 0.07677264611215093\n",
      "Epoch 36/50 | Train Loss: 0.1046727155605196 | Valid loss: 0.07674526631139046\n",
      "Epoch 37/50 | Train Loss: 0.1046252299586068 | Valid loss: 0.07671890711021978\n",
      "Epoch 38/50 | Train Loss: 0.10457772320622336 | Valid loss: 0.07668948766970357\n",
      "Epoch 39/50 | Train Loss: 0.10453204555382979 | Valid loss: 0.07665944987431515\n",
      "Epoch 40/50 | Train Loss: 0.10445901150612727 | Valid loss: 0.0766336775796358\n",
      "Epoch 41/50 | Train Loss: 0.10453070756047964 | Valid loss: 0.07661475912602835\n",
      "Epoch 42/50 | Train Loss: 0.10506234178319573 | Valid loss: 0.07656986132090868\n",
      "Epoch 43/50 | Train Loss: 0.10417304535976786 | Valid loss: 0.07655373254660951\n",
      "Epoch 44/50 | Train Loss: 0.10417782895914886 | Valid loss: 0.07653795706844607\n",
      "Epoch 45/50 | Train Loss: 0.10421244519614223 | Valid loss: 0.07652257894014203\n",
      "Epoch 46/50 | Train Loss: 0.10416458506083143 | Valid loss: 0.07650479912584604\n",
      "Epoch 47/50 | Train Loss: 0.10416788538998883 | Valid loss: 0.07648456113976101\n",
      "Epoch 48/50 | Train Loss: 0.1041281484944773 | Valid loss: 0.07646985642265441\n",
      "Epoch 49/50 | Train Loss: 0.10409738303742547 | Valid loss: 0.07645031528244185\n"
     ]
    }
   ],
   "source": [
    "epochs = 50\n",
    "\n",
    "train_losses, valid_losses = [], []\n",
    "for epoch in range(epochs):\n",
    "    model.train()\n",
    "    train_loss = 0\n",
    "    losses = []\n",
    "    for i, (x, noise, noise_cov) in enumerate(train_set):\n",
    "        # Forward pass\n",
    "        x_noisy = x + noise\n",
    "        x_est = model(x_noisy, noise_cov)\n",
    "        loss = loss_mse(x, x_est)\n",
    "\n",
    "        # Backward pass\n",
    "        loss.backward()\n",
    "        optim.step()\n",
    "        optim.zero_grad()\n",
    "        losses.append(loss.item())\n",
    "    train_losses.append(sum(losses) / len(losses))\n",
    "\n",
    "    model.eval()\n",
    "    valid_loss = 0\n",
    "    losses = []\n",
    "    with torch.no_grad():\n",
    "        for i, (x, noise, noise_cov) in enumerate(valid_set):\n",
    "            # Forward pass\n",
    "            x_noisy = x + noise\n",
    "            x_est = model(x_noisy, noise_cov)\n",
    "            loss = loss_mse(x, x_est)\n",
    "\n",
    "            # Add validation loss\n",
    "            losses.append(loss.item())\n",
    "    valid_losses.append(sum(losses) / len(losses))\n",
    "\n",
    "    print(f\"Epoch {epoch}/{epochs} | Train Loss: {train_losses[-1]} | Valid loss: {valid_losses[-1]}\")\n",
    "\n",
    "# Test phase\n",
    "losses = []\n",
    "model.eval()\n",
    "for i, (x, noise, noise_cov) in enumerate(test_set):\n",
    "    # Forward pass\n",
    "    with torch.no_grad():\n",
    "        x_noisy = x + noise\n",
    "        x_est = model(x_noisy, noise_cov)\n",
    "        loss = loss_mse(x, x_est)\n",
    "\n",
    "        # Add validation loss\n",
    "        losses.append(loss.item())\n",
    "test_loss = sum(losses) / len(losses)"
   ],
   "metadata": {
    "collapsed": false,
    "pycharm": {
     "name": "#%%\n"
    }
   }
  },
  {
   "cell_type": "code",
   "execution_count": 46,
   "outputs": [
    {
     "data": {
      "text/plain": "<Figure size 432x288 with 1 Axes>",
      "image/png": "[encoded data removed]"
     },
     "metadata": {
      "needs_background": "light"
     },
     "output_type": "display_data"
    }
   ],
   "source": [
    "plt.plot(train_losses, label='train_loss')\n",
    "plt.plot(valid_losses, label='valid_loss')\n",
    "plt.scatter(len(valid_losses), test_loss, label='test_loss', color='r')\n",
    "plt.ylabel('Loss')\n",
    "plt.xlabel('Epochs')\n",
    "\n",
    "#plt.ylim(0, 1)\n",
    "\n",
    "plt.legend()\n",
    "plt.show()"
   ],
   "metadata": {
    "collapsed": false,
    "pycharm": {
     "name": "#%%\n"
    }
   }
  },
  {
   "cell_type": "markdown",
   "source": [
    "# Usage"
   ],
   "metadata": {
    "collapsed": false,
    "pycharm": {
     "name": "#%% md\n"
    }
   }
  },
  {
   "cell_type": "code",
   "execution_count": 47,
   "outputs": [
    {
     "data": {
      "text/plain": "(torch.Size([7840, 2]), torch.Size([2, 2]))"
     },
     "execution_count": 47,
     "metadata": {},
     "output_type": "execute_result"
    }
   ],
   "source": [
    "# Real data\n",
    "X_np = np.load('X.npy')\n",
    "noise_np = np.load('noise.npy')\n",
    "\n",
    "X_noisy = torch.from_numpy(X_np).to(device).to(dtype)\n",
    "noise_cov = torch.from_numpy(np.cov(noise_np.T)).to(device).to(dtype)\n",
    "\n",
    "X_noisy.shape, noise_cov.shape"
   ],
   "metadata": {
    "collapsed": false,
    "pycharm": {
     "name": "#%%\n"
    }
   }
  },
  {
   "cell_type": "code",
   "execution_count": 48,
   "outputs": [
    {
     "data": {
      "text/plain": "array([[-0.10802288, -0.10201091],\n       [-0.07615955, -0.06601729],\n       [-0.12711138, -0.12307511],\n       [-0.18856591, -0.19841658],\n       [-0.13311097, -0.12967958]], dtype=float32)"
     },
     "execution_count": 48,
     "metadata": {},
     "output_type": "execute_result"
    }
   ],
   "source": [
    "y = model(X_noisy, noise_cov).detach().cpu().numpy()\n",
    "y[200:205]"
   ],
   "metadata": {
    "collapsed": false,
    "pycharm": {
     "name": "#%%\n"
    }
   }
  },
  {
   "cell_type": "code",
   "execution_count": 49,
   "outputs": [
    {
     "data": {
      "text/plain": "array([[-0.29063462, -0.29063463],\n       [-0.18083572, -0.18083572],\n       [-0.13751319, -0.13751319],\n       [-0.2062843 , -0.20628429],\n       [-0.29935245, -0.29935245]])"
     },
     "execution_count": 49,
     "metadata": {},
     "output_type": "execute_result"
    }
   ],
   "source": [
    "(X_np - noise_np)[200:205]"
   ],
   "metadata": {
    "collapsed": false,
    "pycharm": {
     "name": "#%%\n"
    }
   }
  },
  {
   "cell_type": "code",
   "execution_count": 50,
   "outputs": [],
   "source": [
    "np.save('X_ae.npy', y)"
   ],
   "metadata": {
    "collapsed": false,
    "pycharm": {
     "name": "#%%\n"
    }
   }
  },
  {
   "cell_type": "code",
   "execution_count": null,
   "outputs": [],
   "source": [],
   "metadata": {
    "collapsed": false,
    "pycharm": {
     "name": "#%%\n"
    }
   }
  }
 ],
 "metadata": {
  "kernelspec": {
   "display_name": "Python 3",
   "language": "python",
   "name": "python3"
  },
  "language_info": {
   "codemirror_mode": {
    "name": "ipython",
    "version": 2
   },
   "file_extension": ".py",
   "mimetype": "text/x-python",
   "name": "python",
   "nbconvert_exporter": "python",
   "pygments_lexer": "ipython2",
   "version": "2.7.6"
  }
 },
 "nbformat": 4,
 "nbformat_minor": 0
}