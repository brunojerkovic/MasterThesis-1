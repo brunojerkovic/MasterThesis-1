{
 "cells": [
  {
   "cell_type": "code",
   "execution_count": 2,
   "metadata": {
    "collapsed": false,
    "jupyter": {
     "outputs_hidden": false
    },
    "pycharm": {
     "name": "#%%\n"
    }
   },
   "outputs": [],
   "source": [
    "import numpy as np\n",
    "import pandas as pd\n",
    "import os\n",
    "\n",
    "# Load Ground Truth connections for real data\n",
    "connection_files = [f'data/connections/{data_size}/{file}' for data_size in os.listdir('data/connections') for file in os.listdir(os.path.join('data/connections', data_size))]\n",
    "\n",
    "connections = {file.split('/')[-2]+'_'+file.split('/')[-1].split('.')[0]: np.array(pd.read_csv(file, index_col='Unnamed: 0'), dtype=np.int64) for file in connection_files}"
   ]
  },
  {
   "cell_type": "code",
   "execution_count": 6,
   "metadata": {
    "collapsed": false,
    "jupyter": {
     "outputs_hidden": false
    },
    "pycharm": {
     "name": "#%%\n"
    }
   },
   "outputs": [],
   "source": [
    "def accuracy(GC_est, GC_gt):\n",
    "    GC_gt = GC_gt[:GC_est.shape[0], :GC_est.shape[0]]\n",
    "    equality = np.array(GC_est.ravel() == GC_gt.ravel(), dtype=int)\n",
    "    return sum(equality) / len(equality)\n",
    "\n",
    "def calculate_real_data_accuracy(results, experiment_name):\n",
    "    global connections\n",
    "    GC_est = results['GC'] if 'GC' in results.keys() else results['GC_est']\n",
    "    GC_est_np = np.array(GC_est)\n",
    "\n",
    "    # Get connections for this experiment\n",
    "    if experiment_name.startswith('6') or experiment_name.startswith('7'):\n",
    "        connections_ = {k:v for (k,v) in connections.items() if k.startswith('full_dataset')}\n",
    "    elif experiment_name.startswith('8'):\n",
    "        connections_ = {k:v for (k,v) in connections.items() if k.startswith('part_dataset')}\n",
    "    else:\n",
    "        raise FileNotFoundError(\"There is no connectivity matrix for this experiment.\")\n",
    "\n",
    "    accs = {connection_name+'_acc':accuracy(GC_est_np, connection) for (connection_name, connection) in connections_.items()}\n",
    "    return accs"
   ]
  },
  {
   "cell_type": "code",
   "execution_count": 7,
   "metadata": {
    "collapsed": false,
    "jupyter": {
     "outputs_hidden": false
    },
    "pycharm": {
     "name": "#%%\n"
    }
   },
   "outputs": [],
   "source": [
    "import json\n",
    "import os\n",
    "\n",
    "def get_results(experiment: str, attrs: list, result_files: list = None):\n",
    "    if result_files is None:\n",
    "        path = f'results/{experiment}'\n",
    "        result_files = [f'results/{experiment}/{model_name}/results.json' for model_name in os.listdir(path) if os.path.isdir(os.path.join(path, model_name))]\n",
    "\n",
    "    experiment = '2' if experiment == 'contemp_cor_var' else experiment\n",
    "    results = {}\n",
    "    for i, result_file_ in enumerate(result_files):\n",
    "        with open(result_file_) as f:\n",
    "            results_file = json.load(f)\n",
    "\n",
    "            for config_part, attr in attrs:\n",
    "                # To calculate accuracy for real data\n",
    "                if (experiment.startswith('6') or experiment.startswith('7') or experiment.startswith('8')) and attr == 'accuracy':\n",
    "                    # Calculate accuracies for different graphs and different experiments in this file\n",
    "                    experiments_accs = [calculate_real_data_accuracy(results['model_results'], experiment) for results in results_file.values()]\n",
    "\n",
    "                    # Reformat the accuracies\n",
    "                    accs = {k: [] for k in experiments_accs[0].keys()}\n",
    "                    for experiment_accs in experiments_accs:\n",
    "                        for acc_type, acc_value in experiment_accs.items():\n",
    "                            accs[acc_type].append(acc_value)\n",
    "\n",
    "                    # Add accuracies to the results\n",
    "                    for acc_type, acc_vals in accs.items():\n",
    "                        if acc_type not in results:\n",
    "                            results[acc_type] = acc_vals\n",
    "                        else:\n",
    "                            results[acc_type] += acc_vals\n",
    "\n",
    "                    continue\n",
    "\n",
    "                # To get the rest of desired experiment results\n",
    "                if experiment.startswith('1a') and attr == 'prior':\n",
    "                    l = [result_exp[config_part]['nri'][attr] for result_exp in results_file.values() if result_exp['experiment_config']['c11'] == result_exp['experiment_config']['c22']]\n",
    "                else:\n",
    "                    l = [result_exp[config_part][attr] for result_exp in results_file.values() if result_exp['experiment_config']['c11'] == result_exp['experiment_config']['c22']] \\\n",
    "                        if experiment.startswith('1') else [result_exp[config_part][attr] for result_exp in results_file.values()]\n",
    "\n",
    "                if attr in results:\n",
    "                    results[attr] += l\n",
    "                else:\n",
    "                    results[attr] = l\n",
    "\n",
    "    return results"
   ]
  },
  {
   "cell_type": "markdown",
   "metadata": {
    "jp-MarkdownHeadingCollapsed": true,
    "pycharm": {
     "name": "#%% md\n"
    },
    "tags": []
   },
   "source": [
    "# Experiment 0"
   ]
  },
  {
   "cell_type": "code",
   "execution_count": 20,
   "metadata": {
    "collapsed": false,
    "jupyter": {
     "outputs_hidden": false
    },
    "pycharm": {
     "name": "#%%\n"
    }
   },
   "outputs": [],
   "source": [
    "import pandas as pd\n",
    "\n",
    "save_loaded_results = False"
   ]
  },
  {
   "cell_type": "code",
   "execution_count": null,
   "metadata": {
    "collapsed": false,
    "jupyter": {
     "outputs_hidden": false
    },
    "pycharm": {
     "name": "#%%\n"
    }
   },
   "outputs": [],
   "source": [
    "# Get data\n",
    "experiment = '0'\n",
    "attrs = [\n",
    "    ('experiment_config', 'model'),\n",
    "    ('model_results', 'accuracy'),\n",
    "    ('experiment_config', 'seed'),\n",
    "    ('experiment_config', 'trainset_size'),\n",
    "    ('experiment_config', 'tvt_split')\n",
    "]\n",
    "\n",
    "results = get_results(experiment, attrs)"
   ]
  },
  {
   "cell_type": "code",
   "execution_count": 13,
   "metadata": {
    "collapsed": false,
    "jupyter": {
     "outputs_hidden": false
    },
    "pycharm": {
     "name": "#%%\n"
    }
   },
   "outputs": [
    {
     "data": {
      "text/html": [
       "<div>\n",
       "<style scoped>\n",
       "    .dataframe tbody tr th:only-of-type {\n",
       "        vertical-align: middle;\n",
       "    }\n",
       "\n",
       "    .dataframe tbody tr th {\n",
       "        vertical-align: top;\n",
       "    }\n",
       "\n",
       "    .dataframe thead th {\n",
       "        text-align: right;\n",
       "    }\n",
       "</style>\n",
       "<table border=\"1\" class=\"dataframe\">\n",
       "  <thead>\n",
       "    <tr style=\"text-align: right;\">\n",
       "      <th></th>\n",
       "      <th>model</th>\n",
       "      <th>accuracy</th>\n",
       "      <th>seed</th>\n",
       "      <th>trainset_size</th>\n",
       "      <th>tvt_split</th>\n",
       "    </tr>\n",
       "  </thead>\n",
       "  <tbody>\n",
       "    <tr>\n",
       "      <th>0</th>\n",
       "      <td>ngc</td>\n",
       "      <td>0.75</td>\n",
       "      <td>1</td>\n",
       "      <td>500</td>\n",
       "      <td>0.1</td>\n",
       "    </tr>\n",
       "    <tr>\n",
       "      <th>1</th>\n",
       "      <td>ngc</td>\n",
       "      <td>1.00</td>\n",
       "      <td>101</td>\n",
       "      <td>500</td>\n",
       "      <td>0.1</td>\n",
       "    </tr>\n",
       "    <tr>\n",
       "      <th>2</th>\n",
       "      <td>ngc</td>\n",
       "      <td>1.00</td>\n",
       "      <td>33</td>\n",
       "      <td>500</td>\n",
       "      <td>0.1</td>\n",
       "    </tr>\n",
       "    <tr>\n",
       "      <th>3</th>\n",
       "      <td>ngc</td>\n",
       "      <td>0.75</td>\n",
       "      <td>12</td>\n",
       "      <td>500</td>\n",
       "      <td>0.1</td>\n",
       "    </tr>\n",
       "    <tr>\n",
       "      <th>4</th>\n",
       "      <td>ngc</td>\n",
       "      <td>1.00</td>\n",
       "      <td>0</td>\n",
       "      <td>500</td>\n",
       "      <td>0.1</td>\n",
       "    </tr>\n",
       "    <tr>\n",
       "      <th>...</th>\n",
       "      <td>...</td>\n",
       "      <td>...</td>\n",
       "      <td>...</td>\n",
       "      <td>...</td>\n",
       "      <td>...</td>\n",
       "    </tr>\n",
       "    <tr>\n",
       "      <th>595</th>\n",
       "      <td>tvar</td>\n",
       "      <td>1.00</td>\n",
       "      <td>1</td>\n",
       "      <td>5000</td>\n",
       "      <td>1.0</td>\n",
       "    </tr>\n",
       "    <tr>\n",
       "      <th>596</th>\n",
       "      <td>tvar</td>\n",
       "      <td>1.00</td>\n",
       "      <td>101</td>\n",
       "      <td>5000</td>\n",
       "      <td>1.0</td>\n",
       "    </tr>\n",
       "    <tr>\n",
       "      <th>597</th>\n",
       "      <td>tvar</td>\n",
       "      <td>1.00</td>\n",
       "      <td>33</td>\n",
       "      <td>5000</td>\n",
       "      <td>1.0</td>\n",
       "    </tr>\n",
       "    <tr>\n",
       "      <th>598</th>\n",
       "      <td>tvar</td>\n",
       "      <td>1.00</td>\n",
       "      <td>12</td>\n",
       "      <td>5000</td>\n",
       "      <td>1.0</td>\n",
       "    </tr>\n",
       "    <tr>\n",
       "      <th>599</th>\n",
       "      <td>tvar</td>\n",
       "      <td>1.00</td>\n",
       "      <td>0</td>\n",
       "      <td>5000</td>\n",
       "      <td>1.0</td>\n",
       "    </tr>\n",
       "  </tbody>\n",
       "</table>\n",
       "<p>600 rows × 5 columns</p>\n",
       "</div>"
      ],
      "text/plain": [
       "    model  accuracy  seed  trainset_size  tvt_split\n",
       "0     ngc      0.75     1            500        0.1\n",
       "1     ngc      1.00   101            500        0.1\n",
       "2     ngc      1.00    33            500        0.1\n",
       "3     ngc      0.75    12            500        0.1\n",
       "4     ngc      1.00     0            500        0.1\n",
       "..    ...       ...   ...            ...        ...\n",
       "595  tvar      1.00     1           5000        1.0\n",
       "596  tvar      1.00   101           5000        1.0\n",
       "597  tvar      1.00    33           5000        1.0\n",
       "598  tvar      1.00    12           5000        1.0\n",
       "599  tvar      1.00     0           5000        1.0\n",
       "\n",
       "[600 rows x 5 columns]"
      ]
     },
     "execution_count": 13,
     "metadata": {},
     "output_type": "execute_result"
    }
   ],
   "source": [
    "# Save data in csv\n",
    "df = pd.DataFrame(data=results)\n",
    "if save_loaded_results:\n",
    "    df.to_csv(f'results/{experiment}/processed_data_{experiment}.csv')\n",
    "    df = pd.read_csv(f'results/{experiment}/processed_data_{experiment}.csv', index_col='Unnamed: 0')\n",
    "df"
   ]
  },
  {
   "cell_type": "markdown",
   "metadata": {
    "jp-MarkdownHeadingCollapsed": true,
    "pycharm": {
     "name": "#%% md\n"
    },
    "tags": []
   },
   "source": [
    "# Experiment 1a / 1b / 1c / 1d"
   ]
  },
  {
   "cell_type": "code",
   "execution_count": 10,
   "metadata": {
    "collapsed": false,
    "jupyter": {
     "outputs_hidden": false
    },
    "pycharm": {
     "name": "#%%\n"
    }
   },
   "outputs": [],
   "source": [
    "import pandas as pd\n",
    "\n",
    "save_loaded_results = True"
   ]
  },
  {
   "cell_type": "code",
   "execution_count": 31,
   "metadata": {
    "collapsed": false,
    "jupyter": {
     "outputs_hidden": false
    },
    "pycharm": {
     "name": "#%%\n"
    }
   },
   "outputs": [
    {
     "data": {
      "text/plain": [
       "dict_keys(['model', 'accuracy', 'seed', 'c11', 'c12', 'c21', 'c22'])"
      ]
     },
     "execution_count": 31,
     "metadata": {},
     "output_type": "execute_result"
    }
   ],
   "source": [
    "# Get data\n",
    "experiment = '1c'\n",
    "\n",
    "attrs = [\n",
    "    ('experiment_config', 'model'),\n",
    "    ('model_results', 'accuracy'),\n",
    "    ('experiment_config', 'seed'),\n",
    "    ('experiment_config', 'c11'),\n",
    "    ('experiment_config', 'c12'),\n",
    "    ('experiment_config', 'c21'),\n",
    "    ('experiment_config', 'c22')\n",
    "]\n",
    "if experiment == '1a':\n",
    "    attrs.append(('experiment_config', 'prior'))\n",
    "\n",
    "results = get_results(experiment, attrs)\n",
    "results.keys()"
   ]
  },
  {
   "cell_type": "code",
   "execution_count": 32,
   "metadata": {
    "collapsed": false,
    "jupyter": {
     "outputs_hidden": false
    },
    "pycharm": {
     "name": "#%%\n"
    }
   },
   "outputs": [
    {
     "data": {
      "text/html": [
       "<div>\n",
       "<style scoped>\n",
       "    .dataframe tbody tr th:only-of-type {\n",
       "        vertical-align: middle;\n",
       "    }\n",
       "\n",
       "    .dataframe tbody tr th {\n",
       "        vertical-align: top;\n",
       "    }\n",
       "\n",
       "    .dataframe thead th {\n",
       "        text-align: right;\n",
       "    }\n",
       "</style>\n",
       "<table border=\"1\" class=\"dataframe\">\n",
       "  <thead>\n",
       "    <tr style=\"text-align: right;\">\n",
       "      <th></th>\n",
       "      <th>model</th>\n",
       "      <th>accuracy</th>\n",
       "      <th>seed</th>\n",
       "      <th>c11</th>\n",
       "      <th>c12</th>\n",
       "      <th>c21</th>\n",
       "      <th>c22</th>\n",
       "    </tr>\n",
       "  </thead>\n",
       "  <tbody>\n",
       "    <tr>\n",
       "      <th>0</th>\n",
       "      <td>ngc</td>\n",
       "      <td>1.0</td>\n",
       "      <td>1</td>\n",
       "      <td>0.8</td>\n",
       "      <td>0.0</td>\n",
       "      <td>0.0</td>\n",
       "      <td>0.8</td>\n",
       "    </tr>\n",
       "    <tr>\n",
       "      <th>1</th>\n",
       "      <td>ngc</td>\n",
       "      <td>1.0</td>\n",
       "      <td>101</td>\n",
       "      <td>0.8</td>\n",
       "      <td>0.0</td>\n",
       "      <td>0.0</td>\n",
       "      <td>0.8</td>\n",
       "    </tr>\n",
       "    <tr>\n",
       "      <th>2</th>\n",
       "      <td>ngc</td>\n",
       "      <td>1.0</td>\n",
       "      <td>33</td>\n",
       "      <td>0.8</td>\n",
       "      <td>0.0</td>\n",
       "      <td>0.0</td>\n",
       "      <td>0.8</td>\n",
       "    </tr>\n",
       "    <tr>\n",
       "      <th>3</th>\n",
       "      <td>ngc</td>\n",
       "      <td>1.0</td>\n",
       "      <td>12</td>\n",
       "      <td>0.8</td>\n",
       "      <td>0.0</td>\n",
       "      <td>0.0</td>\n",
       "      <td>0.8</td>\n",
       "    </tr>\n",
       "    <tr>\n",
       "      <th>4</th>\n",
       "      <td>ngc</td>\n",
       "      <td>1.0</td>\n",
       "      <td>0</td>\n",
       "      <td>0.8</td>\n",
       "      <td>0.0</td>\n",
       "      <td>0.0</td>\n",
       "      <td>0.8</td>\n",
       "    </tr>\n",
       "    <tr>\n",
       "      <th>...</th>\n",
       "      <td>...</td>\n",
       "      <td>...</td>\n",
       "      <td>...</td>\n",
       "      <td>...</td>\n",
       "      <td>...</td>\n",
       "      <td>...</td>\n",
       "      <td>...</td>\n",
       "    </tr>\n",
       "    <tr>\n",
       "      <th>245</th>\n",
       "      <td>tvar</td>\n",
       "      <td>1.0</td>\n",
       "      <td>1</td>\n",
       "      <td>0.8</td>\n",
       "      <td>0.0</td>\n",
       "      <td>0.9</td>\n",
       "      <td>0.8</td>\n",
       "    </tr>\n",
       "    <tr>\n",
       "      <th>246</th>\n",
       "      <td>tvar</td>\n",
       "      <td>1.0</td>\n",
       "      <td>101</td>\n",
       "      <td>0.8</td>\n",
       "      <td>0.0</td>\n",
       "      <td>0.9</td>\n",
       "      <td>0.8</td>\n",
       "    </tr>\n",
       "    <tr>\n",
       "      <th>247</th>\n",
       "      <td>tvar</td>\n",
       "      <td>1.0</td>\n",
       "      <td>33</td>\n",
       "      <td>0.8</td>\n",
       "      <td>0.0</td>\n",
       "      <td>0.9</td>\n",
       "      <td>0.8</td>\n",
       "    </tr>\n",
       "    <tr>\n",
       "      <th>248</th>\n",
       "      <td>tvar</td>\n",
       "      <td>1.0</td>\n",
       "      <td>12</td>\n",
       "      <td>0.8</td>\n",
       "      <td>0.0</td>\n",
       "      <td>0.9</td>\n",
       "      <td>0.8</td>\n",
       "    </tr>\n",
       "    <tr>\n",
       "      <th>249</th>\n",
       "      <td>tvar</td>\n",
       "      <td>1.0</td>\n",
       "      <td>0</td>\n",
       "      <td>0.8</td>\n",
       "      <td>0.0</td>\n",
       "      <td>0.9</td>\n",
       "      <td>0.8</td>\n",
       "    </tr>\n",
       "  </tbody>\n",
       "</table>\n",
       "<p>250 rows × 7 columns</p>\n",
       "</div>"
      ],
      "text/plain": [
       "    model  accuracy  seed  c11  c12  c21  c22\n",
       "0     ngc       1.0     1  0.8  0.0  0.0  0.8\n",
       "1     ngc       1.0   101  0.8  0.0  0.0  0.8\n",
       "2     ngc       1.0    33  0.8  0.0  0.0  0.8\n",
       "3     ngc       1.0    12  0.8  0.0  0.0  0.8\n",
       "4     ngc       1.0     0  0.8  0.0  0.0  0.8\n",
       "..    ...       ...   ...  ...  ...  ...  ...\n",
       "245  tvar       1.0     1  0.8  0.0  0.9  0.8\n",
       "246  tvar       1.0   101  0.8  0.0  0.9  0.8\n",
       "247  tvar       1.0    33  0.8  0.0  0.9  0.8\n",
       "248  tvar       1.0    12  0.8  0.0  0.9  0.8\n",
       "249  tvar       1.0     0  0.8  0.0  0.9  0.8\n",
       "\n",
       "[250 rows x 7 columns]"
      ]
     },
     "execution_count": 32,
     "metadata": {},
     "output_type": "execute_result"
    }
   ],
   "source": [
    "df = pd.DataFrame(data=results)\n",
    "if save_loaded_results:\n",
    "    df.to_csv(f'results/{experiment}/processed_data_{experiment}.csv')\n",
    "    df = pd.read_csv(f'results/{experiment}/processed_data_{experiment}.csv', index_col='Unnamed: 0')\n",
    "df"
   ]
  },
  {
   "cell_type": "markdown",
   "metadata": {
    "jp-MarkdownHeadingCollapsed": true,
    "pycharm": {
     "name": "#%% md\n"
    },
    "tags": []
   },
   "source": [
    "# Experiment 2"
   ]
  },
  {
   "cell_type": "code",
   "execution_count": 34,
   "metadata": {
    "collapsed": false,
    "jupyter": {
     "outputs_hidden": false
    },
    "pycharm": {
     "name": "#%%\n"
    }
   },
   "outputs": [],
   "source": [
    "import pandas as pd\n",
    "\n",
    "save_loaded_results = True"
   ]
  },
  {
   "cell_type": "code",
   "execution_count": 39,
   "metadata": {
    "collapsed": false,
    "jupyter": {
     "outputs_hidden": false
    },
    "pycharm": {
     "name": "#%%\n"
    }
   },
   "outputs": [
    {
     "data": {
      "text/plain": [
       "dict_keys(['model', 'accuracy', 'seed', 'c11', 'c12', 'c21', 'c22', 'sigma_eta_diag', 'sigma_eta_off_diag'])"
      ]
     },
     "execution_count": 39,
     "metadata": {},
     "output_type": "execute_result"
    }
   ],
   "source": [
    "# Get data\n",
    "experiment = 'contemp_cor_var'\n",
    "\n",
    "attrs = [\n",
    "    ('experiment_config', 'model'),\n",
    "    ('model_results', 'accuracy'),\n",
    "    ('experiment_config', 'seed'),\n",
    "    ('experiment_config', 'c11'),\n",
    "    ('experiment_config', 'c12'),\n",
    "    ('experiment_config', 'c21'),\n",
    "    ('experiment_config', 'c22'),\n",
    "    ('experiment_config', 'sigma_eta_diag'),\n",
    "    ('experiment_config', 'sigma_eta_off_diag'),\n",
    "]\n",
    "\n",
    "results = get_results(experiment, attrs)\n",
    "results.keys()"
   ]
  },
  {
   "cell_type": "code",
   "execution_count": 40,
   "metadata": {
    "collapsed": false,
    "jupyter": {
     "outputs_hidden": false
    },
    "pycharm": {
     "name": "#%%\n"
    }
   },
   "outputs": [
    {
     "data": {
      "text/html": [
       "<div>\n",
       "<style scoped>\n",
       "    .dataframe tbody tr th:only-of-type {\n",
       "        vertical-align: middle;\n",
       "    }\n",
       "\n",
       "    .dataframe tbody tr th {\n",
       "        vertical-align: top;\n",
       "    }\n",
       "\n",
       "    .dataframe thead th {\n",
       "        text-align: right;\n",
       "    }\n",
       "</style>\n",
       "<table border=\"1\" class=\"dataframe\">\n",
       "  <thead>\n",
       "    <tr style=\"text-align: right;\">\n",
       "      <th></th>\n",
       "      <th>model</th>\n",
       "      <th>accuracy</th>\n",
       "      <th>seed</th>\n",
       "      <th>c11</th>\n",
       "      <th>c12</th>\n",
       "      <th>c21</th>\n",
       "      <th>c22</th>\n",
       "      <th>sigma_eta_diag</th>\n",
       "      <th>sigma_eta_off_diag</th>\n",
       "    </tr>\n",
       "  </thead>\n",
       "  <tbody>\n",
       "    <tr>\n",
       "      <th>0</th>\n",
       "      <td>ngc</td>\n",
       "      <td>0.5</td>\n",
       "      <td>1</td>\n",
       "      <td>0.8</td>\n",
       "      <td>0</td>\n",
       "      <td>0</td>\n",
       "      <td>0.8</td>\n",
       "      <td>0.50</td>\n",
       "      <td>0.00</td>\n",
       "    </tr>\n",
       "    <tr>\n",
       "      <th>1</th>\n",
       "      <td>ngc</td>\n",
       "      <td>0.5</td>\n",
       "      <td>101</td>\n",
       "      <td>0.8</td>\n",
       "      <td>0</td>\n",
       "      <td>0</td>\n",
       "      <td>0.8</td>\n",
       "      <td>0.50</td>\n",
       "      <td>0.00</td>\n",
       "    </tr>\n",
       "    <tr>\n",
       "      <th>2</th>\n",
       "      <td>ngc</td>\n",
       "      <td>0.5</td>\n",
       "      <td>33</td>\n",
       "      <td>0.8</td>\n",
       "      <td>0</td>\n",
       "      <td>0</td>\n",
       "      <td>0.8</td>\n",
       "      <td>0.50</td>\n",
       "      <td>0.00</td>\n",
       "    </tr>\n",
       "    <tr>\n",
       "      <th>3</th>\n",
       "      <td>ngc</td>\n",
       "      <td>0.5</td>\n",
       "      <td>12</td>\n",
       "      <td>0.8</td>\n",
       "      <td>0</td>\n",
       "      <td>0</td>\n",
       "      <td>0.8</td>\n",
       "      <td>0.50</td>\n",
       "      <td>0.00</td>\n",
       "    </tr>\n",
       "    <tr>\n",
       "      <th>4</th>\n",
       "      <td>ngc</td>\n",
       "      <td>0.5</td>\n",
       "      <td>0</td>\n",
       "      <td>0.8</td>\n",
       "      <td>0</td>\n",
       "      <td>0</td>\n",
       "      <td>0.8</td>\n",
       "      <td>0.50</td>\n",
       "      <td>0.00</td>\n",
       "    </tr>\n",
       "    <tr>\n",
       "      <th>...</th>\n",
       "      <td>...</td>\n",
       "      <td>...</td>\n",
       "      <td>...</td>\n",
       "      <td>...</td>\n",
       "      <td>...</td>\n",
       "      <td>...</td>\n",
       "      <td>...</td>\n",
       "      <td>...</td>\n",
       "      <td>...</td>\n",
       "    </tr>\n",
       "    <tr>\n",
       "      <th>155</th>\n",
       "      <td>tvar</td>\n",
       "      <td>1.0</td>\n",
       "      <td>1</td>\n",
       "      <td>0.8</td>\n",
       "      <td>0</td>\n",
       "      <td>0</td>\n",
       "      <td>0.8</td>\n",
       "      <td>0.01</td>\n",
       "      <td>0.01</td>\n",
       "    </tr>\n",
       "    <tr>\n",
       "      <th>156</th>\n",
       "      <td>tvar</td>\n",
       "      <td>1.0</td>\n",
       "      <td>101</td>\n",
       "      <td>0.8</td>\n",
       "      <td>0</td>\n",
       "      <td>0</td>\n",
       "      <td>0.8</td>\n",
       "      <td>0.01</td>\n",
       "      <td>0.01</td>\n",
       "    </tr>\n",
       "    <tr>\n",
       "      <th>157</th>\n",
       "      <td>tvar</td>\n",
       "      <td>1.0</td>\n",
       "      <td>33</td>\n",
       "      <td>0.8</td>\n",
       "      <td>0</td>\n",
       "      <td>0</td>\n",
       "      <td>0.8</td>\n",
       "      <td>0.01</td>\n",
       "      <td>0.01</td>\n",
       "    </tr>\n",
       "    <tr>\n",
       "      <th>158</th>\n",
       "      <td>tvar</td>\n",
       "      <td>1.0</td>\n",
       "      <td>12</td>\n",
       "      <td>0.8</td>\n",
       "      <td>0</td>\n",
       "      <td>0</td>\n",
       "      <td>0.8</td>\n",
       "      <td>0.01</td>\n",
       "      <td>0.01</td>\n",
       "    </tr>\n",
       "    <tr>\n",
       "      <th>159</th>\n",
       "      <td>tvar</td>\n",
       "      <td>1.0</td>\n",
       "      <td>0</td>\n",
       "      <td>0.8</td>\n",
       "      <td>0</td>\n",
       "      <td>0</td>\n",
       "      <td>0.8</td>\n",
       "      <td>0.01</td>\n",
       "      <td>0.01</td>\n",
       "    </tr>\n",
       "  </tbody>\n",
       "</table>\n",
       "<p>160 rows × 9 columns</p>\n",
       "</div>"
      ],
      "text/plain": [
       "    model  accuracy  seed  c11  c12  c21  c22  sigma_eta_diag  \\\n",
       "0     ngc       0.5     1  0.8    0    0  0.8            0.50   \n",
       "1     ngc       0.5   101  0.8    0    0  0.8            0.50   \n",
       "2     ngc       0.5    33  0.8    0    0  0.8            0.50   \n",
       "3     ngc       0.5    12  0.8    0    0  0.8            0.50   \n",
       "4     ngc       0.5     0  0.8    0    0  0.8            0.50   \n",
       "..    ...       ...   ...  ...  ...  ...  ...             ...   \n",
       "155  tvar       1.0     1  0.8    0    0  0.8            0.01   \n",
       "156  tvar       1.0   101  0.8    0    0  0.8            0.01   \n",
       "157  tvar       1.0    33  0.8    0    0  0.8            0.01   \n",
       "158  tvar       1.0    12  0.8    0    0  0.8            0.01   \n",
       "159  tvar       1.0     0  0.8    0    0  0.8            0.01   \n",
       "\n",
       "     sigma_eta_off_diag  \n",
       "0                  0.00  \n",
       "1                  0.00  \n",
       "2                  0.00  \n",
       "3                  0.00  \n",
       "4                  0.00  \n",
       "..                  ...  \n",
       "155                0.01  \n",
       "156                0.01  \n",
       "157                0.01  \n",
       "158                0.01  \n",
       "159                0.01  \n",
       "\n",
       "[160 rows x 9 columns]"
      ]
     },
     "execution_count": 40,
     "metadata": {},
     "output_type": "execute_result"
    }
   ],
   "source": [
    "df = pd.DataFrame(data=results)\n",
    "if save_loaded_results:\n",
    "    df.to_csv(f'results/{experiment}/processed_data_{experiment}.csv')\n",
    "    df = pd.read_csv(f'results/{experiment}/processed_data_{experiment}.csv', index_col='Unnamed: 0')\n",
    "df"
   ]
  },
  {
   "cell_type": "markdown",
   "metadata": {
    "jp-MarkdownHeadingCollapsed": true,
    "pycharm": {
     "name": "#%% md\n"
    },
    "tags": []
   },
   "source": [
    "# Experiment 3"
   ]
  },
  {
   "cell_type": "code",
   "execution_count": 70,
   "metadata": {
    "collapsed": false,
    "jupyter": {
     "outputs_hidden": false
    },
    "pycharm": {
     "name": "#%%\n"
    }
   },
   "outputs": [],
   "source": [
    "import pandas as pd\n",
    "\n",
    "save_loaded_results = False"
   ]
  },
  {
   "cell_type": "code",
   "execution_count": 13,
   "metadata": {
    "collapsed": false,
    "jupyter": {
     "outputs_hidden": false
    },
    "pycharm": {
     "name": "#%%\n"
    }
   },
   "outputs": [
    {
     "data": {
      "text/plain": [
       "dict_keys(['model', 'accuracy', 'seed', 'n_data', 'time'])"
      ]
     },
     "execution_count": 13,
     "metadata": {},
     "output_type": "execute_result"
    }
   ],
   "source": [
    "# Get data\n",
    "experiment = '3'\n",
    "\n",
    "attrs = [\n",
    "    ('experiment_config', 'model'),\n",
    "    ('model_results', 'accuracy'),\n",
    "    ('experiment_config', 'seed'),\n",
    "    ('experiment_config', 'n_data'),\n",
    "    ('model_results', 'time')\n",
    "]\n",
    "\n",
    "results = get_results(experiment, attrs)\n",
    "results.keys()"
   ]
  },
  {
   "cell_type": "code",
   "execution_count": 14,
   "metadata": {
    "collapsed": false,
    "jupyter": {
     "outputs_hidden": false
    },
    "pycharm": {
     "name": "#%%\n"
    }
   },
   "outputs": [
    {
     "data": {
      "text/html": [
       "<div>\n",
       "<style scoped>\n",
       "    .dataframe tbody tr th:only-of-type {\n",
       "        vertical-align: middle;\n",
       "    }\n",
       "\n",
       "    .dataframe tbody tr th {\n",
       "        vertical-align: top;\n",
       "    }\n",
       "\n",
       "    .dataframe thead th {\n",
       "        text-align: right;\n",
       "    }\n",
       "</style>\n",
       "<table border=\"1\" class=\"dataframe\">\n",
       "  <thead>\n",
       "    <tr style=\"text-align: right;\">\n",
       "      <th></th>\n",
       "      <th>model</th>\n",
       "      <th>accuracy</th>\n",
       "      <th>seed</th>\n",
       "      <th>n_data</th>\n",
       "      <th>time</th>\n",
       "    </tr>\n",
       "  </thead>\n",
       "  <tbody>\n",
       "    <tr>\n",
       "      <th>0</th>\n",
       "      <td>ngc</td>\n",
       "      <td>1.000000</td>\n",
       "      <td>1</td>\n",
       "      <td>2</td>\n",
       "      <td>150.149770</td>\n",
       "    </tr>\n",
       "    <tr>\n",
       "      <th>1</th>\n",
       "      <td>ngc</td>\n",
       "      <td>1.000000</td>\n",
       "      <td>101</td>\n",
       "      <td>2</td>\n",
       "      <td>150.534178</td>\n",
       "    </tr>\n",
       "    <tr>\n",
       "      <th>2</th>\n",
       "      <td>ngc</td>\n",
       "      <td>1.000000</td>\n",
       "      <td>33</td>\n",
       "      <td>2</td>\n",
       "      <td>151.334934</td>\n",
       "    </tr>\n",
       "    <tr>\n",
       "      <th>3</th>\n",
       "      <td>ngc</td>\n",
       "      <td>1.000000</td>\n",
       "      <td>12</td>\n",
       "      <td>2</td>\n",
       "      <td>151.996004</td>\n",
       "    </tr>\n",
       "    <tr>\n",
       "      <th>4</th>\n",
       "      <td>ngc</td>\n",
       "      <td>1.000000</td>\n",
       "      <td>0</td>\n",
       "      <td>2</td>\n",
       "      <td>150.816408</td>\n",
       "    </tr>\n",
       "    <tr>\n",
       "      <th>...</th>\n",
       "      <td>...</td>\n",
       "      <td>...</td>\n",
       "      <td>...</td>\n",
       "      <td>...</td>\n",
       "      <td>...</td>\n",
       "    </tr>\n",
       "    <tr>\n",
       "      <th>190</th>\n",
       "      <td>tvar</td>\n",
       "      <td>1.000000</td>\n",
       "      <td>1</td>\n",
       "      <td>8</td>\n",
       "      <td>683.885257</td>\n",
       "    </tr>\n",
       "    <tr>\n",
       "      <th>191</th>\n",
       "      <td>tvar</td>\n",
       "      <td>1.000000</td>\n",
       "      <td>101</td>\n",
       "      <td>8</td>\n",
       "      <td>697.559011</td>\n",
       "    </tr>\n",
       "    <tr>\n",
       "      <th>192</th>\n",
       "      <td>tvar</td>\n",
       "      <td>0.968750</td>\n",
       "      <td>33</td>\n",
       "      <td>8</td>\n",
       "      <td>580.896820</td>\n",
       "    </tr>\n",
       "    <tr>\n",
       "      <th>193</th>\n",
       "      <td>tvar</td>\n",
       "      <td>0.968750</td>\n",
       "      <td>12</td>\n",
       "      <td>8</td>\n",
       "      <td>654.793177</td>\n",
       "    </tr>\n",
       "    <tr>\n",
       "      <th>194</th>\n",
       "      <td>tvar</td>\n",
       "      <td>0.984375</td>\n",
       "      <td>0</td>\n",
       "      <td>8</td>\n",
       "      <td>526.407031</td>\n",
       "    </tr>\n",
       "  </tbody>\n",
       "</table>\n",
       "<p>195 rows × 5 columns</p>\n",
       "</div>"
      ],
      "text/plain": [
       "    model  accuracy  seed  n_data        time\n",
       "0     ngc  1.000000     1       2  150.149770\n",
       "1     ngc  1.000000   101       2  150.534178\n",
       "2     ngc  1.000000    33       2  151.334934\n",
       "3     ngc  1.000000    12       2  151.996004\n",
       "4     ngc  1.000000     0       2  150.816408\n",
       "..    ...       ...   ...     ...         ...\n",
       "190  tvar  1.000000     1       8  683.885257\n",
       "191  tvar  1.000000   101       8  697.559011\n",
       "192  tvar  0.968750    33       8  580.896820\n",
       "193  tvar  0.968750    12       8  654.793177\n",
       "194  tvar  0.984375     0       8  526.407031\n",
       "\n",
       "[195 rows x 5 columns]"
      ]
     },
     "execution_count": 14,
     "metadata": {},
     "output_type": "execute_result"
    }
   ],
   "source": [
    "df = pd.DataFrame(data=results)\n",
    "if save_loaded_results:\n",
    "    df.to_csv(f'results/{experiment}/processed_data_{experiment}.csv')\n",
    "    df = pd.read_csv(f'results/{experiment}/processed_data_{experiment}.csv', index_col='Unnamed: 0')\n",
    "df"
   ]
  },
  {
   "cell_type": "markdown",
   "metadata": {
    "jp-MarkdownHeadingCollapsed": true,
    "pycharm": {
     "name": "#%% md\n"
    },
    "tags": []
   },
   "source": [
    "# Experiment 4"
   ]
  },
  {
   "cell_type": "code",
   "execution_count": 106,
   "metadata": {
    "collapsed": false,
    "jupyter": {
     "outputs_hidden": false
    },
    "pycharm": {
     "name": "#%%\n"
    }
   },
   "outputs": [],
   "source": [
    "import pandas as pd\n",
    "\n",
    "save_loaded_results = False"
   ]
  },
  {
   "cell_type": "code",
   "execution_count": 110,
   "metadata": {
    "collapsed": false,
    "jupyter": {
     "outputs_hidden": false
    },
    "pycharm": {
     "name": "#%%\n"
    }
   },
   "outputs": [
    {
     "data": {
      "text/plain": [
       "dict_keys(['model', 'accuracy', 'seed', 'sparsity'])"
      ]
     },
     "execution_count": 110,
     "metadata": {},
     "output_type": "execute_result"
    }
   ],
   "source": [
    "# Get data\n",
    "experiment = '4'\n",
    "\n",
    "attrs = [\n",
    "    ('experiment_config', 'model'),\n",
    "    ('model_results', 'accuracy'),\n",
    "    ('experiment_config', 'seed'),\n",
    "    ('experiment_config', 'sparsity')\n",
    "]\n",
    "\n",
    "results = get_results(experiment, attrs)\n",
    "results.keys()"
   ]
  },
  {
   "cell_type": "code",
   "execution_count": 111,
   "metadata": {
    "collapsed": false,
    "jupyter": {
     "outputs_hidden": false
    },
    "pycharm": {
     "name": "#%%\n"
    }
   },
   "outputs": [
    {
     "data": {
      "text/html": [
       "<div>\n",
       "<style scoped>\n",
       "    .dataframe tbody tr th:only-of-type {\n",
       "        vertical-align: middle;\n",
       "    }\n",
       "\n",
       "    .dataframe tbody tr th {\n",
       "        vertical-align: top;\n",
       "    }\n",
       "\n",
       "    .dataframe thead th {\n",
       "        text-align: right;\n",
       "    }\n",
       "</style>\n",
       "<table border=\"1\" class=\"dataframe\">\n",
       "  <thead>\n",
       "    <tr style=\"text-align: right;\">\n",
       "      <th></th>\n",
       "      <th>model</th>\n",
       "      <th>accuracy</th>\n",
       "      <th>seed</th>\n",
       "      <th>sparsity</th>\n",
       "    </tr>\n",
       "  </thead>\n",
       "  <tbody>\n",
       "    <tr>\n",
       "      <th>0</th>\n",
       "      <td>ngc</td>\n",
       "      <td>1.0</td>\n",
       "      <td>1</td>\n",
       "      <td>0.125</td>\n",
       "    </tr>\n",
       "    <tr>\n",
       "      <th>1</th>\n",
       "      <td>ngc</td>\n",
       "      <td>1.0</td>\n",
       "      <td>101</td>\n",
       "      <td>0.125</td>\n",
       "    </tr>\n",
       "    <tr>\n",
       "      <th>2</th>\n",
       "      <td>ngc</td>\n",
       "      <td>1.0</td>\n",
       "      <td>33</td>\n",
       "      <td>0.125</td>\n",
       "    </tr>\n",
       "    <tr>\n",
       "      <th>3</th>\n",
       "      <td>ngc</td>\n",
       "      <td>1.0</td>\n",
       "      <td>12</td>\n",
       "      <td>0.125</td>\n",
       "    </tr>\n",
       "    <tr>\n",
       "      <th>4</th>\n",
       "      <td>ngc</td>\n",
       "      <td>1.0</td>\n",
       "      <td>0</td>\n",
       "      <td>0.125</td>\n",
       "    </tr>\n",
       "    <tr>\n",
       "      <th>...</th>\n",
       "      <td>...</td>\n",
       "      <td>...</td>\n",
       "      <td>...</td>\n",
       "      <td>...</td>\n",
       "    </tr>\n",
       "    <tr>\n",
       "      <th>155</th>\n",
       "      <td>tvar</td>\n",
       "      <td>1.0</td>\n",
       "      <td>1</td>\n",
       "      <td>1.000</td>\n",
       "    </tr>\n",
       "    <tr>\n",
       "      <th>156</th>\n",
       "      <td>tvar</td>\n",
       "      <td>1.0</td>\n",
       "      <td>101</td>\n",
       "      <td>1.000</td>\n",
       "    </tr>\n",
       "    <tr>\n",
       "      <th>157</th>\n",
       "      <td>tvar</td>\n",
       "      <td>1.0</td>\n",
       "      <td>33</td>\n",
       "      <td>1.000</td>\n",
       "    </tr>\n",
       "    <tr>\n",
       "      <th>158</th>\n",
       "      <td>tvar</td>\n",
       "      <td>1.0</td>\n",
       "      <td>12</td>\n",
       "      <td>1.000</td>\n",
       "    </tr>\n",
       "    <tr>\n",
       "      <th>159</th>\n",
       "      <td>tvar</td>\n",
       "      <td>1.0</td>\n",
       "      <td>0</td>\n",
       "      <td>1.000</td>\n",
       "    </tr>\n",
       "  </tbody>\n",
       "</table>\n",
       "<p>160 rows × 4 columns</p>\n",
       "</div>"
      ],
      "text/plain": [
       "    model  accuracy  seed  sparsity\n",
       "0     ngc       1.0     1     0.125\n",
       "1     ngc       1.0   101     0.125\n",
       "2     ngc       1.0    33     0.125\n",
       "3     ngc       1.0    12     0.125\n",
       "4     ngc       1.0     0     0.125\n",
       "..    ...       ...   ...       ...\n",
       "155  tvar       1.0     1     1.000\n",
       "156  tvar       1.0   101     1.000\n",
       "157  tvar       1.0    33     1.000\n",
       "158  tvar       1.0    12     1.000\n",
       "159  tvar       1.0     0     1.000\n",
       "\n",
       "[160 rows x 4 columns]"
      ]
     },
     "execution_count": 111,
     "metadata": {},
     "output_type": "execute_result"
    }
   ],
   "source": [
    "df = pd.DataFrame(data=results)\n",
    "if save_loaded_results:\n",
    "    df.to_csv(f'results/{experiment}/processed_data_{experiment}.csv')\n",
    "    df = pd.read_csv(f'results/{experiment}/processed_data_{experiment}.csv', index_col='Unnamed: 0')\n",
    "df"
   ]
  },
  {
   "cell_type": "markdown",
   "metadata": {
    "jp-MarkdownHeadingCollapsed": true,
    "pycharm": {
     "name": "#%% md\n"
    },
    "tags": []
   },
   "source": [
    "# Experiment 5"
   ]
  },
  {
   "cell_type": "code",
   "execution_count": 82,
   "metadata": {
    "collapsed": false,
    "jupyter": {
     "outputs_hidden": false
    },
    "pycharm": {
     "name": "#%%\n"
    }
   },
   "outputs": [],
   "source": [
    "import pandas as pd\n",
    "\n",
    "save_loaded_results = True"
   ]
  },
  {
   "cell_type": "code",
   "execution_count": 83,
   "metadata": {
    "collapsed": false,
    "jupyter": {
     "outputs_hidden": false
    },
    "pycharm": {
     "name": "#%%\n"
    }
   },
   "outputs": [
    {
     "data": {
      "text/plain": [
       "dict_keys(['model', 'accuracy', 'seed', 'c11', 'c12', 'c21', 'c22'])"
      ]
     },
     "execution_count": 83,
     "metadata": {},
     "output_type": "execute_result"
    }
   ],
   "source": [
    "# Get data\n",
    "experiment = '5'\n",
    "path = f'results/{experiment}'\n",
    "result_files = [f'results/{experiment}/{model_name}/{ex}/results.json' for model_name in os.listdir(path) if os.path.isdir(os.path.join(path, model_name)) for ex in os.listdir(os.path.join(path, model_name)) if os.path.isdir(os.path.join(path, model_name, ex))]\n",
    "\n",
    "attrs = [\n",
    "    ('experiment_config', 'model'),\n",
    "    ('model_results', 'accuracy'),\n",
    "    ('experiment_config', 'seed'),\n",
    "    ('experiment_config', 'c11'),\n",
    "    ('experiment_config', 'c12'),\n",
    "    ('experiment_config', 'c21'),\n",
    "    ('experiment_config', 'c22'),\n",
    "]\n",
    "\n",
    "results = get_results(experiment, attrs, result_files)\n",
    "results.keys()"
   ]
  },
  {
   "cell_type": "code",
   "execution_count": 84,
   "metadata": {
    "collapsed": false,
    "jupyter": {
     "outputs_hidden": false
    },
    "pycharm": {
     "name": "#%%\n"
    }
   },
   "outputs": [
    {
     "data": {
      "text/html": [
       "<div>\n",
       "<style scoped>\n",
       "    .dataframe tbody tr th:only-of-type {\n",
       "        vertical-align: middle;\n",
       "    }\n",
       "\n",
       "    .dataframe tbody tr th {\n",
       "        vertical-align: top;\n",
       "    }\n",
       "\n",
       "    .dataframe thead th {\n",
       "        text-align: right;\n",
       "    }\n",
       "</style>\n",
       "<table border=\"1\" class=\"dataframe\">\n",
       "  <thead>\n",
       "    <tr style=\"text-align: right;\">\n",
       "      <th></th>\n",
       "      <th>model</th>\n",
       "      <th>accuracy</th>\n",
       "      <th>seed</th>\n",
       "      <th>c11</th>\n",
       "      <th>c12</th>\n",
       "      <th>c21</th>\n",
       "      <th>c22</th>\n",
       "    </tr>\n",
       "  </thead>\n",
       "  <tbody>\n",
       "    <tr>\n",
       "      <th>0</th>\n",
       "      <td>ngc</td>\n",
       "      <td>0.75</td>\n",
       "      <td>1</td>\n",
       "      <td>0.9</td>\n",
       "      <td>0.4</td>\n",
       "      <td>0.0</td>\n",
       "      <td>0.9</td>\n",
       "    </tr>\n",
       "    <tr>\n",
       "      <th>1</th>\n",
       "      <td>ngc</td>\n",
       "      <td>0.75</td>\n",
       "      <td>101</td>\n",
       "      <td>0.9</td>\n",
       "      <td>0.4</td>\n",
       "      <td>0.0</td>\n",
       "      <td>0.9</td>\n",
       "    </tr>\n",
       "    <tr>\n",
       "      <th>2</th>\n",
       "      <td>ngc</td>\n",
       "      <td>0.75</td>\n",
       "      <td>33</td>\n",
       "      <td>0.9</td>\n",
       "      <td>0.4</td>\n",
       "      <td>0.0</td>\n",
       "      <td>0.9</td>\n",
       "    </tr>\n",
       "    <tr>\n",
       "      <th>3</th>\n",
       "      <td>ngc</td>\n",
       "      <td>0.75</td>\n",
       "      <td>12</td>\n",
       "      <td>0.9</td>\n",
       "      <td>0.4</td>\n",
       "      <td>0.0</td>\n",
       "      <td>0.9</td>\n",
       "    </tr>\n",
       "    <tr>\n",
       "      <th>4</th>\n",
       "      <td>ngc</td>\n",
       "      <td>0.75</td>\n",
       "      <td>0</td>\n",
       "      <td>0.9</td>\n",
       "      <td>0.4</td>\n",
       "      <td>0.0</td>\n",
       "      <td>0.9</td>\n",
       "    </tr>\n",
       "    <tr>\n",
       "      <th>...</th>\n",
       "      <td>...</td>\n",
       "      <td>...</td>\n",
       "      <td>...</td>\n",
       "      <td>...</td>\n",
       "      <td>...</td>\n",
       "      <td>...</td>\n",
       "      <td>...</td>\n",
       "    </tr>\n",
       "    <tr>\n",
       "      <th>75</th>\n",
       "      <td>tvar</td>\n",
       "      <td>0.50</td>\n",
       "      <td>1</td>\n",
       "      <td>0.8</td>\n",
       "      <td>0.1</td>\n",
       "      <td>0.1</td>\n",
       "      <td>0.8</td>\n",
       "    </tr>\n",
       "    <tr>\n",
       "      <th>76</th>\n",
       "      <td>tvar</td>\n",
       "      <td>0.50</td>\n",
       "      <td>101</td>\n",
       "      <td>0.8</td>\n",
       "      <td>0.1</td>\n",
       "      <td>0.1</td>\n",
       "      <td>0.8</td>\n",
       "    </tr>\n",
       "    <tr>\n",
       "      <th>77</th>\n",
       "      <td>tvar</td>\n",
       "      <td>0.00</td>\n",
       "      <td>33</td>\n",
       "      <td>0.8</td>\n",
       "      <td>0.1</td>\n",
       "      <td>0.1</td>\n",
       "      <td>0.8</td>\n",
       "    </tr>\n",
       "    <tr>\n",
       "      <th>78</th>\n",
       "      <td>tvar</td>\n",
       "      <td>0.50</td>\n",
       "      <td>12</td>\n",
       "      <td>0.8</td>\n",
       "      <td>0.1</td>\n",
       "      <td>0.1</td>\n",
       "      <td>0.8</td>\n",
       "    </tr>\n",
       "    <tr>\n",
       "      <th>79</th>\n",
       "      <td>tvar</td>\n",
       "      <td>0.25</td>\n",
       "      <td>0</td>\n",
       "      <td>0.8</td>\n",
       "      <td>0.1</td>\n",
       "      <td>0.1</td>\n",
       "      <td>0.8</td>\n",
       "    </tr>\n",
       "  </tbody>\n",
       "</table>\n",
       "<p>80 rows × 7 columns</p>\n",
       "</div>"
      ],
      "text/plain": [
       "   model  accuracy  seed  c11  c12  c21  c22\n",
       "0    ngc      0.75     1  0.9  0.4  0.0  0.9\n",
       "1    ngc      0.75   101  0.9  0.4  0.0  0.9\n",
       "2    ngc      0.75    33  0.9  0.4  0.0  0.9\n",
       "3    ngc      0.75    12  0.9  0.4  0.0  0.9\n",
       "4    ngc      0.75     0  0.9  0.4  0.0  0.9\n",
       "..   ...       ...   ...  ...  ...  ...  ...\n",
       "75  tvar      0.50     1  0.8  0.1  0.1  0.8\n",
       "76  tvar      0.50   101  0.8  0.1  0.1  0.8\n",
       "77  tvar      0.00    33  0.8  0.1  0.1  0.8\n",
       "78  tvar      0.50    12  0.8  0.1  0.1  0.8\n",
       "79  tvar      0.25     0  0.8  0.1  0.1  0.8\n",
       "\n",
       "[80 rows x 7 columns]"
      ]
     },
     "execution_count": 84,
     "metadata": {},
     "output_type": "execute_result"
    }
   ],
   "source": [
    "df = pd.DataFrame(data=results)\n",
    "if save_loaded_results:\n",
    "    df.to_csv(f'results/5/processed_data_{experiment}.csv')\n",
    "    df = pd.read_csv(f'results/5/processed_data_{experiment}.csv', index_col='Unnamed: 0')\n",
    "df"
   ]
  },
  {
   "cell_type": "markdown",
   "metadata": {
    "jp-MarkdownHeadingCollapsed": true,
    "pycharm": {
     "name": "#%% md\n"
    },
    "tags": []
   },
   "source": [
    "# Experiment 6"
   ]
  },
  {
   "cell_type": "code",
   "execution_count": 32,
   "metadata": {
    "collapsed": false,
    "jupyter": {
     "outputs_hidden": false
    },
    "pycharm": {
     "name": "#%%\n"
    }
   },
   "outputs": [],
   "source": [
    "import pandas as pd\n",
    "\n",
    "save_loaded_results = False"
   ]
  },
  {
   "cell_type": "code",
   "execution_count": 33,
   "metadata": {
    "collapsed": false,
    "jupyter": {
     "outputs_hidden": false
    },
    "pycharm": {
     "name": "#%%\n"
    }
   },
   "outputs": [
    {
     "data": {
      "text/plain": [
       "dict_keys(['model', 'full_dataset_bi_hvar_acc', 'full_dataset_full_hvar_acc', 'full_dataset_pds_lm_hvar_acc', 'seed', 'tvt_split'])"
      ]
     },
     "execution_count": 33,
     "metadata": {},
     "output_type": "execute_result"
    }
   ],
   "source": [
    "# Get data\n",
    "experiment = '6'\n",
    "\n",
    "attrs = [\n",
    "    ('experiment_config', 'model'),\n",
    "    ('model_results', 'accuracy'),\n",
    "    ('experiment_config', 'seed'),\n",
    "    ('experiment_config', 'tvt_split')\n",
    "]\n",
    "\n",
    "results = get_results(experiment, attrs)\n",
    "results.keys()"
   ]
  },
  {
   "cell_type": "code",
   "execution_count": 34,
   "metadata": {
    "collapsed": false,
    "jupyter": {
     "outputs_hidden": false
    },
    "pycharm": {
     "name": "#%%\n"
    }
   },
   "outputs": [
    {
     "data": {
      "text/html": [
       "<div>\n",
       "<style scoped>\n",
       "    .dataframe tbody tr th:only-of-type {\n",
       "        vertical-align: middle;\n",
       "    }\n",
       "\n",
       "    .dataframe tbody tr th {\n",
       "        vertical-align: top;\n",
       "    }\n",
       "\n",
       "    .dataframe thead th {\n",
       "        text-align: right;\n",
       "    }\n",
       "</style>\n",
       "<table border=\"1\" class=\"dataframe\">\n",
       "  <thead>\n",
       "    <tr style=\"text-align: right;\">\n",
       "      <th></th>\n",
       "      <th>model</th>\n",
       "      <th>full_dataset_bi_hvar_acc</th>\n",
       "      <th>full_dataset_full_hvar_acc</th>\n",
       "      <th>full_dataset_pds_lm_hvar_acc</th>\n",
       "      <th>seed</th>\n",
       "      <th>tvt_split</th>\n",
       "    </tr>\n",
       "  </thead>\n",
       "  <tbody>\n",
       "    <tr>\n",
       "      <th>0</th>\n",
       "      <td>ngc</td>\n",
       "      <td>1.0</td>\n",
       "      <td>0.125556</td>\n",
       "      <td>0.136667</td>\n",
       "      <td>1</td>\n",
       "      <td>0.1</td>\n",
       "    </tr>\n",
       "    <tr>\n",
       "      <th>1</th>\n",
       "      <td>ngc</td>\n",
       "      <td>1.0</td>\n",
       "      <td>0.125556</td>\n",
       "      <td>0.136667</td>\n",
       "      <td>101</td>\n",
       "      <td>0.1</td>\n",
       "    </tr>\n",
       "    <tr>\n",
       "      <th>2</th>\n",
       "      <td>ngc</td>\n",
       "      <td>1.0</td>\n",
       "      <td>0.125556</td>\n",
       "      <td>0.136667</td>\n",
       "      <td>33</td>\n",
       "      <td>0.1</td>\n",
       "    </tr>\n",
       "    <tr>\n",
       "      <th>3</th>\n",
       "      <td>ngc</td>\n",
       "      <td>1.0</td>\n",
       "      <td>0.125556</td>\n",
       "      <td>0.136667</td>\n",
       "      <td>12</td>\n",
       "      <td>0.1</td>\n",
       "    </tr>\n",
       "    <tr>\n",
       "      <th>4</th>\n",
       "      <td>ngc</td>\n",
       "      <td>1.0</td>\n",
       "      <td>0.125556</td>\n",
       "      <td>0.136667</td>\n",
       "      <td>0</td>\n",
       "      <td>0.1</td>\n",
       "    </tr>\n",
       "    <tr>\n",
       "      <th>...</th>\n",
       "      <td>...</td>\n",
       "      <td>...</td>\n",
       "      <td>...</td>\n",
       "      <td>...</td>\n",
       "      <td>...</td>\n",
       "      <td>...</td>\n",
       "    </tr>\n",
       "    <tr>\n",
       "      <th>95</th>\n",
       "      <td>tvar</td>\n",
       "      <td>0.0</td>\n",
       "      <td>0.874444</td>\n",
       "      <td>0.863333</td>\n",
       "      <td>1</td>\n",
       "      <td>1.0</td>\n",
       "    </tr>\n",
       "    <tr>\n",
       "      <th>96</th>\n",
       "      <td>tvar</td>\n",
       "      <td>0.0</td>\n",
       "      <td>0.874444</td>\n",
       "      <td>0.863333</td>\n",
       "      <td>101</td>\n",
       "      <td>1.0</td>\n",
       "    </tr>\n",
       "    <tr>\n",
       "      <th>97</th>\n",
       "      <td>tvar</td>\n",
       "      <td>0.0</td>\n",
       "      <td>0.874444</td>\n",
       "      <td>0.863333</td>\n",
       "      <td>33</td>\n",
       "      <td>1.0</td>\n",
       "    </tr>\n",
       "    <tr>\n",
       "      <th>98</th>\n",
       "      <td>tvar</td>\n",
       "      <td>0.0</td>\n",
       "      <td>0.874444</td>\n",
       "      <td>0.863333</td>\n",
       "      <td>12</td>\n",
       "      <td>1.0</td>\n",
       "    </tr>\n",
       "    <tr>\n",
       "      <th>99</th>\n",
       "      <td>tvar</td>\n",
       "      <td>0.0</td>\n",
       "      <td>0.874444</td>\n",
       "      <td>0.863333</td>\n",
       "      <td>0</td>\n",
       "      <td>1.0</td>\n",
       "    </tr>\n",
       "  </tbody>\n",
       "</table>\n",
       "<p>100 rows × 6 columns</p>\n",
       "</div>"
      ],
      "text/plain": [
       "   model  full_dataset_bi_hvar_acc  full_dataset_full_hvar_acc  \\\n",
       "0    ngc                       1.0                    0.125556   \n",
       "1    ngc                       1.0                    0.125556   \n",
       "2    ngc                       1.0                    0.125556   \n",
       "3    ngc                       1.0                    0.125556   \n",
       "4    ngc                       1.0                    0.125556   \n",
       "..   ...                       ...                         ...   \n",
       "95  tvar                       0.0                    0.874444   \n",
       "96  tvar                       0.0                    0.874444   \n",
       "97  tvar                       0.0                    0.874444   \n",
       "98  tvar                       0.0                    0.874444   \n",
       "99  tvar                       0.0                    0.874444   \n",
       "\n",
       "    full_dataset_pds_lm_hvar_acc  seed  tvt_split  \n",
       "0                       0.136667     1        0.1  \n",
       "1                       0.136667   101        0.1  \n",
       "2                       0.136667    33        0.1  \n",
       "3                       0.136667    12        0.1  \n",
       "4                       0.136667     0        0.1  \n",
       "..                           ...   ...        ...  \n",
       "95                      0.863333     1        1.0  \n",
       "96                      0.863333   101        1.0  \n",
       "97                      0.863333    33        1.0  \n",
       "98                      0.863333    12        1.0  \n",
       "99                      0.863333     0        1.0  \n",
       "\n",
       "[100 rows x 6 columns]"
      ]
     },
     "execution_count": 34,
     "metadata": {},
     "output_type": "execute_result"
    }
   ],
   "source": [
    "df = pd.DataFrame(data=results)\n",
    "if save_loaded_results:\n",
    "    df.to_csv(f'results/{experiment}/processed_data_{experiment}.csv')\n",
    "    df = pd.read_csv(f'results/{experiment}/processed_data_{experiment}.csv', index_col='Unnamed: 0')\n",
    "df"
   ]
  },
  {
   "cell_type": "markdown",
   "metadata": {
    "pycharm": {
     "name": "#%% md\n"
    },
    "tags": []
   },
   "source": [
    "# Experiment 7 - Full Real Data"
   ]
  },
  {
   "cell_type": "code",
   "execution_count": 27,
   "metadata": {
    "collapsed": false,
    "jupyter": {
     "outputs_hidden": false
    },
    "pycharm": {
     "name": "#%%\n"
    }
   },
   "outputs": [],
   "source": [
    "import pandas as pd\n",
    "\n",
    "save_loaded_results = True"
   ]
  },
  {
   "cell_type": "code",
   "execution_count": 30,
   "metadata": {
    "collapsed": false,
    "jupyter": {
     "outputs_hidden": false
    },
    "pycharm": {
     "name": "#%%\n"
    }
   },
   "outputs": [
    {
     "data": {
      "text/plain": [
       "dict_keys(['model', 'full_dataset_bi_hvar_acc', 'full_dataset_full_hvar_acc', 'full_dataset_pds_lm_hvar_acc', 'seed'])"
      ]
     },
     "execution_count": 30,
     "metadata": {},
     "output_type": "execute_result"
    }
   ],
   "source": [
    "# Get data\n",
    "experiment = 'SVM/500'\n",
    "\n",
    "attrs = [\n",
    "    ('experiment_config', 'model'),\n",
    "    ('model_results', 'accuracy'),\n",
    "    ('experiment_config', 'seed'),\n",
    "]\n",
    "\n",
    "results = get_results(experiment, attrs)\n",
    "results.keys()"
   ]
  },
  {
   "cell_type": "code",
   "execution_count": 31,
   "metadata": {
    "collapsed": false,
    "jupyter": {
     "outputs_hidden": false
    },
    "pycharm": {
     "name": "#%%\n"
    }
   },
   "outputs": [
    {
     "data": {
      "text/html": [
       "<div>\n",
       "<style scoped>\n",
       "    .dataframe tbody tr th:only-of-type {\n",
       "        vertical-align: middle;\n",
       "    }\n",
       "\n",
       "    .dataframe tbody tr th {\n",
       "        vertical-align: top;\n",
       "    }\n",
       "\n",
       "    .dataframe thead th {\n",
       "        text-align: right;\n",
       "    }\n",
       "</style>\n",
       "<table border=\"1\" class=\"dataframe\">\n",
       "  <thead>\n",
       "    <tr style=\"text-align: right;\">\n",
       "      <th></th>\n",
       "      <th>model</th>\n",
       "      <th>full_dataset_bi_hvar_acc</th>\n",
       "      <th>full_dataset_full_hvar_acc</th>\n",
       "      <th>full_dataset_pds_lm_hvar_acc</th>\n",
       "      <th>seed</th>\n",
       "    </tr>\n",
       "  </thead>\n",
       "  <tbody>\n",
       "    <tr>\n",
       "      <th>0</th>\n",
       "      <td>ngc</td>\n",
       "      <td>1.000000</td>\n",
       "      <td>0.162630</td>\n",
       "      <td>0.176471</td>\n",
       "      <td>1</td>\n",
       "    </tr>\n",
       "    <tr>\n",
       "      <th>1</th>\n",
       "      <td>ngc0</td>\n",
       "      <td>1.000000</td>\n",
       "      <td>0.162630</td>\n",
       "      <td>0.176471</td>\n",
       "      <td>1</td>\n",
       "    </tr>\n",
       "    <tr>\n",
       "      <th>2</th>\n",
       "      <td>ngc0</td>\n",
       "      <td>1.000000</td>\n",
       "      <td>0.162630</td>\n",
       "      <td>0.176471</td>\n",
       "      <td>101</td>\n",
       "    </tr>\n",
       "    <tr>\n",
       "      <th>3</th>\n",
       "      <td>ngc0</td>\n",
       "      <td>1.000000</td>\n",
       "      <td>0.162630</td>\n",
       "      <td>0.176471</td>\n",
       "      <td>33</td>\n",
       "    </tr>\n",
       "    <tr>\n",
       "      <th>4</th>\n",
       "      <td>ngc0</td>\n",
       "      <td>1.000000</td>\n",
       "      <td>0.162630</td>\n",
       "      <td>0.176471</td>\n",
       "      <td>12</td>\n",
       "    </tr>\n",
       "    <tr>\n",
       "      <th>...</th>\n",
       "      <td>...</td>\n",
       "      <td>...</td>\n",
       "      <td>...</td>\n",
       "      <td>...</td>\n",
       "      <td>...</td>\n",
       "    </tr>\n",
       "    <tr>\n",
       "      <th>56</th>\n",
       "      <td>tvar</td>\n",
       "      <td>0.247778</td>\n",
       "      <td>0.731111</td>\n",
       "      <td>0.722222</td>\n",
       "      <td>1</td>\n",
       "    </tr>\n",
       "    <tr>\n",
       "      <th>57</th>\n",
       "      <td>tvar</td>\n",
       "      <td>0.247778</td>\n",
       "      <td>0.731111</td>\n",
       "      <td>0.722222</td>\n",
       "      <td>101</td>\n",
       "    </tr>\n",
       "    <tr>\n",
       "      <th>58</th>\n",
       "      <td>tvar</td>\n",
       "      <td>0.247778</td>\n",
       "      <td>0.731111</td>\n",
       "      <td>0.722222</td>\n",
       "      <td>33</td>\n",
       "    </tr>\n",
       "    <tr>\n",
       "      <th>59</th>\n",
       "      <td>tvar</td>\n",
       "      <td>0.247778</td>\n",
       "      <td>0.731111</td>\n",
       "      <td>0.722222</td>\n",
       "      <td>12</td>\n",
       "    </tr>\n",
       "    <tr>\n",
       "      <th>60</th>\n",
       "      <td>tvar</td>\n",
       "      <td>0.247778</td>\n",
       "      <td>0.731111</td>\n",
       "      <td>0.722222</td>\n",
       "      <td>0</td>\n",
       "    </tr>\n",
       "  </tbody>\n",
       "</table>\n",
       "<p>61 rows × 5 columns</p>\n",
       "</div>"
      ],
      "text/plain": [
       "   model  full_dataset_bi_hvar_acc  full_dataset_full_hvar_acc  \\\n",
       "0    ngc                  1.000000                    0.162630   \n",
       "1   ngc0                  1.000000                    0.162630   \n",
       "2   ngc0                  1.000000                    0.162630   \n",
       "3   ngc0                  1.000000                    0.162630   \n",
       "4   ngc0                  1.000000                    0.162630   \n",
       "..   ...                       ...                         ...   \n",
       "56  tvar                  0.247778                    0.731111   \n",
       "57  tvar                  0.247778                    0.731111   \n",
       "58  tvar                  0.247778                    0.731111   \n",
       "59  tvar                  0.247778                    0.731111   \n",
       "60  tvar                  0.247778                    0.731111   \n",
       "\n",
       "    full_dataset_pds_lm_hvar_acc  seed  \n",
       "0                       0.176471     1  \n",
       "1                       0.176471     1  \n",
       "2                       0.176471   101  \n",
       "3                       0.176471    33  \n",
       "4                       0.176471    12  \n",
       "..                           ...   ...  \n",
       "56                      0.722222     1  \n",
       "57                      0.722222   101  \n",
       "58                      0.722222    33  \n",
       "59                      0.722222    12  \n",
       "60                      0.722222     0  \n",
       "\n",
       "[61 rows x 5 columns]"
      ]
     },
     "execution_count": 31,
     "metadata": {},
     "output_type": "execute_result"
    }
   ],
   "source": [
    "df = pd.DataFrame(data=results)\n",
    "if save_loaded_results:\n",
    "    df.to_csv(f'results/{experiment}/processed_data_{experiment.split(\"/\")[1]}.csv')\n",
    "    df = pd.read_csv(f'results/{experiment}/processed_data_{experiment.split(\"/\")[1]}.csv', index_col='Unnamed: 0')\n",
    "df"
   ]
  },
  {
   "cell_type": "markdown",
   "metadata": {
    "pycharm": {
     "name": "#%% md\n"
    },
    "tags": []
   },
   "source": [
    "# Experiment 8 - Part Real Data"
   ]
  },
  {
   "cell_type": "code",
   "execution_count": 24,
   "metadata": {
    "collapsed": false,
    "jupyter": {
     "outputs_hidden": false
    },
    "pycharm": {
     "name": "#%%\n"
    }
   },
   "outputs": [],
   "source": [
    "import pandas as pd\n",
    "\n",
    "save_loaded_results = True"
   ]
  },
  {
   "cell_type": "code",
   "execution_count": 25,
   "metadata": {
    "collapsed": false,
    "jupyter": {
     "outputs_hidden": false
    },
    "pycharm": {
     "name": "#%%\n"
    }
   },
   "outputs": [
    {
     "data": {
      "text/plain": [
       "dict_keys(['model', 'part_dataset_bi_hvar_acc', 'part_dataset_full_hvar_acc', 'part_dataset_pds_lm_hvar_acc', 'seed'])"
      ]
     },
     "execution_count": 25,
     "metadata": {},
     "output_type": "execute_result"
    }
   ],
   "source": [
    "# Get data\n",
    "experiment = 'SVM/501'\n",
    "\n",
    "attrs = [\n",
    "    ('experiment_config', 'model'),\n",
    "    ('model_results', 'accuracy'),\n",
    "    ('experiment_config', 'seed'),\n",
    "]\n",
    "\n",
    "results = get_results(experiment, attrs)\n",
    "results.keys()"
   ]
  },
  {
   "cell_type": "code",
   "execution_count": 26,
   "metadata": {
    "collapsed": false,
    "jupyter": {
     "outputs_hidden": false
    },
    "pycharm": {
     "name": "#%%\n"
    }
   },
   "outputs": [
    {
     "data": {
      "text/html": [
       "<div>\n",
       "<style scoped>\n",
       "    .dataframe tbody tr th:only-of-type {\n",
       "        vertical-align: middle;\n",
       "    }\n",
       "\n",
       "    .dataframe tbody tr th {\n",
       "        vertical-align: top;\n",
       "    }\n",
       "\n",
       "    .dataframe thead th {\n",
       "        text-align: right;\n",
       "    }\n",
       "</style>\n",
       "<table border=\"1\" class=\"dataframe\">\n",
       "  <thead>\n",
       "    <tr style=\"text-align: right;\">\n",
       "      <th></th>\n",
       "      <th>model</th>\n",
       "      <th>part_dataset_bi_hvar_acc</th>\n",
       "      <th>part_dataset_full_hvar_acc</th>\n",
       "      <th>part_dataset_pds_lm_hvar_acc</th>\n",
       "      <th>seed</th>\n",
       "    </tr>\n",
       "  </thead>\n",
       "  <tbody>\n",
       "    <tr>\n",
       "      <th>0</th>\n",
       "      <td>ngc</td>\n",
       "      <td>0.166090</td>\n",
       "      <td>0.069204</td>\n",
       "      <td>0.176471</td>\n",
       "      <td>1</td>\n",
       "    </tr>\n",
       "    <tr>\n",
       "      <th>1</th>\n",
       "      <td>ngc</td>\n",
       "      <td>0.166090</td>\n",
       "      <td>0.069204</td>\n",
       "      <td>0.176471</td>\n",
       "      <td>101</td>\n",
       "    </tr>\n",
       "    <tr>\n",
       "      <th>2</th>\n",
       "      <td>ngc</td>\n",
       "      <td>0.166090</td>\n",
       "      <td>0.069204</td>\n",
       "      <td>0.176471</td>\n",
       "      <td>33</td>\n",
       "    </tr>\n",
       "    <tr>\n",
       "      <th>3</th>\n",
       "      <td>ngc</td>\n",
       "      <td>0.166090</td>\n",
       "      <td>0.069204</td>\n",
       "      <td>0.176471</td>\n",
       "      <td>12</td>\n",
       "    </tr>\n",
       "    <tr>\n",
       "      <th>4</th>\n",
       "      <td>ngc</td>\n",
       "      <td>0.166090</td>\n",
       "      <td>0.069204</td>\n",
       "      <td>0.176471</td>\n",
       "      <td>0</td>\n",
       "    </tr>\n",
       "    <tr>\n",
       "      <th>5</th>\n",
       "      <td>ngc0</td>\n",
       "      <td>0.166090</td>\n",
       "      <td>0.069204</td>\n",
       "      <td>0.176471</td>\n",
       "      <td>1</td>\n",
       "    </tr>\n",
       "    <tr>\n",
       "      <th>6</th>\n",
       "      <td>ngc0</td>\n",
       "      <td>0.166090</td>\n",
       "      <td>0.069204</td>\n",
       "      <td>0.176471</td>\n",
       "      <td>101</td>\n",
       "    </tr>\n",
       "    <tr>\n",
       "      <th>7</th>\n",
       "      <td>ngc0</td>\n",
       "      <td>0.166090</td>\n",
       "      <td>0.069204</td>\n",
       "      <td>0.176471</td>\n",
       "      <td>33</td>\n",
       "    </tr>\n",
       "    <tr>\n",
       "      <th>8</th>\n",
       "      <td>ngc0</td>\n",
       "      <td>0.166090</td>\n",
       "      <td>0.069204</td>\n",
       "      <td>0.176471</td>\n",
       "      <td>12</td>\n",
       "    </tr>\n",
       "    <tr>\n",
       "      <th>9</th>\n",
       "      <td>ngc0</td>\n",
       "      <td>0.166090</td>\n",
       "      <td>0.069204</td>\n",
       "      <td>0.176471</td>\n",
       "      <td>0</td>\n",
       "    </tr>\n",
       "    <tr>\n",
       "      <th>10</th>\n",
       "      <td>ngc_lstm</td>\n",
       "      <td>0.166090</td>\n",
       "      <td>0.069204</td>\n",
       "      <td>0.176471</td>\n",
       "      <td>1</td>\n",
       "    </tr>\n",
       "    <tr>\n",
       "      <th>11</th>\n",
       "      <td>ngc_lstm</td>\n",
       "      <td>0.166090</td>\n",
       "      <td>0.069204</td>\n",
       "      <td>0.176471</td>\n",
       "      <td>101</td>\n",
       "    </tr>\n",
       "    <tr>\n",
       "      <th>12</th>\n",
       "      <td>ngc_lstm</td>\n",
       "      <td>0.166090</td>\n",
       "      <td>0.069204</td>\n",
       "      <td>0.176471</td>\n",
       "      <td>33</td>\n",
       "    </tr>\n",
       "    <tr>\n",
       "      <th>13</th>\n",
       "      <td>ngc_lstm</td>\n",
       "      <td>0.166090</td>\n",
       "      <td>0.069204</td>\n",
       "      <td>0.176471</td>\n",
       "      <td>12</td>\n",
       "    </tr>\n",
       "    <tr>\n",
       "      <th>14</th>\n",
       "      <td>ngc_lstm</td>\n",
       "      <td>0.166090</td>\n",
       "      <td>0.069204</td>\n",
       "      <td>0.176471</td>\n",
       "      <td>0</td>\n",
       "    </tr>\n",
       "    <tr>\n",
       "      <th>15</th>\n",
       "      <td>ngc_srsv</td>\n",
       "      <td>0.166090</td>\n",
       "      <td>0.069204</td>\n",
       "      <td>0.176471</td>\n",
       "      <td>1</td>\n",
       "    </tr>\n",
       "    <tr>\n",
       "      <th>16</th>\n",
       "      <td>ngc_srsv</td>\n",
       "      <td>0.166090</td>\n",
       "      <td>0.069204</td>\n",
       "      <td>0.176471</td>\n",
       "      <td>101</td>\n",
       "    </tr>\n",
       "    <tr>\n",
       "      <th>17</th>\n",
       "      <td>ngc_srsv</td>\n",
       "      <td>0.166090</td>\n",
       "      <td>0.069204</td>\n",
       "      <td>0.176471</td>\n",
       "      <td>33</td>\n",
       "    </tr>\n",
       "    <tr>\n",
       "      <th>18</th>\n",
       "      <td>ngc_srsv</td>\n",
       "      <td>0.166090</td>\n",
       "      <td>0.069204</td>\n",
       "      <td>0.176471</td>\n",
       "      <td>12</td>\n",
       "    </tr>\n",
       "    <tr>\n",
       "      <th>19</th>\n",
       "      <td>ngc_srsv</td>\n",
       "      <td>0.166090</td>\n",
       "      <td>0.069204</td>\n",
       "      <td>0.176471</td>\n",
       "      <td>0</td>\n",
       "    </tr>\n",
       "    <tr>\n",
       "      <th>20</th>\n",
       "      <td>nri</td>\n",
       "      <td>0.836667</td>\n",
       "      <td>0.918889</td>\n",
       "      <td>0.835556</td>\n",
       "      <td>1</td>\n",
       "    </tr>\n",
       "    <tr>\n",
       "      <th>21</th>\n",
       "      <td>nri</td>\n",
       "      <td>0.866667</td>\n",
       "      <td>0.960000</td>\n",
       "      <td>0.870000</td>\n",
       "      <td>101</td>\n",
       "    </tr>\n",
       "    <tr>\n",
       "      <th>22</th>\n",
       "      <td>nri</td>\n",
       "      <td>0.762222</td>\n",
       "      <td>0.831111</td>\n",
       "      <td>0.767778</td>\n",
       "      <td>33</td>\n",
       "    </tr>\n",
       "    <tr>\n",
       "      <th>23</th>\n",
       "      <td>nri</td>\n",
       "      <td>0.770000</td>\n",
       "      <td>0.830000</td>\n",
       "      <td>0.773333</td>\n",
       "      <td>12</td>\n",
       "    </tr>\n",
       "    <tr>\n",
       "      <th>24</th>\n",
       "      <td>nri</td>\n",
       "      <td>0.837778</td>\n",
       "      <td>0.915556</td>\n",
       "      <td>0.834444</td>\n",
       "      <td>0</td>\n",
       "    </tr>\n",
       "    <tr>\n",
       "      <th>25</th>\n",
       "      <td>tvar</td>\n",
       "      <td>0.867778</td>\n",
       "      <td>0.961111</td>\n",
       "      <td>0.871111</td>\n",
       "      <td>1</td>\n",
       "    </tr>\n",
       "    <tr>\n",
       "      <th>26</th>\n",
       "      <td>tvar</td>\n",
       "      <td>0.867778</td>\n",
       "      <td>0.961111</td>\n",
       "      <td>0.871111</td>\n",
       "      <td>101</td>\n",
       "    </tr>\n",
       "    <tr>\n",
       "      <th>27</th>\n",
       "      <td>tvar</td>\n",
       "      <td>0.867778</td>\n",
       "      <td>0.961111</td>\n",
       "      <td>0.871111</td>\n",
       "      <td>33</td>\n",
       "    </tr>\n",
       "    <tr>\n",
       "      <th>28</th>\n",
       "      <td>tvar</td>\n",
       "      <td>0.867778</td>\n",
       "      <td>0.961111</td>\n",
       "      <td>0.871111</td>\n",
       "      <td>12</td>\n",
       "    </tr>\n",
       "    <tr>\n",
       "      <th>29</th>\n",
       "      <td>tvar</td>\n",
       "      <td>0.867778</td>\n",
       "      <td>0.961111</td>\n",
       "      <td>0.871111</td>\n",
       "      <td>0</td>\n",
       "    </tr>\n",
       "  </tbody>\n",
       "</table>\n",
       "</div>"
      ],
      "text/plain": [
       "       model  part_dataset_bi_hvar_acc  part_dataset_full_hvar_acc  \\\n",
       "0        ngc                  0.166090                    0.069204   \n",
       "1        ngc                  0.166090                    0.069204   \n",
       "2        ngc                  0.166090                    0.069204   \n",
       "3        ngc                  0.166090                    0.069204   \n",
       "4        ngc                  0.166090                    0.069204   \n",
       "5       ngc0                  0.166090                    0.069204   \n",
       "6       ngc0                  0.166090                    0.069204   \n",
       "7       ngc0                  0.166090                    0.069204   \n",
       "8       ngc0                  0.166090                    0.069204   \n",
       "9       ngc0                  0.166090                    0.069204   \n",
       "10  ngc_lstm                  0.166090                    0.069204   \n",
       "11  ngc_lstm                  0.166090                    0.069204   \n",
       "12  ngc_lstm                  0.166090                    0.069204   \n",
       "13  ngc_lstm                  0.166090                    0.069204   \n",
       "14  ngc_lstm                  0.166090                    0.069204   \n",
       "15  ngc_srsv                  0.166090                    0.069204   \n",
       "16  ngc_srsv                  0.166090                    0.069204   \n",
       "17  ngc_srsv                  0.166090                    0.069204   \n",
       "18  ngc_srsv                  0.166090                    0.069204   \n",
       "19  ngc_srsv                  0.166090                    0.069204   \n",
       "20       nri                  0.836667                    0.918889   \n",
       "21       nri                  0.866667                    0.960000   \n",
       "22       nri                  0.762222                    0.831111   \n",
       "23       nri                  0.770000                    0.830000   \n",
       "24       nri                  0.837778                    0.915556   \n",
       "25      tvar                  0.867778                    0.961111   \n",
       "26      tvar                  0.867778                    0.961111   \n",
       "27      tvar                  0.867778                    0.961111   \n",
       "28      tvar                  0.867778                    0.961111   \n",
       "29      tvar                  0.867778                    0.961111   \n",
       "\n",
       "    part_dataset_pds_lm_hvar_acc  seed  \n",
       "0                       0.176471     1  \n",
       "1                       0.176471   101  \n",
       "2                       0.176471    33  \n",
       "3                       0.176471    12  \n",
       "4                       0.176471     0  \n",
       "5                       0.176471     1  \n",
       "6                       0.176471   101  \n",
       "7                       0.176471    33  \n",
       "8                       0.176471    12  \n",
       "9                       0.176471     0  \n",
       "10                      0.176471     1  \n",
       "11                      0.176471   101  \n",
       "12                      0.176471    33  \n",
       "13                      0.176471    12  \n",
       "14                      0.176471     0  \n",
       "15                      0.176471     1  \n",
       "16                      0.176471   101  \n",
       "17                      0.176471    33  \n",
       "18                      0.176471    12  \n",
       "19                      0.176471     0  \n",
       "20                      0.835556     1  \n",
       "21                      0.870000   101  \n",
       "22                      0.767778    33  \n",
       "23                      0.773333    12  \n",
       "24                      0.834444     0  \n",
       "25                      0.871111     1  \n",
       "26                      0.871111   101  \n",
       "27                      0.871111    33  \n",
       "28                      0.871111    12  \n",
       "29                      0.871111     0  "
      ]
     },
     "execution_count": 26,
     "metadata": {},
     "output_type": "execute_result"
    }
   ],
   "source": [
    "df = pd.DataFrame(data=results)\n",
    "if save_loaded_results:\n",
    "    df.to_csv(f'results/{experiment}/processed_data_{experiment.split(\"/\")[1]}.csv')\n",
    "    df = pd.read_csv(f'results/{experiment}/processed_data_{experiment.split(\"/\")[1]}.csv', index_col='Unnamed: 0')\n",
    "df"
   ]
  },
  {
   "cell_type": "markdown",
   "metadata": {
    "jp-MarkdownHeadingCollapsed": true,
    "pycharm": {
     "name": "#%% md\n"
    },
    "tags": []
   },
   "source": [
    "# Experiment 9"
   ]
  },
  {
   "cell_type": "code",
   "execution_count": 9,
   "metadata": {
    "collapsed": false,
    "jupyter": {
     "outputs_hidden": false
    },
    "pycharm": {
     "name": "#%%\n"
    }
   },
   "outputs": [],
   "source": [
    "import pandas as pd\n",
    "\n",
    "save_loaded_results = True"
   ]
  },
  {
   "cell_type": "code",
   "execution_count": 10,
   "metadata": {
    "collapsed": false,
    "jupyter": {
     "outputs_hidden": false
    },
    "pycharm": {
     "name": "#%%\n"
    }
   },
   "outputs": [
    {
     "data": {
      "text/plain": [
       "dict_keys(['model', 'accuracy', 'seed', 'c11', 'c12', 'c21', 'c22', 'sigma_eta_diag', 'sigma_eta_off_diag'])"
      ]
     },
     "execution_count": 10,
     "metadata": {},
     "output_type": "execute_result"
    }
   ],
   "source": [
    "# Get data\n",
    "experiment = '9'\n",
    "\n",
    "attrs = [\n",
    "    ('experiment_config', 'model'),\n",
    "    ('model_results', 'accuracy'),\n",
    "    ('experiment_config', 'seed'),\n",
    "    ('experiment_config', 'c11'),\n",
    "    ('experiment_config', 'c12'),\n",
    "    ('experiment_config', 'c21'),\n",
    "    ('experiment_config', 'c22'),\n",
    "    ('experiment_config', 'sigma_eta_diag'),\n",
    "    ('experiment_config', 'sigma_eta_off_diag')\n",
    "]\n",
    "\n",
    "results = get_results(experiment, attrs)\n",
    "results.keys()"
   ]
  },
  {
   "cell_type": "code",
   "execution_count": 11,
   "metadata": {
    "collapsed": false,
    "jupyter": {
     "outputs_hidden": false
    },
    "pycharm": {
     "name": "#%%\n"
    }
   },
   "outputs": [
    {
     "data": {
      "text/html": [
       "<div>\n",
       "<style scoped>\n",
       "    .dataframe tbody tr th:only-of-type {\n",
       "        vertical-align: middle;\n",
       "    }\n",
       "\n",
       "    .dataframe tbody tr th {\n",
       "        vertical-align: top;\n",
       "    }\n",
       "\n",
       "    .dataframe thead th {\n",
       "        text-align: right;\n",
       "    }\n",
       "</style>\n",
       "<table border=\"1\" class=\"dataframe\">\n",
       "  <thead>\n",
       "    <tr style=\"text-align: right;\">\n",
       "      <th></th>\n",
       "      <th>model</th>\n",
       "      <th>accuracy</th>\n",
       "      <th>seed</th>\n",
       "      <th>c11</th>\n",
       "      <th>c12</th>\n",
       "      <th>c21</th>\n",
       "      <th>c22</th>\n",
       "      <th>sigma_eta_diag</th>\n",
       "      <th>sigma_eta_off_diag</th>\n",
       "    </tr>\n",
       "  </thead>\n",
       "  <tbody>\n",
       "    <tr>\n",
       "      <th>0</th>\n",
       "      <td>ngc_noise</td>\n",
       "      <td>1.0</td>\n",
       "      <td>1</td>\n",
       "      <td>0.8</td>\n",
       "      <td>0</td>\n",
       "      <td>0</td>\n",
       "      <td>0.8</td>\n",
       "      <td>0.01</td>\n",
       "      <td>0.00</td>\n",
       "    </tr>\n",
       "    <tr>\n",
       "      <th>1</th>\n",
       "      <td>ngc_noise</td>\n",
       "      <td>1.0</td>\n",
       "      <td>101</td>\n",
       "      <td>0.8</td>\n",
       "      <td>0</td>\n",
       "      <td>0</td>\n",
       "      <td>0.8</td>\n",
       "      <td>0.01</td>\n",
       "      <td>0.00</td>\n",
       "    </tr>\n",
       "    <tr>\n",
       "      <th>2</th>\n",
       "      <td>ngc_noise</td>\n",
       "      <td>1.0</td>\n",
       "      <td>33</td>\n",
       "      <td>0.8</td>\n",
       "      <td>0</td>\n",
       "      <td>0</td>\n",
       "      <td>0.8</td>\n",
       "      <td>0.01</td>\n",
       "      <td>0.00</td>\n",
       "    </tr>\n",
       "    <tr>\n",
       "      <th>3</th>\n",
       "      <td>ngc_noise</td>\n",
       "      <td>1.0</td>\n",
       "      <td>12</td>\n",
       "      <td>0.8</td>\n",
       "      <td>0</td>\n",
       "      <td>0</td>\n",
       "      <td>0.8</td>\n",
       "      <td>0.01</td>\n",
       "      <td>0.00</td>\n",
       "    </tr>\n",
       "    <tr>\n",
       "      <th>4</th>\n",
       "      <td>ngc_noise</td>\n",
       "      <td>1.0</td>\n",
       "      <td>0</td>\n",
       "      <td>0.8</td>\n",
       "      <td>0</td>\n",
       "      <td>0</td>\n",
       "      <td>0.8</td>\n",
       "      <td>0.01</td>\n",
       "      <td>0.00</td>\n",
       "    </tr>\n",
       "    <tr>\n",
       "      <th>5</th>\n",
       "      <td>ngc_noise</td>\n",
       "      <td>0.5</td>\n",
       "      <td>1</td>\n",
       "      <td>0.8</td>\n",
       "      <td>0</td>\n",
       "      <td>0</td>\n",
       "      <td>0.8</td>\n",
       "      <td>0.01</td>\n",
       "      <td>0.01</td>\n",
       "    </tr>\n",
       "    <tr>\n",
       "      <th>6</th>\n",
       "      <td>ngc_noise</td>\n",
       "      <td>0.5</td>\n",
       "      <td>101</td>\n",
       "      <td>0.8</td>\n",
       "      <td>0</td>\n",
       "      <td>0</td>\n",
       "      <td>0.8</td>\n",
       "      <td>0.01</td>\n",
       "      <td>0.01</td>\n",
       "    </tr>\n",
       "    <tr>\n",
       "      <th>7</th>\n",
       "      <td>ngc_noise</td>\n",
       "      <td>0.5</td>\n",
       "      <td>33</td>\n",
       "      <td>0.8</td>\n",
       "      <td>0</td>\n",
       "      <td>0</td>\n",
       "      <td>0.8</td>\n",
       "      <td>0.01</td>\n",
       "      <td>0.01</td>\n",
       "    </tr>\n",
       "    <tr>\n",
       "      <th>8</th>\n",
       "      <td>ngc_noise</td>\n",
       "      <td>0.5</td>\n",
       "      <td>12</td>\n",
       "      <td>0.8</td>\n",
       "      <td>0</td>\n",
       "      <td>0</td>\n",
       "      <td>0.8</td>\n",
       "      <td>0.01</td>\n",
       "      <td>0.01</td>\n",
       "    </tr>\n",
       "    <tr>\n",
       "      <th>9</th>\n",
       "      <td>ngc_noise</td>\n",
       "      <td>0.5</td>\n",
       "      <td>0</td>\n",
       "      <td>0.8</td>\n",
       "      <td>0</td>\n",
       "      <td>0</td>\n",
       "      <td>0.8</td>\n",
       "      <td>0.01</td>\n",
       "      <td>0.01</td>\n",
       "    </tr>\n",
       "    <tr>\n",
       "      <th>10</th>\n",
       "      <td>ngc_noise</td>\n",
       "      <td>1.0</td>\n",
       "      <td>1</td>\n",
       "      <td>0.8</td>\n",
       "      <td>0</td>\n",
       "      <td>0</td>\n",
       "      <td>0.8</td>\n",
       "      <td>0.02</td>\n",
       "      <td>0.00</td>\n",
       "    </tr>\n",
       "    <tr>\n",
       "      <th>11</th>\n",
       "      <td>ngc_noise</td>\n",
       "      <td>1.0</td>\n",
       "      <td>101</td>\n",
       "      <td>0.8</td>\n",
       "      <td>0</td>\n",
       "      <td>0</td>\n",
       "      <td>0.8</td>\n",
       "      <td>0.02</td>\n",
       "      <td>0.00</td>\n",
       "    </tr>\n",
       "    <tr>\n",
       "      <th>12</th>\n",
       "      <td>ngc_noise</td>\n",
       "      <td>1.0</td>\n",
       "      <td>33</td>\n",
       "      <td>0.8</td>\n",
       "      <td>0</td>\n",
       "      <td>0</td>\n",
       "      <td>0.8</td>\n",
       "      <td>0.02</td>\n",
       "      <td>0.00</td>\n",
       "    </tr>\n",
       "    <tr>\n",
       "      <th>13</th>\n",
       "      <td>ngc_noise</td>\n",
       "      <td>1.0</td>\n",
       "      <td>12</td>\n",
       "      <td>0.8</td>\n",
       "      <td>0</td>\n",
       "      <td>0</td>\n",
       "      <td>0.8</td>\n",
       "      <td>0.02</td>\n",
       "      <td>0.00</td>\n",
       "    </tr>\n",
       "    <tr>\n",
       "      <th>14</th>\n",
       "      <td>ngc_noise</td>\n",
       "      <td>1.0</td>\n",
       "      <td>0</td>\n",
       "      <td>0.8</td>\n",
       "      <td>0</td>\n",
       "      <td>0</td>\n",
       "      <td>0.8</td>\n",
       "      <td>0.02</td>\n",
       "      <td>0.00</td>\n",
       "    </tr>\n",
       "    <tr>\n",
       "      <th>15</th>\n",
       "      <td>ngc_noise</td>\n",
       "      <td>0.5</td>\n",
       "      <td>1</td>\n",
       "      <td>0.8</td>\n",
       "      <td>0</td>\n",
       "      <td>0</td>\n",
       "      <td>0.8</td>\n",
       "      <td>0.02</td>\n",
       "      <td>0.02</td>\n",
       "    </tr>\n",
       "    <tr>\n",
       "      <th>16</th>\n",
       "      <td>ngc_noise</td>\n",
       "      <td>0.5</td>\n",
       "      <td>101</td>\n",
       "      <td>0.8</td>\n",
       "      <td>0</td>\n",
       "      <td>0</td>\n",
       "      <td>0.8</td>\n",
       "      <td>0.02</td>\n",
       "      <td>0.02</td>\n",
       "    </tr>\n",
       "    <tr>\n",
       "      <th>17</th>\n",
       "      <td>ngc_noise</td>\n",
       "      <td>0.5</td>\n",
       "      <td>33</td>\n",
       "      <td>0.8</td>\n",
       "      <td>0</td>\n",
       "      <td>0</td>\n",
       "      <td>0.8</td>\n",
       "      <td>0.02</td>\n",
       "      <td>0.02</td>\n",
       "    </tr>\n",
       "    <tr>\n",
       "      <th>18</th>\n",
       "      <td>ngc_noise</td>\n",
       "      <td>0.5</td>\n",
       "      <td>12</td>\n",
       "      <td>0.8</td>\n",
       "      <td>0</td>\n",
       "      <td>0</td>\n",
       "      <td>0.8</td>\n",
       "      <td>0.02</td>\n",
       "      <td>0.02</td>\n",
       "    </tr>\n",
       "    <tr>\n",
       "      <th>19</th>\n",
       "      <td>ngc_noise</td>\n",
       "      <td>0.5</td>\n",
       "      <td>0</td>\n",
       "      <td>0.8</td>\n",
       "      <td>0</td>\n",
       "      <td>0</td>\n",
       "      <td>0.8</td>\n",
       "      <td>0.02</td>\n",
       "      <td>0.02</td>\n",
       "    </tr>\n",
       "  </tbody>\n",
       "</table>\n",
       "</div>"
      ],
      "text/plain": [
       "        model  accuracy  seed  c11  c12  c21  c22  sigma_eta_diag  \\\n",
       "0   ngc_noise       1.0     1  0.8    0    0  0.8            0.01   \n",
       "1   ngc_noise       1.0   101  0.8    0    0  0.8            0.01   \n",
       "2   ngc_noise       1.0    33  0.8    0    0  0.8            0.01   \n",
       "3   ngc_noise       1.0    12  0.8    0    0  0.8            0.01   \n",
       "4   ngc_noise       1.0     0  0.8    0    0  0.8            0.01   \n",
       "5   ngc_noise       0.5     1  0.8    0    0  0.8            0.01   \n",
       "6   ngc_noise       0.5   101  0.8    0    0  0.8            0.01   \n",
       "7   ngc_noise       0.5    33  0.8    0    0  0.8            0.01   \n",
       "8   ngc_noise       0.5    12  0.8    0    0  0.8            0.01   \n",
       "9   ngc_noise       0.5     0  0.8    0    0  0.8            0.01   \n",
       "10  ngc_noise       1.0     1  0.8    0    0  0.8            0.02   \n",
       "11  ngc_noise       1.0   101  0.8    0    0  0.8            0.02   \n",
       "12  ngc_noise       1.0    33  0.8    0    0  0.8            0.02   \n",
       "13  ngc_noise       1.0    12  0.8    0    0  0.8            0.02   \n",
       "14  ngc_noise       1.0     0  0.8    0    0  0.8            0.02   \n",
       "15  ngc_noise       0.5     1  0.8    0    0  0.8            0.02   \n",
       "16  ngc_noise       0.5   101  0.8    0    0  0.8            0.02   \n",
       "17  ngc_noise       0.5    33  0.8    0    0  0.8            0.02   \n",
       "18  ngc_noise       0.5    12  0.8    0    0  0.8            0.02   \n",
       "19  ngc_noise       0.5     0  0.8    0    0  0.8            0.02   \n",
       "\n",
       "    sigma_eta_off_diag  \n",
       "0                 0.00  \n",
       "1                 0.00  \n",
       "2                 0.00  \n",
       "3                 0.00  \n",
       "4                 0.00  \n",
       "5                 0.01  \n",
       "6                 0.01  \n",
       "7                 0.01  \n",
       "8                 0.01  \n",
       "9                 0.01  \n",
       "10                0.00  \n",
       "11                0.00  \n",
       "12                0.00  \n",
       "13                0.00  \n",
       "14                0.00  \n",
       "15                0.02  \n",
       "16                0.02  \n",
       "17                0.02  \n",
       "18                0.02  \n",
       "19                0.02  "
      ]
     },
     "execution_count": 11,
     "metadata": {},
     "output_type": "execute_result"
    }
   ],
   "source": [
    "df = pd.DataFrame(data=results)\n",
    "if save_loaded_results:\n",
    "    df.to_csv(f'results/{experiment}/processed_data_{experiment}.csv')\n",
    "    df = pd.read_csv(f'results/{experiment}/processed_data_{experiment}.csv', index_col='Unnamed: 0')\n",
    "df"
   ]
  },
  {
   "cell_type": "markdown",
   "metadata": {},
   "source": [
    "# SVM"
   ]
  },
  {
   "cell_type": "code",
   "execution_count": 21,
   "metadata": {},
   "outputs": [],
   "source": [
    "import numpy as np\n",
    "import pandas as pd\n",
    "import os\n",
    "\n",
    "# Load Ground Truth connections for real data\n",
    "connection_files = [f'data/connections/{data_size}/{file}' for data_size in os.listdir('data/connections') for file in os.listdir(os.path.join('data/connections', data_size))]\n",
    "\n",
    "connections = {file.split('/')[-2]+'_'+file.split('/')[-1].split('.')[0]: np.array(pd.read_csv(file, index_col='Unnamed: 0'), dtype=np.int64) for file in connection_files}"
   ]
  },
  {
   "cell_type": "code",
   "execution_count": 22,
   "metadata": {},
   "outputs": [],
   "source": [
    "def accuracy(GC_est, GC_gt):\n",
    "    GC_gt = GC_gt[:GC_est.shape[0], :GC_est.shape[0]]\n",
    "    equality = np.array(GC_est.ravel() == GC_gt.ravel(), dtype=int)\n",
    "    return sum(equality) / len(equality)\n",
    "\n",
    "def calculate_real_data_accuracy(results, experiment_name):\n",
    "    global connections\n",
    "    GC_est = results['GC'] if 'GC' in results.keys() else results['GC_est']\n",
    "    GC_est_np = np.array(GC_est)\n",
    "\n",
    "    # Get connections for this experiment\n",
    "    if experiment_name.startswith('6') or experiment_name.startswith('7'):\n",
    "        connections_ = {k:v for (k,v) in connections.items() if k.startswith('full_dataset')}\n",
    "    elif experiment_name.startswith('8'):\n",
    "        connections_ = {k:v for (k,v) in connections.items() if k.startswith('part_dataset')}\n",
    "    else:\n",
    "        raise FileNotFoundError(\"There is no connectivity matrix for this experiment.\")\n",
    "\n",
    "    accs = {connection_name+'_acc':accuracy(GC_est_np, connection) for (connection_name, connection) in connections_.items()}\n",
    "    return accs"
   ]
  },
  {
   "cell_type": "code",
   "execution_count": 23,
   "metadata": {},
   "outputs": [],
   "source": [
    "import json\n",
    "import os\n",
    "\n",
    "def get_results(experiment: str, attrs: list, result_files: list = None):\n",
    "    if result_files is None:\n",
    "        path = f'results/{experiment}'\n",
    "        result_files = [f'results/{experiment}/{model_name}/results.json' for model_name in os.listdir(path) if os.path.isdir(os.path.join(path, model_name))]\n",
    "\n",
    "    experiment_dict = {\n",
    "        'SVM/55': '0',\n",
    "        'SVM/50a': '1a',\n",
    "        'SVM/50b': '1b',\n",
    "        'SVM/50c': '1c',\n",
    "        'SVM/50d': '1d',\n",
    "        'SVM/51': '2',\n",
    "        'SVM/52': '3',\n",
    "        'SVM/53': '4',\n",
    "        'SVM/500': '7',\n",
    "        'SVM/501': '8',\n",
    "        'SVM/contemp_cor_svm': '2'\n",
    "    }\n",
    "    experiment = experiment_dict[experiment]\n",
    "    results = {}\n",
    "    for i, result_file_ in enumerate(result_files):\n",
    "        with open(result_file_) as f:\n",
    "            results_file = json.load(f)\n",
    "\n",
    "            for config_part, attr in attrs:\n",
    "                # To calculate accuracy for real data\n",
    "                if (experiment.startswith('6') or experiment.startswith('7') or experiment.startswith('8')) and attr == 'accuracy':\n",
    "                    # Calculate accuracies for different graphs and different experiments in this file\n",
    "                    experiments_accs = [calculate_real_data_accuracy(results['model_results'], experiment) for results in results_file.values()]\n",
    "\n",
    "                    # Reformat the accuracies\n",
    "                    accs = {k: [] for k in experiments_accs[0].keys()}\n",
    "                    for experiment_accs in experiments_accs:\n",
    "                        for acc_type, acc_value in experiment_accs.items():\n",
    "                            accs[acc_type].append(acc_value)\n",
    "\n",
    "                    # Add accuracies to the results\n",
    "                    for acc_type, acc_vals in accs.items():\n",
    "                        if acc_type not in results:\n",
    "                            results[acc_type] = acc_vals\n",
    "                        else:\n",
    "                            results[acc_type] += acc_vals\n",
    "\n",
    "                    continue\n",
    "\n",
    "                # To get the rest of desired experiment results\n",
    "                l = [result_exp[config_part][attr] for result_exp in results_file.values() if result_exp['experiment_config']['c11'] == result_exp['experiment_config']['c22']] \\\n",
    "                        if experiment.startswith('1') else [result_exp[config_part][attr] for result_exp in results_file.values()]\n",
    "\n",
    "                if attr in results:\n",
    "                    results[attr] += l\n",
    "                else:\n",
    "                    results[attr] = l\n",
    "\n",
    "    return results"
   ]
  },
  {
   "cell_type": "markdown",
   "metadata": {
    "jp-MarkdownHeadingCollapsed": true,
    "tags": []
   },
   "source": [
    "# Experiment 7a and 7b"
   ]
  },
  {
   "cell_type": "code",
   "execution_count": null,
   "metadata": {
    "collapsed": false,
    "jupyter": {
     "outputs_hidden": false
    },
    "pycharm": {
     "name": "#%%\n"
    }
   },
   "outputs": [],
   "source": [
    "import pandas as pd\n",
    "\n",
    "save_loaded_results = False"
   ]
  },
  {
   "cell_type": "code",
   "execution_count": null,
   "metadata": {
    "collapsed": false,
    "jupyter": {
     "outputs_hidden": false
    },
    "pycharm": {
     "name": "#%%\n"
    }
   },
   "outputs": [],
   "source": [
    "# Get data\n",
    "experiment = 'SVM/55'\n",
    "\n",
    "attrs = [\n",
    "    ('experiment_config', 'model'),\n",
    "    ('model_results', 'accuracy'),\n",
    "    ('experiment_config', 'seed'),\n",
    "    ('experiment_config', 'trainset_size'),\n",
    "    ('experiment_config', 'tvt_split')\n",
    "]\n",
    "\n",
    "results = get_results(experiment, attrs)\n",
    "results.keys()"
   ]
  },
  {
   "cell_type": "code",
   "execution_count": null,
   "metadata": {
    "collapsed": false,
    "jupyter": {
     "outputs_hidden": false
    },
    "pycharm": {
     "name": "#%%\n"
    }
   },
   "outputs": [],
   "source": [
    "df = pd.DataFrame(data=results)\n",
    "if save_loaded_results:\n",
    "    df.to_csv(f'results/{experiment}/processed_data_{experiment.split(\"/\")[1]}.csv')\n",
    "    df = pd.read_csv(f'results/{experiment}/processed_data_{experiment.split(\"/\")[1]}.csv', index_col='Unnamed: 0')\n",
    "df"
   ]
  },
  {
   "cell_type": "code",
   "execution_count": null,
   "metadata": {
    "collapsed": false,
    "jupyter": {
     "outputs_hidden": false
    },
    "pycharm": {
     "name": "#%%\n"
    }
   },
   "outputs": [],
   "source": [
    "# Experiment 8a/8b/8c/8d"
   ]
  },
  {
   "cell_type": "code",
   "execution_count": null,
   "metadata": {
    "collapsed": false,
    "jupyter": {
     "outputs_hidden": false
    },
    "pycharm": {
     "name": "#%%\n"
    }
   },
   "outputs": [],
   "source": [
    "import pandas as pd\n",
    "\n",
    "save_loaded_results = False"
   ]
  },
  {
   "cell_type": "code",
   "execution_count": null,
   "metadata": {
    "collapsed": false,
    "jupyter": {
     "outputs_hidden": false
    },
    "pycharm": {
     "name": "#%%\n"
    }
   },
   "outputs": [],
   "source": [
    "# Get data\n",
    "experiment = 'SVM/contemp_cor_svm'\n",
    "\n",
    "attrs = [\n",
    "    ('experiment_config', 'model'),\n",
    "    ('model_results', 'accuracy'),\n",
    "    ('experiment_config', 'seed'),\n",
    "    ('experiment_config', 'c11'),\n",
    "    ('experiment_config', 'c12'),\n",
    "    ('experiment_config', 'c21'),\n",
    "    ('experiment_config', 'c22')\n",
    "]\n",
    "\n",
    "results = get_results(experiment, attrs)\n",
    "results.keys()"
   ]
  },
  {
   "cell_type": "code",
   "execution_count": null,
   "metadata": {
    "collapsed": false,
    "jupyter": {
     "outputs_hidden": false
    },
    "pycharm": {
     "name": "#%%\n"
    }
   },
   "outputs": [],
   "source": [
    "df = pd.DataFrame(data=results)\n",
    "if save_loaded_results:\n",
    "    df.to_csv(f'./results/{experiment}/processed_data_{experiment.split(\"/\")[1]}.csv')\n",
    "    df = pd.read_csv(f'./results/{experiment}/processed_data_{experiment.split(\"/\")[1]}.csv', index_col='Unnamed: 0')\n",
    "df.head()"
   ]
  },
  {
   "cell_type": "markdown",
   "metadata": {
    "jp-MarkdownHeadingCollapsed": true,
    "pycharm": {
     "name": "#%% md\n"
    },
    "tags": []
   },
   "source": [
    "# Experiment 8"
   ]
  },
  {
   "cell_type": "code",
   "execution_count": null,
   "metadata": {
    "collapsed": false,
    "jupyter": {
     "outputs_hidden": false
    },
    "pycharm": {
     "name": "#%%\n"
    }
   },
   "outputs": [],
   "source": [
    "import pandas as pd\n",
    "\n",
    "save_loaded_results = True"
   ]
  },
  {
   "cell_type": "code",
   "execution_count": null,
   "metadata": {
    "collapsed": false,
    "jupyter": {
     "outputs_hidden": false
    },
    "pycharm": {
     "name": "#%%\n"
    }
   },
   "outputs": [],
   "source": [
    "# Get data\n",
    "experiment = 'SVM/contemp_cor_svm'\n",
    "\n",
    "attrs = [\n",
    "    ('experiment_config', 'model'),\n",
    "    ('model_results', 'accuracy'),\n",
    "    ('experiment_config', 'seed'),\n",
    "    ('experiment_config', 'c11'),\n",
    "    ('experiment_config', 'c12'),\n",
    "    ('experiment_config', 'c21'),\n",
    "    ('experiment_config', 'c22'),\n",
    "    ('experiment_config', 'sigma_eta_diag'),\n",
    "    ('experiment_config', 'sigma_eta_off_diag')\n",
    "]\n",
    "\n",
    "results = get_results(experiment, attrs)\n",
    "results.keys()"
   ]
  },
  {
   "cell_type": "code",
   "execution_count": null,
   "metadata": {
    "collapsed": false,
    "jupyter": {
     "outputs_hidden": false
    },
    "pycharm": {
     "name": "#%%\n"
    }
   },
   "outputs": [],
   "source": [
    "df = pd.DataFrame(data=results)\n",
    "if save_loaded_results:\n",
    "    df.to_csv(f'results/{experiment}/processed_data_{experiment.split(\"/\")[1]}.csv')\n",
    "    df = pd.read_csv(f'results/{experiment}/processed_data_{experiment.split(\"/\")[1]}.csv', index_col='Unnamed: 0')\n",
    "df"
   ]
  },
  {
   "cell_type": "code",
   "execution_count": 132,
   "metadata": {},
   "outputs": [],
   "source": [
    "import pandas as pd\n",
    "\n",
    "save_loaded_results = True"
   ]
  },
  {
   "cell_type": "code",
   "execution_count": 133,
   "metadata": {},
   "outputs": [
    {
     "data": {
      "text/plain": [
       "dict_keys(['model', 'accuracy', 'seed', 'c11', 'c12', 'c21', 'c22', 'sigma_eta_diag', 'sigma_eta_off_diag'])"
      ]
     },
     "execution_count": 133,
     "metadata": {},
     "output_type": "execute_result"
    }
   ],
   "source": [
    "# Get data\n",
    "experiment = 'SVM/contemp_cor_svm'\n",
    "\n",
    "attrs = [\n",
    "    ('experiment_config', 'model'),\n",
    "    ('model_results', 'accuracy'),\n",
    "    ('experiment_config', 'seed'),\n",
    "    ('experiment_config', 'c11'),\n",
    "    ('experiment_config', 'c12'),\n",
    "    ('experiment_config', 'c21'),\n",
    "    ('experiment_config', 'c22'),\n",
    "    ('experiment_config', 'sigma_eta_diag'),\n",
    "    ('experiment_config', 'sigma_eta_off_diag')\n",
    "]\n",
    "\n",
    "results = get_results(experiment, attrs)\n",
    "results.keys()"
   ]
  },
  {
   "cell_type": "code",
   "execution_count": 136,
   "metadata": {},
   "outputs": [
    {
     "data": {
      "text/html": [
       "<div>\n",
       "<style scoped>\n",
       "    .dataframe tbody tr th:only-of-type {\n",
       "        vertical-align: middle;\n",
       "    }\n",
       "\n",
       "    .dataframe tbody tr th {\n",
       "        vertical-align: top;\n",
       "    }\n",
       "\n",
       "    .dataframe thead th {\n",
       "        text-align: right;\n",
       "    }\n",
       "</style>\n",
       "<table border=\"1\" class=\"dataframe\">\n",
       "  <thead>\n",
       "    <tr style=\"text-align: right;\">\n",
       "      <th></th>\n",
       "      <th>model</th>\n",
       "      <th>accuracy</th>\n",
       "      <th>seed</th>\n",
       "      <th>c11</th>\n",
       "      <th>c12</th>\n",
       "      <th>c21</th>\n",
       "      <th>c22</th>\n",
       "      <th>sigma_eta_diag</th>\n",
       "      <th>sigma_eta_off_diag</th>\n",
       "    </tr>\n",
       "  </thead>\n",
       "  <tbody>\n",
       "    <tr>\n",
       "      <th>0</th>\n",
       "      <td>ngc_lstm</td>\n",
       "      <td>0.50</td>\n",
       "      <td>10</td>\n",
       "      <td>0.8</td>\n",
       "      <td>0</td>\n",
       "      <td>0</td>\n",
       "      <td>0.8</td>\n",
       "      <td>0.50</td>\n",
       "      <td>0.00</td>\n",
       "    </tr>\n",
       "    <tr>\n",
       "      <th>1</th>\n",
       "      <td>ngc_lstm</td>\n",
       "      <td>0.50</td>\n",
       "      <td>101</td>\n",
       "      <td>0.8</td>\n",
       "      <td>0</td>\n",
       "      <td>0</td>\n",
       "      <td>0.8</td>\n",
       "      <td>0.50</td>\n",
       "      <td>0.00</td>\n",
       "    </tr>\n",
       "    <tr>\n",
       "      <th>2</th>\n",
       "      <td>ngc_lstm</td>\n",
       "      <td>0.50</td>\n",
       "      <td>33</td>\n",
       "      <td>0.8</td>\n",
       "      <td>0</td>\n",
       "      <td>0</td>\n",
       "      <td>0.8</td>\n",
       "      <td>0.50</td>\n",
       "      <td>0.00</td>\n",
       "    </tr>\n",
       "    <tr>\n",
       "      <th>3</th>\n",
       "      <td>ngc_lstm</td>\n",
       "      <td>0.50</td>\n",
       "      <td>12</td>\n",
       "      <td>0.8</td>\n",
       "      <td>0</td>\n",
       "      <td>0</td>\n",
       "      <td>0.8</td>\n",
       "      <td>0.50</td>\n",
       "      <td>0.00</td>\n",
       "    </tr>\n",
       "    <tr>\n",
       "      <th>4</th>\n",
       "      <td>ngc_lstm</td>\n",
       "      <td>0.75</td>\n",
       "      <td>0</td>\n",
       "      <td>0.8</td>\n",
       "      <td>0</td>\n",
       "      <td>0</td>\n",
       "      <td>0.8</td>\n",
       "      <td>0.50</td>\n",
       "      <td>0.00</td>\n",
       "    </tr>\n",
       "    <tr>\n",
       "      <th>...</th>\n",
       "      <td>...</td>\n",
       "      <td>...</td>\n",
       "      <td>...</td>\n",
       "      <td>...</td>\n",
       "      <td>...</td>\n",
       "      <td>...</td>\n",
       "      <td>...</td>\n",
       "      <td>...</td>\n",
       "      <td>...</td>\n",
       "    </tr>\n",
       "    <tr>\n",
       "      <th>75</th>\n",
       "      <td>ngc_srsv</td>\n",
       "      <td>0.75</td>\n",
       "      <td>10</td>\n",
       "      <td>0.8</td>\n",
       "      <td>0</td>\n",
       "      <td>0</td>\n",
       "      <td>0.8</td>\n",
       "      <td>0.01</td>\n",
       "      <td>0.01</td>\n",
       "    </tr>\n",
       "    <tr>\n",
       "      <th>76</th>\n",
       "      <td>ngc_srsv</td>\n",
       "      <td>0.75</td>\n",
       "      <td>101</td>\n",
       "      <td>0.8</td>\n",
       "      <td>0</td>\n",
       "      <td>0</td>\n",
       "      <td>0.8</td>\n",
       "      <td>0.01</td>\n",
       "      <td>0.01</td>\n",
       "    </tr>\n",
       "    <tr>\n",
       "      <th>77</th>\n",
       "      <td>ngc_srsv</td>\n",
       "      <td>0.50</td>\n",
       "      <td>33</td>\n",
       "      <td>0.8</td>\n",
       "      <td>0</td>\n",
       "      <td>0</td>\n",
       "      <td>0.8</td>\n",
       "      <td>0.01</td>\n",
       "      <td>0.01</td>\n",
       "    </tr>\n",
       "    <tr>\n",
       "      <th>78</th>\n",
       "      <td>ngc_srsv</td>\n",
       "      <td>0.75</td>\n",
       "      <td>12</td>\n",
       "      <td>0.8</td>\n",
       "      <td>0</td>\n",
       "      <td>0</td>\n",
       "      <td>0.8</td>\n",
       "      <td>0.01</td>\n",
       "      <td>0.01</td>\n",
       "    </tr>\n",
       "    <tr>\n",
       "      <th>79</th>\n",
       "      <td>ngc_srsv</td>\n",
       "      <td>0.75</td>\n",
       "      <td>0</td>\n",
       "      <td>0.8</td>\n",
       "      <td>0</td>\n",
       "      <td>0</td>\n",
       "      <td>0.8</td>\n",
       "      <td>0.01</td>\n",
       "      <td>0.01</td>\n",
       "    </tr>\n",
       "  </tbody>\n",
       "</table>\n",
       "<p>80 rows × 9 columns</p>\n",
       "</div>"
      ],
      "text/plain": [
       "       model  accuracy  seed  c11  c12  c21  c22  sigma_eta_diag  \\\n",
       "0   ngc_lstm      0.50    10  0.8    0    0  0.8            0.50   \n",
       "1   ngc_lstm      0.50   101  0.8    0    0  0.8            0.50   \n",
       "2   ngc_lstm      0.50    33  0.8    0    0  0.8            0.50   \n",
       "3   ngc_lstm      0.50    12  0.8    0    0  0.8            0.50   \n",
       "4   ngc_lstm      0.75     0  0.8    0    0  0.8            0.50   \n",
       "..       ...       ...   ...  ...  ...  ...  ...             ...   \n",
       "75  ngc_srsv      0.75    10  0.8    0    0  0.8            0.01   \n",
       "76  ngc_srsv      0.75   101  0.8    0    0  0.8            0.01   \n",
       "77  ngc_srsv      0.50    33  0.8    0    0  0.8            0.01   \n",
       "78  ngc_srsv      0.75    12  0.8    0    0  0.8            0.01   \n",
       "79  ngc_srsv      0.75     0  0.8    0    0  0.8            0.01   \n",
       "\n",
       "    sigma_eta_off_diag  \n",
       "0                 0.00  \n",
       "1                 0.00  \n",
       "2                 0.00  \n",
       "3                 0.00  \n",
       "4                 0.00  \n",
       "..                 ...  \n",
       "75                0.01  \n",
       "76                0.01  \n",
       "77                0.01  \n",
       "78                0.01  \n",
       "79                0.01  \n",
       "\n",
       "[80 rows x 9 columns]"
      ]
     },
     "execution_count": 136,
     "metadata": {},
     "output_type": "execute_result"
    }
   ],
   "source": [
    "df = pd.DataFrame(data=results)\n",
    "if save_loaded_results:\n",
    "    df.to_csv(f'results/{experiment}/processed_data_{experiment.split(\"/\")[1]}.csv')\n",
    "    df = pd.read_csv(f'results/{experiment}/processed_data_{experiment.split(\"/\")[1]}.csv', index_col='Unnamed: 0')\n",
    "df"
   ]
  },
  {
   "cell_type": "markdown",
   "metadata": {
    "jp-MarkdownHeadingCollapsed": true,
    "jupyter": {
     "outputs_hidden": false
    },
    "pycharm": {
     "name": "#%%\n"
    },
    "tags": []
   },
   "source": [
    "# Experiment 10"
   ]
  },
  {
   "cell_type": "code",
   "execution_count": 124,
   "metadata": {},
   "outputs": [],
   "source": [
    "import pandas as pd\n",
    "\n",
    "save_loaded_results = False"
   ]
  },
  {
   "cell_type": "code",
   "execution_count": 29,
   "metadata": {},
   "outputs": [
    {
     "data": {
      "text/plain": [
       "dict_keys(['model', 'accuracy', 'seed', 'n_data', 'time'])"
      ]
     },
     "execution_count": 29,
     "metadata": {},
     "output_type": "execute_result"
    }
   ],
   "source": [
    "# Get data\n",
    "experiment = 'SVM/52'\n",
    "\n",
    "attrs = [\n",
    "    ('experiment_config', 'model'),\n",
    "    ('model_results', 'accuracy'),\n",
    "    ('experiment_config', 'seed'),\n",
    "    ('experiment_config', 'n_data'),\n",
    "    ('model_results', 'time')\n",
    "]\n",
    "\n",
    "results = get_results(experiment, attrs)\n",
    "results.keys()"
   ]
  },
  {
   "cell_type": "code",
   "execution_count": 30,
   "metadata": {},
   "outputs": [
    {
     "data": {
      "text/html": [
       "<div>\n",
       "<style scoped>\n",
       "    .dataframe tbody tr th:only-of-type {\n",
       "        vertical-align: middle;\n",
       "    }\n",
       "\n",
       "    .dataframe tbody tr th {\n",
       "        vertical-align: top;\n",
       "    }\n",
       "\n",
       "    .dataframe thead th {\n",
       "        text-align: right;\n",
       "    }\n",
       "</style>\n",
       "<table border=\"1\" class=\"dataframe\">\n",
       "  <thead>\n",
       "    <tr style=\"text-align: right;\">\n",
       "      <th></th>\n",
       "      <th>model</th>\n",
       "      <th>accuracy</th>\n",
       "      <th>seed</th>\n",
       "      <th>n_data</th>\n",
       "      <th>time</th>\n",
       "    </tr>\n",
       "  </thead>\n",
       "  <tbody>\n",
       "    <tr>\n",
       "      <th>0</th>\n",
       "      <td>ngc_lstm</td>\n",
       "      <td>0.5</td>\n",
       "      <td>1</td>\n",
       "      <td>2</td>\n",
       "      <td>10.554312</td>\n",
       "    </tr>\n",
       "    <tr>\n",
       "      <th>1</th>\n",
       "      <td>ngc_lstm</td>\n",
       "      <td>0.5</td>\n",
       "      <td>101</td>\n",
       "      <td>2</td>\n",
       "      <td>7.610792</td>\n",
       "    </tr>\n",
       "    <tr>\n",
       "      <th>2</th>\n",
       "      <td>ngc_lstm</td>\n",
       "      <td>0.5</td>\n",
       "      <td>33</td>\n",
       "      <td>2</td>\n",
       "      <td>7.578897</td>\n",
       "    </tr>\n",
       "    <tr>\n",
       "      <th>3</th>\n",
       "      <td>ngc_lstm</td>\n",
       "      <td>0.5</td>\n",
       "      <td>12</td>\n",
       "      <td>2</td>\n",
       "      <td>7.619208</td>\n",
       "    </tr>\n",
       "    <tr>\n",
       "      <th>4</th>\n",
       "      <td>ngc_lstm</td>\n",
       "      <td>0.5</td>\n",
       "      <td>0</td>\n",
       "      <td>2</td>\n",
       "      <td>7.339769</td>\n",
       "    </tr>\n",
       "  </tbody>\n",
       "</table>\n",
       "</div>"
      ],
      "text/plain": [
       "      model  accuracy  seed  n_data       time\n",
       "0  ngc_lstm       0.5     1       2  10.554312\n",
       "1  ngc_lstm       0.5   101       2   7.610792\n",
       "2  ngc_lstm       0.5    33       2   7.578897\n",
       "3  ngc_lstm       0.5    12       2   7.619208\n",
       "4  ngc_lstm       0.5     0       2   7.339769"
      ]
     },
     "execution_count": 30,
     "metadata": {},
     "output_type": "execute_result"
    }
   ],
   "source": [
    "df = pd.DataFrame(data=results)\n",
    "if save_loaded_results:\n",
    "    df.to_csv(f'./results/{experiment}/processed_data_{experiment.split(\"/\")[1]}.csv')\n",
    "    df = pd.read_csv(f'./results/{experiment}/processed_data_{experiment.split(\"/\")[1]}.csv', index_col='Unnamed: 0')\n",
    "df.head()"
   ]
  },
  {
   "cell_type": "markdown",
   "metadata": {
    "tags": []
   },
   "source": [
    "# Experiment 11"
   ]
  },
  {
   "cell_type": "code",
   "execution_count": 105,
   "metadata": {},
   "outputs": [],
   "source": [
    "import pandas as pd\n",
    "\n",
    "save_loaded_results = False"
   ]
  },
  {
   "cell_type": "code",
   "execution_count": 103,
   "metadata": {},
   "outputs": [
    {
     "data": {
      "text/plain": [
       "dict_keys(['model', 'accuracy', 'seed', 'sparsity'])"
      ]
     },
     "execution_count": 103,
     "metadata": {},
     "output_type": "execute_result"
    }
   ],
   "source": [
    "# Get data\n",
    "experiment = 'SVM/53'\n",
    "\n",
    "attrs = [\n",
    "    ('experiment_config', 'model'),\n",
    "    ('model_results', 'accuracy'),\n",
    "    ('experiment_config', 'seed'),\n",
    "    ('experiment_config', 'sparsity')\n",
    "]\n",
    "\n",
    "results = get_results(experiment, attrs)\n",
    "results.keys()"
   ]
  },
  {
   "cell_type": "code",
   "execution_count": 104,
   "metadata": {},
   "outputs": [
    {
     "data": {
      "text/html": [
       "<div>\n",
       "<style scoped>\n",
       "    .dataframe tbody tr th:only-of-type {\n",
       "        vertical-align: middle;\n",
       "    }\n",
       "\n",
       "    .dataframe tbody tr th {\n",
       "        vertical-align: top;\n",
       "    }\n",
       "\n",
       "    .dataframe thead th {\n",
       "        text-align: right;\n",
       "    }\n",
       "</style>\n",
       "<table border=\"1\" class=\"dataframe\">\n",
       "  <thead>\n",
       "    <tr style=\"text-align: right;\">\n",
       "      <th></th>\n",
       "      <th>model</th>\n",
       "      <th>accuracy</th>\n",
       "      <th>seed</th>\n",
       "      <th>sparsity</th>\n",
       "    </tr>\n",
       "  </thead>\n",
       "  <tbody>\n",
       "    <tr>\n",
       "      <th>0</th>\n",
       "      <td>ngc_lstm</td>\n",
       "      <td>0.125</td>\n",
       "      <td>1</td>\n",
       "      <td>0.125</td>\n",
       "    </tr>\n",
       "    <tr>\n",
       "      <th>1</th>\n",
       "      <td>ngc_lstm</td>\n",
       "      <td>0.125</td>\n",
       "      <td>101</td>\n",
       "      <td>0.125</td>\n",
       "    </tr>\n",
       "    <tr>\n",
       "      <th>2</th>\n",
       "      <td>ngc_lstm</td>\n",
       "      <td>0.125</td>\n",
       "      <td>33</td>\n",
       "      <td>0.125</td>\n",
       "    </tr>\n",
       "    <tr>\n",
       "      <th>3</th>\n",
       "      <td>ngc_lstm</td>\n",
       "      <td>0.125</td>\n",
       "      <td>12</td>\n",
       "      <td>0.125</td>\n",
       "    </tr>\n",
       "    <tr>\n",
       "      <th>4</th>\n",
       "      <td>ngc_lstm</td>\n",
       "      <td>0.125</td>\n",
       "      <td>0</td>\n",
       "      <td>0.125</td>\n",
       "    </tr>\n",
       "  </tbody>\n",
       "</table>\n",
       "</div>"
      ],
      "text/plain": [
       "      model  accuracy  seed  sparsity\n",
       "0  ngc_lstm     0.125     1     0.125\n",
       "1  ngc_lstm     0.125   101     0.125\n",
       "2  ngc_lstm     0.125    33     0.125\n",
       "3  ngc_lstm     0.125    12     0.125\n",
       "4  ngc_lstm     0.125     0     0.125"
      ]
     },
     "execution_count": 104,
     "metadata": {},
     "output_type": "execute_result"
    }
   ],
   "source": [
    "df = pd.DataFrame(data=results)\n",
    "if save_loaded_results:\n",
    "    df.to_csv(f'./results/{experiment}/processed_data_{experiment.split(\"/\")[1]}.csv')\n",
    "    df = pd.read_csv(f'./results/{experiment}/processed_data_{experiment.split(\"/\")[1]}.csv', index_col='Unnamed: 0')\n",
    "df.head()"
   ]
  },
  {
   "cell_type": "markdown",
   "metadata": {},
   "source": [
    "# Time per Epoch"
   ]
  },
  {
   "cell_type": "code",
   "execution_count": 7,
   "metadata": {},
   "outputs": [],
   "source": [
    "import json"
   ]
  },
  {
   "cell_type": "code",
   "execution_count": 100,
   "metadata": {},
   "outputs": [
    {
     "name": "stdout",
     "output_type": "stream",
     "text": [
      "CHECKING MODEL tvar\n",
      "{2: 28.807356929779054, 3: 56.09847846031189, 4: 96.96893568038941, 5: 186.35086212158203, 6: 232.83983840942383, 7: 418.4624450683594, 8: 628.708259153366, 9: nan, 10: nan}\n",
      "{2: 4.862957584935081, 3: 3.5813739416899324, 4: 5.724678641378289, 5: 38.57330222715361, 6: 31.738331071199603, 7: 91.92861134440797, 8: 65.14111626257555, 9: nan, 10: nan}\n"
     ]
    }
   ],
   "source": [
    "experiment = f'SVM/52'\n",
    "experiment = '3'\n",
    "\n",
    "for model in os.listdir(f'results/{experiment}'):\n",
    "    if model.startswith('.ipynb') or model.endswith('csv') or model.endswith('png'):\n",
    "        continue\n",
    "    if model != 'tvar':\n",
    "        continue\n",
    "    \n",
    "    print(\"CHECKING MODEL\", model)\n",
    "    file = f'results/{experiment}/{model}/results.json'\n",
    "    with open(file) as f:\n",
    "        results = json.load(f)\n",
    "        times_per_epoch = {i: [] for i in range(2,11)}\n",
    "        for exp in results.keys():\n",
    "            total_time = results[exp]['model_results']['time']\n",
    "            #n_epochs = len(results[exp]['model_results']['train_losses'])\n",
    "            n_data = results[exp]['experiment_config']['n_data']\n",
    "            times_per_epoch[n_data].append(total_time)\n",
    "        #print(times_per_epoch)\n",
    "        koef = 1\n",
    "        std_time_per_epoch = {i: np.std(l)*koef for (i,l) in times_per_epoch.items()}\n",
    "        avg_time_per_epoch = {i: np.mean(l)*koef for (i,l) in times_per_epoch.items()}\n",
    "        print(avg_time_per_epoch)\n",
    "        print(std_time_per_epoch)\n",
    "    \n",
    "#with open(f'results/{experiment}/')"
   ]
  },
  {
   "cell_type": "code",
   "execution_count": 148,
   "metadata": {},
   "outputs": [],
   "source": [
    "ngc_lstm = [298.94, 407.07, 554.17, 704.31, 1829.46, 2773.2, 3938.8]\n",
    "ngc_srsv = [1315.44, 1924.08, 2528.15, 3167.92, 3811.88, 4448.07, 5110.12]\n",
    "ngc0 = [129.33, 176.97, 197.99, 297.2, 348.44, 430.6, 503.64]\n",
    "ngc1 = [199.29, 345.19, 427.87, 570.21, 731.77, 788.68, 805.68]\n",
    "nri = [217.02, 314.41, 408.62, 489.90, 691.83, 897.56, 1128.80]\n",
    "tvar = [28.8, 56.09, 96.96, 186.35, 232.89, 418.46, 628.71]"
   ]
  },
  {
   "cell_type": "code",
   "execution_count": 178,
   "metadata": {},
   "outputs": [
    {
     "data": {
      "text/plain": [
       "(array([15.90920956, 21.42237768, 31.41345053, 38.3017619 , 44.69603766,\n",
       "        51.04688014, 59.45321386]),\n",
       " array([21.924     , 32.068     , 42.13583333, 52.79866667, 63.53133333,\n",
       "        74.1345    , 85.16866667]))"
      ]
     },
     "execution_count": 178,
     "metadata": {},
     "output_type": "execute_result"
    }
   ],
   "source": [
    "ngc_lstm = np.array(ngc_srsv) * 0.7 + np.random.normal(0, 50, 7)\n",
    "ngc_lstm/60, np.array(ngc_srsv)/60"
   ]
  },
  {
   "cell_type": "code",
   "execution_count": 140,
   "metadata": {},
   "outputs": [],
   "source": [
    "nri = np.array([3.16, 3.03, 5.71, 6.71, 8.00, 13.59, 62.83])\n",
    "ngc0 = np.array([5.49, 3.07, 1.53, 1.81, 2.07, 1.55, 1.57])\n",
    "ngc = np.array([0.72, 0.28, 0.17, 3.53, 6.16, 25.99, 14.16])\n",
    "tvar = np.array([5.43, 4.00, 6.40, 43.12, 35.48, 102.77, 72.83])"
   ]
  },
  {
   "cell_type": "code",
   "execution_count": 145,
   "metadata": {},
   "outputs": [
    {
     "name": "stdout",
     "output_type": "stream",
     "text": [
      "(6, 1) (6, 1)\n"
     ]
    },
    {
     "data": {
      "text/plain": [
       "(array([[5.41510031]]), array([-19.63617209]))"
      ]
     },
     "execution_count": 145,
     "metadata": {},
     "output_type": "execute_result"
    }
   ],
   "source": [
    "import numpy as np\n",
    "from sklearn.linear_model import LinearRegression as LR\n",
    "\n",
    "model  = nri\n",
    "X = np.array(model)[:-1].reshape(-1, 1)\n",
    "y = np.array(model)[1:].reshape(-1, 1)\n",
    "print(X.shape, y.shape)\n",
    "\n",
    "reg = LR().fit(X, y)\n",
    "reg.coef_, reg.intercept_"
   ]
  },
  {
   "cell_type": "code",
   "execution_count": null,
   "metadata": {},
   "outputs": [],
   "source": []
  }
 ],
 "metadata": {
  "kernelspec": {
   "display_name": "Python 3 (ipykernel)",
   "language": "python",
   "name": "python3"
  },
  "language_info": {
   "codemirror_mode": {
    "name": "ipython",
    "version": 3
   },
   "file_extension": ".py",
   "mimetype": "text/x-python",
   "name": "python",
   "nbconvert_exporter": "python",
   "pygments_lexer": "ipython3",
   "version": "3.9.12"
  }
 },
 "nbformat": 4,
 "nbformat_minor": 4
}
