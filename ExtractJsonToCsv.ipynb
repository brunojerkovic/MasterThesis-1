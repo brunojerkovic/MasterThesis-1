{
 "cells": [
  {
   "cell_type": "code",
   "execution_count": 2,
   "outputs": [],
   "source": [
    "import numpy as np\n",
    "import pandas as pd\n",
    "import os\n",
    "\n",
    "# Load Ground Truth connections for real data\n",
    "connection_files = [f'data/connections/{data_size}/{file}' for data_size in os.listdir('data/connections') for file in os.listdir(os.path.join('data/connections', data_size))]\n",
    "\n",
    "connections = {file.split('/')[-2]+'_'+file.split('/')[-1].split('.')[0]: np.array(pd.read_csv(file, index_col='Unnamed: 0'), dtype=np.int64) for file in connection_files}"
   ],
   "metadata": {
    "collapsed": false,
    "pycharm": {
     "name": "#%%\n"
    }
   }
  },
  {
   "cell_type": "code",
   "execution_count": 3,
   "outputs": [],
   "source": [
    "def accuracy(GC_est, GC_gt):\n",
    "    GC_gt = GC_gt[:GC_est.shape[0], :GC_est.shape[0]]\n",
    "    equality = np.array(GC_est.ravel() == GC_gt.ravel(), dtype=int)\n",
    "    return sum(equality) / len(equality)\n",
    "\n",
    "def calculate_real_data_accuracy(results, experiment_name):\n",
    "    global connections\n",
    "    GC_est = results['GC'] if 'GC' in results.keys() else results['GC_est']\n",
    "    GC_est_np = np.array(GC_est)\n",
    "\n",
    "    # Get connections for this experiment\n",
    "    if experiment_name.startswith('6') or experiment_name.startswith('7'):\n",
    "        connections_ = {k:v for (k,v) in connections.items() if k.startswith('full_dataset')}\n",
    "    elif experiment_name.startswith('8'):\n",
    "        connections_ = {k:v for (k,v) in connections.items() if k.startswith('part_dataset')}\n",
    "    else:\n",
    "        raise FileNotFoundError(\"There is no connectivity matrix for this experiment.\")\n",
    "\n",
    "    accs = {connection_name+'_acc':accuracy(GC_est_np, connection) for (connection_name, connection) in connections_.items()}\n",
    "    return accs"
   ],
   "metadata": {
    "collapsed": false,
    "pycharm": {
     "name": "#%%\n"
    }
   }
  },
  {
   "cell_type": "code",
   "execution_count": 4,
   "outputs": [],
   "source": [
    "import json\n",
    "import os\n",
    "\n",
    "def get_results(experiment: str, attrs: list, result_files: list = None):\n",
    "    if result_files is None:\n",
    "        path = f'results/{experiment}'\n",
    "        result_files = [f'results/{experiment}/{model_name}/results.json' for model_name in os.listdir(path) if os.path.isdir(os.path.join(path, model_name))]\n",
    "\n",
    "    results = {}\n",
    "    for i, result_file_ in enumerate(result_files):\n",
    "        with open(result_file_) as f:\n",
    "            results_file = json.load(f)\n",
    "\n",
    "            for config_part, attr in attrs:\n",
    "                # To calculate accuracy for real data\n",
    "                if (experiment.startswith('6') or experiment.startswith('7') or experiment.startswith('8')) and attr == 'accuracy':\n",
    "                    # Calculate accuracies for different graphs and different experiments in this file\n",
    "                    experiments_accs = [calculate_real_data_accuracy(results['model_results'], experiment) for results in results_file.values()]\n",
    "\n",
    "                    # Reformat the accuracies\n",
    "                    accs = {k: [] for k in experiments_accs[0].keys()}\n",
    "                    for experiment_accs in experiments_accs:\n",
    "                        for acc_type, acc_value in experiment_accs.items():\n",
    "                            accs[acc_type].append(acc_value)\n",
    "\n",
    "                    # Add accuracies to the results\n",
    "                    for acc_type, acc_vals in accs.items():\n",
    "                        if acc_type not in results:\n",
    "                            results[acc_type] = acc_vals\n",
    "                        else:\n",
    "                            results[acc_type] += acc_vals\n",
    "\n",
    "                    continue\n",
    "\n",
    "                # To get the rest of desired experiment results\n",
    "                if experiment.startswith('1a') and attr == 'prior':\n",
    "                    l = [result_exp[config_part]['nri'][attr] for result_exp in results_file.values() if result_exp['experiment_config']['c11'] == result_exp['experiment_config']['c22']]\n",
    "                else:\n",
    "                    l = [result_exp[config_part][attr] for result_exp in results_file.values() if result_exp['experiment_config']['c11'] == result_exp['experiment_config']['c22']] \\\n",
    "                        if experiment.startswith('1') else [result_exp[config_part][attr] for result_exp in results_file.values()]\n",
    "\n",
    "                if attr in results:\n",
    "                    results[attr] += l\n",
    "                else:\n",
    "                    results[attr] = l\n",
    "\n",
    "    return results"
   ],
   "metadata": {
    "collapsed": false,
    "pycharm": {
     "name": "#%%\n"
    }
   }
  },
  {
   "cell_type": "markdown",
   "source": [
    "# Experiment 0"
   ],
   "metadata": {
    "collapsed": false,
    "pycharm": {
     "name": "#%% md\n"
    }
   }
  },
  {
   "cell_type": "code",
   "execution_count": 11,
   "outputs": [],
   "source": [
    "import pandas as pd\n",
    "\n",
    "save_loaded_results = False"
   ],
   "metadata": {
    "collapsed": false,
    "pycharm": {
     "name": "#%%\n"
    }
   }
  },
  {
   "cell_type": "code",
   "execution_count": 12,
   "outputs": [],
   "source": [
    "# Get data\n",
    "experiment = '0'\n",
    "attrs = [\n",
    "    ('experiment_config', 'model'),\n",
    "    ('model_results', 'accuracy'),\n",
    "    ('experiment_config', 'seed'),\n",
    "    ('experiment_config', 'trainset_size'),\n",
    "    ('experiment_config', 'tvt_split')\n",
    "]\n",
    "\n",
    "results = get_results(experiment, attrs)"
   ],
   "metadata": {
    "collapsed": false,
    "pycharm": {
     "name": "#%%\n"
    }
   }
  },
  {
   "cell_type": "code",
   "execution_count": 13,
   "outputs": [
    {
     "data": {
      "text/plain": "    model  accuracy  seed  trainset_size  tvt_split\n0     ngc      0.75     1            500        0.1\n1     ngc      1.00   101            500        0.1\n2     ngc      1.00    33            500        0.1\n3     ngc      0.75    12            500        0.1\n4     ngc      1.00     0            500        0.1\n..    ...       ...   ...            ...        ...\n595  tvar      1.00     1           5000        1.0\n596  tvar      1.00   101           5000        1.0\n597  tvar      1.00    33           5000        1.0\n598  tvar      1.00    12           5000        1.0\n599  tvar      1.00     0           5000        1.0\n\n[600 rows x 5 columns]",
      "text/html": "<div>\n<style scoped>\n    .dataframe tbody tr th:only-of-type {\n        vertical-align: middle;\n    }\n\n    .dataframe tbody tr th {\n        vertical-align: top;\n    }\n\n    .dataframe thead th {\n        text-align: right;\n    }\n</style>\n<table border=\"1\" class=\"dataframe\">\n  <thead>\n    <tr style=\"text-align: right;\">\n      <th></th>\n      <th>model</th>\n      <th>accuracy</th>\n      <th>seed</th>\n      <th>trainset_size</th>\n      <th>tvt_split</th>\n    </tr>\n  </thead>\n  <tbody>\n    <tr>\n      <th>0</th>\n      <td>ngc</td>\n      <td>0.75</td>\n      <td>1</td>\n      <td>500</td>\n      <td>0.1</td>\n    </tr>\n    <tr>\n      <th>1</th>\n      <td>ngc</td>\n      <td>1.00</td>\n      <td>101</td>\n      <td>500</td>\n      <td>0.1</td>\n    </tr>\n    <tr>\n      <th>2</th>\n      <td>ngc</td>\n      <td>1.00</td>\n      <td>33</td>\n      <td>500</td>\n      <td>0.1</td>\n    </tr>\n    <tr>\n      <th>3</th>\n      <td>ngc</td>\n      <td>0.75</td>\n      <td>12</td>\n      <td>500</td>\n      <td>0.1</td>\n    </tr>\n    <tr>\n      <th>4</th>\n      <td>ngc</td>\n      <td>1.00</td>\n      <td>0</td>\n      <td>500</td>\n      <td>0.1</td>\n    </tr>\n    <tr>\n      <th>...</th>\n      <td>...</td>\n      <td>...</td>\n      <td>...</td>\n      <td>...</td>\n      <td>...</td>\n    </tr>\n    <tr>\n      <th>595</th>\n      <td>tvar</td>\n      <td>1.00</td>\n      <td>1</td>\n      <td>5000</td>\n      <td>1.0</td>\n    </tr>\n    <tr>\n      <th>596</th>\n      <td>tvar</td>\n      <td>1.00</td>\n      <td>101</td>\n      <td>5000</td>\n      <td>1.0</td>\n    </tr>\n    <tr>\n      <th>597</th>\n      <td>tvar</td>\n      <td>1.00</td>\n      <td>33</td>\n      <td>5000</td>\n      <td>1.0</td>\n    </tr>\n    <tr>\n      <th>598</th>\n      <td>tvar</td>\n      <td>1.00</td>\n      <td>12</td>\n      <td>5000</td>\n      <td>1.0</td>\n    </tr>\n    <tr>\n      <th>599</th>\n      <td>tvar</td>\n      <td>1.00</td>\n      <td>0</td>\n      <td>5000</td>\n      <td>1.0</td>\n    </tr>\n  </tbody>\n</table>\n<p>600 rows × 5 columns</p>\n</div>"
     },
     "execution_count": 13,
     "metadata": {},
     "output_type": "execute_result"
    }
   ],
   "source": [
    "# Save data in csv\n",
    "df = pd.DataFrame(data=results)\n",
    "if save_loaded_results:\n",
    "    df.to_csv(f'results/{experiment}/processed_data_{experiment}.csv')\n",
    "    df = pd.read_csv(f'results/{experiment}/processed_data_{experiment}.csv', index_col='Unnamed: 0')\n",
    "df"
   ],
   "metadata": {
    "collapsed": false,
    "pycharm": {
     "name": "#%%\n"
    }
   }
  },
  {
   "cell_type": "markdown",
   "source": [
    "# Experiment 1a / 1b / 1c / 1d"
   ],
   "metadata": {
    "collapsed": false,
    "pycharm": {
     "name": "#%% md\n"
    }
   }
  },
  {
   "cell_type": "code",
   "execution_count": 58,
   "outputs": [],
   "source": [
    "import pandas as pd\n",
    "\n",
    "save_loaded_results = True"
   ],
   "metadata": {
    "collapsed": false,
    "pycharm": {
     "name": "#%%\n"
    }
   }
  },
  {
   "cell_type": "code",
   "execution_count": 74,
   "outputs": [
    {
     "data": {
      "text/plain": "dict_keys(['model', 'accuracy', 'seed', 'c11', 'c12', 'c21', 'c22'])"
     },
     "execution_count": 74,
     "metadata": {},
     "output_type": "execute_result"
    }
   ],
   "source": [
    "# Get data\n",
    "experiment = '1c'\n",
    "\n",
    "attrs = [\n",
    "    ('experiment_config', 'model'),\n",
    "    ('model_results', 'accuracy'),\n",
    "    ('experiment_config', 'seed'),\n",
    "    ('experiment_config', 'c11'),\n",
    "    ('experiment_config', 'c12'),\n",
    "    ('experiment_config', 'c21'),\n",
    "    ('experiment_config', 'c22')\n",
    "]\n",
    "if experiment == '1a':\n",
    "    attrs.append(('experiment_config', 'prior'))\n",
    "\n",
    "results = get_results(experiment, attrs)\n",
    "results.keys()"
   ],
   "metadata": {
    "collapsed": false,
    "pycharm": {
     "name": "#%%\n"
    }
   }
  },
  {
   "cell_type": "code",
   "execution_count": 75,
   "outputs": [
    {
     "data": {
      "text/plain": "    model  accuracy  seed  c11  c12  c21  c22\n0     ngc       1.0     1  0.8  0.0  0.0  0.8\n1     ngc       1.0   101  0.8  0.0  0.0  0.8\n2     ngc       1.0    33  0.8  0.0  0.0  0.8\n3     ngc       1.0    12  0.8  0.0  0.0  0.8\n4     ngc       1.0     0  0.8  0.0  0.0  0.8\n..    ...       ...   ...  ...  ...  ...  ...\n195  tvar       1.0     1  0.8  0.9  0.0  0.8\n196  tvar       1.0   101  0.8  0.9  0.0  0.8\n197  tvar       1.0    33  0.8  0.9  0.0  0.8\n198  tvar       1.0    12  0.8  0.9  0.0  0.8\n199  tvar       1.0     0  0.8  0.9  0.0  0.8\n\n[200 rows x 7 columns]",
      "text/html": "<div>\n<style scoped>\n    .dataframe tbody tr th:only-of-type {\n        vertical-align: middle;\n    }\n\n    .dataframe tbody tr th {\n        vertical-align: top;\n    }\n\n    .dataframe thead th {\n        text-align: right;\n    }\n</style>\n<table border=\"1\" class=\"dataframe\">\n  <thead>\n    <tr style=\"text-align: right;\">\n      <th></th>\n      <th>model</th>\n      <th>accuracy</th>\n      <th>seed</th>\n      <th>c11</th>\n      <th>c12</th>\n      <th>c21</th>\n      <th>c22</th>\n    </tr>\n  </thead>\n  <tbody>\n    <tr>\n      <th>0</th>\n      <td>ngc</td>\n      <td>1.0</td>\n      <td>1</td>\n      <td>0.8</td>\n      <td>0.0</td>\n      <td>0.0</td>\n      <td>0.8</td>\n    </tr>\n    <tr>\n      <th>1</th>\n      <td>ngc</td>\n      <td>1.0</td>\n      <td>101</td>\n      <td>0.8</td>\n      <td>0.0</td>\n      <td>0.0</td>\n      <td>0.8</td>\n    </tr>\n    <tr>\n      <th>2</th>\n      <td>ngc</td>\n      <td>1.0</td>\n      <td>33</td>\n      <td>0.8</td>\n      <td>0.0</td>\n      <td>0.0</td>\n      <td>0.8</td>\n    </tr>\n    <tr>\n      <th>3</th>\n      <td>ngc</td>\n      <td>1.0</td>\n      <td>12</td>\n      <td>0.8</td>\n      <td>0.0</td>\n      <td>0.0</td>\n      <td>0.8</td>\n    </tr>\n    <tr>\n      <th>4</th>\n      <td>ngc</td>\n      <td>1.0</td>\n      <td>0</td>\n      <td>0.8</td>\n      <td>0.0</td>\n      <td>0.0</td>\n      <td>0.8</td>\n    </tr>\n    <tr>\n      <th>...</th>\n      <td>...</td>\n      <td>...</td>\n      <td>...</td>\n      <td>...</td>\n      <td>...</td>\n      <td>...</td>\n      <td>...</td>\n    </tr>\n    <tr>\n      <th>195</th>\n      <td>tvar</td>\n      <td>1.0</td>\n      <td>1</td>\n      <td>0.8</td>\n      <td>0.9</td>\n      <td>0.0</td>\n      <td>0.8</td>\n    </tr>\n    <tr>\n      <th>196</th>\n      <td>tvar</td>\n      <td>1.0</td>\n      <td>101</td>\n      <td>0.8</td>\n      <td>0.9</td>\n      <td>0.0</td>\n      <td>0.8</td>\n    </tr>\n    <tr>\n      <th>197</th>\n      <td>tvar</td>\n      <td>1.0</td>\n      <td>33</td>\n      <td>0.8</td>\n      <td>0.9</td>\n      <td>0.0</td>\n      <td>0.8</td>\n    </tr>\n    <tr>\n      <th>198</th>\n      <td>tvar</td>\n      <td>1.0</td>\n      <td>12</td>\n      <td>0.8</td>\n      <td>0.9</td>\n      <td>0.0</td>\n      <td>0.8</td>\n    </tr>\n    <tr>\n      <th>199</th>\n      <td>tvar</td>\n      <td>1.0</td>\n      <td>0</td>\n      <td>0.8</td>\n      <td>0.9</td>\n      <td>0.0</td>\n      <td>0.8</td>\n    </tr>\n  </tbody>\n</table>\n<p>200 rows × 7 columns</p>\n</div>"
     },
     "execution_count": 75,
     "metadata": {},
     "output_type": "execute_result"
    }
   ],
   "source": [
    "df = pd.DataFrame(data=results)\n",
    "if save_loaded_results:\n",
    "    df.to_csv(f'results/{experiment}/processed_data_{experiment}.csv')\n",
    "    df = pd.read_csv(f'results/{experiment}/processed_data_{experiment}.csv', index_col='Unnamed: 0')\n",
    "df"
   ],
   "metadata": {
    "collapsed": false,
    "pycharm": {
     "name": "#%%\n"
    }
   }
  },
  {
   "cell_type": "markdown",
   "source": [
    "# Experiment 2"
   ],
   "metadata": {
    "collapsed": false,
    "pycharm": {
     "name": "#%% md\n"
    }
   }
  },
  {
   "cell_type": "code",
   "execution_count": 65,
   "outputs": [],
   "source": [
    "import pandas as pd\n",
    "\n",
    "save_loaded_results = True"
   ],
   "metadata": {
    "collapsed": false,
    "pycharm": {
     "name": "#%%\n"
    }
   }
  },
  {
   "cell_type": "code",
   "execution_count": 66,
   "outputs": [
    {
     "data": {
      "text/plain": "dict_keys(['model', 'accuracy', 'seed', 'c11', 'c12', 'c21', 'c22', 'sigma_eta_diag', 'sigma_eta_off_diag'])"
     },
     "execution_count": 66,
     "metadata": {},
     "output_type": "execute_result"
    }
   ],
   "source": [
    "# Get data\n",
    "experiment = '2'\n",
    "\n",
    "attrs = [\n",
    "    ('experiment_config', 'model'),\n",
    "    ('model_results', 'accuracy'),\n",
    "    ('experiment_config', 'seed'),\n",
    "    ('experiment_config', 'c11'),\n",
    "    ('experiment_config', 'c12'),\n",
    "    ('experiment_config', 'c21'),\n",
    "    ('experiment_config', 'c22'),\n",
    "    ('experiment_config', 'sigma_eta_diag'),\n",
    "    ('experiment_config', 'sigma_eta_off_diag')\n",
    "]\n",
    "\n",
    "results = get_results(experiment, attrs)\n",
    "results.keys()"
   ],
   "metadata": {
    "collapsed": false,
    "pycharm": {
     "name": "#%%\n"
    }
   }
  },
  {
   "cell_type": "code",
   "execution_count": 67,
   "outputs": [
    {
     "data": {
      "text/plain": "    model  accuracy  seed  c11  c12  c21  c22  sigma_eta_diag  \\\n0     ngc       1.0     1  0.8  0.0    0  0.8            0.01   \n1     ngc       1.0   101  0.8  0.0    0  0.8            0.01   \n2     ngc       1.0    33  0.8  0.0    0  0.8            0.01   \n3     ngc       1.0    12  0.8  0.0    0  0.8            0.01   \n4     ngc       1.0     0  0.8  0.0    0  0.8            0.01   \n..    ...       ...   ...  ...  ...  ...  ...             ...   \n155  tvar       1.0     1  0.8  0.8    0  0.8            0.02   \n156  tvar       1.0   101  0.8  0.8    0  0.8            0.02   \n157  tvar       1.0    33  0.8  0.8    0  0.8            0.02   \n158  tvar       1.0    12  0.8  0.8    0  0.8            0.02   \n159  tvar       1.0     0  0.8  0.8    0  0.8            0.02   \n\n     sigma_eta_off_diag  \n0                  0.00  \n1                  0.00  \n2                  0.00  \n3                  0.00  \n4                  0.00  \n..                  ...  \n155                0.02  \n156                0.02  \n157                0.02  \n158                0.02  \n159                0.02  \n\n[160 rows x 9 columns]",
      "text/html": "<div>\n<style scoped>\n    .dataframe tbody tr th:only-of-type {\n        vertical-align: middle;\n    }\n\n    .dataframe tbody tr th {\n        vertical-align: top;\n    }\n\n    .dataframe thead th {\n        text-align: right;\n    }\n</style>\n<table border=\"1\" class=\"dataframe\">\n  <thead>\n    <tr style=\"text-align: right;\">\n      <th></th>\n      <th>model</th>\n      <th>accuracy</th>\n      <th>seed</th>\n      <th>c11</th>\n      <th>c12</th>\n      <th>c21</th>\n      <th>c22</th>\n      <th>sigma_eta_diag</th>\n      <th>sigma_eta_off_diag</th>\n    </tr>\n  </thead>\n  <tbody>\n    <tr>\n      <th>0</th>\n      <td>ngc</td>\n      <td>1.0</td>\n      <td>1</td>\n      <td>0.8</td>\n      <td>0.0</td>\n      <td>0</td>\n      <td>0.8</td>\n      <td>0.01</td>\n      <td>0.00</td>\n    </tr>\n    <tr>\n      <th>1</th>\n      <td>ngc</td>\n      <td>1.0</td>\n      <td>101</td>\n      <td>0.8</td>\n      <td>0.0</td>\n      <td>0</td>\n      <td>0.8</td>\n      <td>0.01</td>\n      <td>0.00</td>\n    </tr>\n    <tr>\n      <th>2</th>\n      <td>ngc</td>\n      <td>1.0</td>\n      <td>33</td>\n      <td>0.8</td>\n      <td>0.0</td>\n      <td>0</td>\n      <td>0.8</td>\n      <td>0.01</td>\n      <td>0.00</td>\n    </tr>\n    <tr>\n      <th>3</th>\n      <td>ngc</td>\n      <td>1.0</td>\n      <td>12</td>\n      <td>0.8</td>\n      <td>0.0</td>\n      <td>0</td>\n      <td>0.8</td>\n      <td>0.01</td>\n      <td>0.00</td>\n    </tr>\n    <tr>\n      <th>4</th>\n      <td>ngc</td>\n      <td>1.0</td>\n      <td>0</td>\n      <td>0.8</td>\n      <td>0.0</td>\n      <td>0</td>\n      <td>0.8</td>\n      <td>0.01</td>\n      <td>0.00</td>\n    </tr>\n    <tr>\n      <th>...</th>\n      <td>...</td>\n      <td>...</td>\n      <td>...</td>\n      <td>...</td>\n      <td>...</td>\n      <td>...</td>\n      <td>...</td>\n      <td>...</td>\n      <td>...</td>\n    </tr>\n    <tr>\n      <th>155</th>\n      <td>tvar</td>\n      <td>1.0</td>\n      <td>1</td>\n      <td>0.8</td>\n      <td>0.8</td>\n      <td>0</td>\n      <td>0.8</td>\n      <td>0.02</td>\n      <td>0.02</td>\n    </tr>\n    <tr>\n      <th>156</th>\n      <td>tvar</td>\n      <td>1.0</td>\n      <td>101</td>\n      <td>0.8</td>\n      <td>0.8</td>\n      <td>0</td>\n      <td>0.8</td>\n      <td>0.02</td>\n      <td>0.02</td>\n    </tr>\n    <tr>\n      <th>157</th>\n      <td>tvar</td>\n      <td>1.0</td>\n      <td>33</td>\n      <td>0.8</td>\n      <td>0.8</td>\n      <td>0</td>\n      <td>0.8</td>\n      <td>0.02</td>\n      <td>0.02</td>\n    </tr>\n    <tr>\n      <th>158</th>\n      <td>tvar</td>\n      <td>1.0</td>\n      <td>12</td>\n      <td>0.8</td>\n      <td>0.8</td>\n      <td>0</td>\n      <td>0.8</td>\n      <td>0.02</td>\n      <td>0.02</td>\n    </tr>\n    <tr>\n      <th>159</th>\n      <td>tvar</td>\n      <td>1.0</td>\n      <td>0</td>\n      <td>0.8</td>\n      <td>0.8</td>\n      <td>0</td>\n      <td>0.8</td>\n      <td>0.02</td>\n      <td>0.02</td>\n    </tr>\n  </tbody>\n</table>\n<p>160 rows × 9 columns</p>\n</div>"
     },
     "execution_count": 67,
     "metadata": {},
     "output_type": "execute_result"
    }
   ],
   "source": [
    "df = pd.DataFrame(data=results)\n",
    "if save_loaded_results:\n",
    "    df.to_csv(f'results/{experiment}/processed_data_{experiment}.csv')\n",
    "    df = pd.read_csv(f'results/{experiment}/processed_data_{experiment}.csv', index_col='Unnamed: 0')\n",
    "df"
   ],
   "metadata": {
    "collapsed": false,
    "pycharm": {
     "name": "#%%\n"
    }
   }
  },
  {
   "cell_type": "markdown",
   "source": [
    "# Experiment 3"
   ],
   "metadata": {
    "collapsed": false,
    "pycharm": {
     "name": "#%% md\n"
    }
   }
  },
  {
   "cell_type": "code",
   "execution_count": 86,
   "outputs": [],
   "source": [
    "import pandas as pd\n",
    "\n",
    "save_loaded_results = True"
   ],
   "metadata": {
    "collapsed": false,
    "pycharm": {
     "name": "#%%\n"
    }
   }
  },
  {
   "cell_type": "code",
   "execution_count": 88,
   "outputs": [
    {
     "data": {
      "text/plain": "dict_keys(['model', 'accuracy', 'seed', 'n_data', 'time'])"
     },
     "execution_count": 88,
     "metadata": {},
     "output_type": "execute_result"
    }
   ],
   "source": [
    "# Get data\n",
    "experiment = '3'\n",
    "\n",
    "attrs = [\n",
    "    ('experiment_config', 'model'),\n",
    "    ('model_results', 'accuracy'),\n",
    "    ('experiment_config', 'seed'),\n",
    "    ('experiment_config', 'n_data'),\n",
    "    ('model_results', 'time')\n",
    "]\n",
    "\n",
    "results = get_results(experiment, attrs)\n",
    "results.keys()"
   ],
   "metadata": {
    "collapsed": false,
    "pycharm": {
     "name": "#%%\n"
    }
   }
  },
  {
   "cell_type": "code",
   "execution_count": 89,
   "outputs": [
    {
     "data": {
      "text/plain": "    model  accuracy  seed  n_data        time\n0     ngc  1.000000     1       2  150.149770\n1     ngc  1.000000   101       2  150.534178\n2     ngc  1.000000    33       2  151.334934\n3     ngc  1.000000    12       2  151.996004\n4     ngc  1.000000     0       2  150.816408\n..    ...       ...   ...     ...         ...\n155  tvar  1.000000     1       8  683.885257\n156  tvar  1.000000   101       8  697.559011\n157  tvar  0.968750    33       8  580.896820\n158  tvar  0.968750    12       8  654.793177\n159  tvar  0.984375     0       8  526.407031\n\n[160 rows x 5 columns]",
      "text/html": "<div>\n<style scoped>\n    .dataframe tbody tr th:only-of-type {\n        vertical-align: middle;\n    }\n\n    .dataframe tbody tr th {\n        vertical-align: top;\n    }\n\n    .dataframe thead th {\n        text-align: right;\n    }\n</style>\n<table border=\"1\" class=\"dataframe\">\n  <thead>\n    <tr style=\"text-align: right;\">\n      <th></th>\n      <th>model</th>\n      <th>accuracy</th>\n      <th>seed</th>\n      <th>n_data</th>\n      <th>time</th>\n    </tr>\n  </thead>\n  <tbody>\n    <tr>\n      <th>0</th>\n      <td>ngc</td>\n      <td>1.000000</td>\n      <td>1</td>\n      <td>2</td>\n      <td>150.149770</td>\n    </tr>\n    <tr>\n      <th>1</th>\n      <td>ngc</td>\n      <td>1.000000</td>\n      <td>101</td>\n      <td>2</td>\n      <td>150.534178</td>\n    </tr>\n    <tr>\n      <th>2</th>\n      <td>ngc</td>\n      <td>1.000000</td>\n      <td>33</td>\n      <td>2</td>\n      <td>151.334934</td>\n    </tr>\n    <tr>\n      <th>3</th>\n      <td>ngc</td>\n      <td>1.000000</td>\n      <td>12</td>\n      <td>2</td>\n      <td>151.996004</td>\n    </tr>\n    <tr>\n      <th>4</th>\n      <td>ngc</td>\n      <td>1.000000</td>\n      <td>0</td>\n      <td>2</td>\n      <td>150.816408</td>\n    </tr>\n    <tr>\n      <th>...</th>\n      <td>...</td>\n      <td>...</td>\n      <td>...</td>\n      <td>...</td>\n      <td>...</td>\n    </tr>\n    <tr>\n      <th>155</th>\n      <td>tvar</td>\n      <td>1.000000</td>\n      <td>1</td>\n      <td>8</td>\n      <td>683.885257</td>\n    </tr>\n    <tr>\n      <th>156</th>\n      <td>tvar</td>\n      <td>1.000000</td>\n      <td>101</td>\n      <td>8</td>\n      <td>697.559011</td>\n    </tr>\n    <tr>\n      <th>157</th>\n      <td>tvar</td>\n      <td>0.968750</td>\n      <td>33</td>\n      <td>8</td>\n      <td>580.896820</td>\n    </tr>\n    <tr>\n      <th>158</th>\n      <td>tvar</td>\n      <td>0.968750</td>\n      <td>12</td>\n      <td>8</td>\n      <td>654.793177</td>\n    </tr>\n    <tr>\n      <th>159</th>\n      <td>tvar</td>\n      <td>0.984375</td>\n      <td>0</td>\n      <td>8</td>\n      <td>526.407031</td>\n    </tr>\n  </tbody>\n</table>\n<p>160 rows × 5 columns</p>\n</div>"
     },
     "execution_count": 89,
     "metadata": {},
     "output_type": "execute_result"
    }
   ],
   "source": [
    "df = pd.DataFrame(data=results)\n",
    "if save_loaded_results:\n",
    "    df.to_csv(f'results/{experiment}/processed_data_{experiment}.csv')\n",
    "    df = pd.read_csv(f'results/{experiment}/processed_data_{experiment}.csv', index_col='Unnamed: 0')\n",
    "df"
   ],
   "metadata": {
    "collapsed": false,
    "pycharm": {
     "name": "#%%\n"
    }
   }
  },
  {
   "cell_type": "markdown",
   "source": [
    "# Experiment 4"
   ],
   "metadata": {
    "collapsed": false,
    "pycharm": {
     "name": "#%% md\n"
    }
   }
  },
  {
   "cell_type": "code",
   "execution_count": 6,
   "outputs": [],
   "source": [
    "import pandas as pd\n",
    "\n",
    "save_loaded_results = False"
   ],
   "metadata": {
    "collapsed": false,
    "pycharm": {
     "name": "#%%\n"
    }
   }
  },
  {
   "cell_type": "code",
   "execution_count": 11,
   "outputs": [
    {
     "data": {
      "text/plain": "dict_keys(['model', 'accuracy', 'seed', 'c11', 'c12', 'c21', 'c22', 'sparsity'])"
     },
     "execution_count": 11,
     "metadata": {},
     "output_type": "execute_result"
    }
   ],
   "source": [
    "# Get data\n",
    "experiment = '4'\n",
    "\n",
    "attrs = [\n",
    "    ('experiment_config', 'model'),\n",
    "    ('model_results', 'accuracy'),\n",
    "    ('experiment_config', 'seed'),\n",
    "    ('experiment_config', 'c11'),\n",
    "    ('experiment_config', 'c12'),\n",
    "    ('experiment_config', 'c21'),\n",
    "    ('experiment_config', 'c22'),\n",
    "    ('experiment_config', 'sparsity')\n",
    "]\n",
    "\n",
    "results = get_results(experiment, attrs)\n",
    "results.keys()"
   ],
   "metadata": {
    "collapsed": false,
    "pycharm": {
     "name": "#%%\n"
    }
   }
  },
  {
   "cell_type": "code",
   "execution_count": 12,
   "outputs": [
    {
     "data": {
      "text/plain": "    model  accuracy  seed  c11  c12  c21  c22  sparsity\n0     ngc       1.0     1  0.8  0.0  0.0  0.8     0.125\n1     ngc       1.0   101  0.8  0.0  0.0  0.8     0.125\n2     ngc       1.0    33  0.8  0.0  0.0  0.8     0.125\n3     ngc       1.0    12  0.8  0.0  0.0  0.8     0.125\n4     ngc       1.0     0  0.8  0.0  0.0  0.8     0.125\n..    ...       ...   ...  ...  ...  ...  ...       ...\n155  tvar       1.0     1  0.8  0.0  0.0  0.8     1.000\n156  tvar       1.0   101  0.8  0.0  0.0  0.8     1.000\n157  tvar       1.0    33  0.8  0.0  0.0  0.8     1.000\n158  tvar       1.0    12  0.8  0.0  0.0  0.8     1.000\n159  tvar       1.0     0  0.8  0.0  0.0  0.8     1.000\n\n[160 rows x 8 columns]",
      "text/html": "<div>\n<style scoped>\n    .dataframe tbody tr th:only-of-type {\n        vertical-align: middle;\n    }\n\n    .dataframe tbody tr th {\n        vertical-align: top;\n    }\n\n    .dataframe thead th {\n        text-align: right;\n    }\n</style>\n<table border=\"1\" class=\"dataframe\">\n  <thead>\n    <tr style=\"text-align: right;\">\n      <th></th>\n      <th>model</th>\n      <th>accuracy</th>\n      <th>seed</th>\n      <th>c11</th>\n      <th>c12</th>\n      <th>c21</th>\n      <th>c22</th>\n      <th>sparsity</th>\n    </tr>\n  </thead>\n  <tbody>\n    <tr>\n      <th>0</th>\n      <td>ngc</td>\n      <td>1.0</td>\n      <td>1</td>\n      <td>0.8</td>\n      <td>0.0</td>\n      <td>0.0</td>\n      <td>0.8</td>\n      <td>0.125</td>\n    </tr>\n    <tr>\n      <th>1</th>\n      <td>ngc</td>\n      <td>1.0</td>\n      <td>101</td>\n      <td>0.8</td>\n      <td>0.0</td>\n      <td>0.0</td>\n      <td>0.8</td>\n      <td>0.125</td>\n    </tr>\n    <tr>\n      <th>2</th>\n      <td>ngc</td>\n      <td>1.0</td>\n      <td>33</td>\n      <td>0.8</td>\n      <td>0.0</td>\n      <td>0.0</td>\n      <td>0.8</td>\n      <td>0.125</td>\n    </tr>\n    <tr>\n      <th>3</th>\n      <td>ngc</td>\n      <td>1.0</td>\n      <td>12</td>\n      <td>0.8</td>\n      <td>0.0</td>\n      <td>0.0</td>\n      <td>0.8</td>\n      <td>0.125</td>\n    </tr>\n    <tr>\n      <th>4</th>\n      <td>ngc</td>\n      <td>1.0</td>\n      <td>0</td>\n      <td>0.8</td>\n      <td>0.0</td>\n      <td>0.0</td>\n      <td>0.8</td>\n      <td>0.125</td>\n    </tr>\n    <tr>\n      <th>...</th>\n      <td>...</td>\n      <td>...</td>\n      <td>...</td>\n      <td>...</td>\n      <td>...</td>\n      <td>...</td>\n      <td>...</td>\n      <td>...</td>\n    </tr>\n    <tr>\n      <th>155</th>\n      <td>tvar</td>\n      <td>1.0</td>\n      <td>1</td>\n      <td>0.8</td>\n      <td>0.0</td>\n      <td>0.0</td>\n      <td>0.8</td>\n      <td>1.000</td>\n    </tr>\n    <tr>\n      <th>156</th>\n      <td>tvar</td>\n      <td>1.0</td>\n      <td>101</td>\n      <td>0.8</td>\n      <td>0.0</td>\n      <td>0.0</td>\n      <td>0.8</td>\n      <td>1.000</td>\n    </tr>\n    <tr>\n      <th>157</th>\n      <td>tvar</td>\n      <td>1.0</td>\n      <td>33</td>\n      <td>0.8</td>\n      <td>0.0</td>\n      <td>0.0</td>\n      <td>0.8</td>\n      <td>1.000</td>\n    </tr>\n    <tr>\n      <th>158</th>\n      <td>tvar</td>\n      <td>1.0</td>\n      <td>12</td>\n      <td>0.8</td>\n      <td>0.0</td>\n      <td>0.0</td>\n      <td>0.8</td>\n      <td>1.000</td>\n    </tr>\n    <tr>\n      <th>159</th>\n      <td>tvar</td>\n      <td>1.0</td>\n      <td>0</td>\n      <td>0.8</td>\n      <td>0.0</td>\n      <td>0.0</td>\n      <td>0.8</td>\n      <td>1.000</td>\n    </tr>\n  </tbody>\n</table>\n<p>160 rows × 8 columns</p>\n</div>"
     },
     "execution_count": 12,
     "metadata": {},
     "output_type": "execute_result"
    }
   ],
   "source": [
    "df = pd.DataFrame(data=results)\n",
    "if save_loaded_results:\n",
    "    df.to_csv(f'results/{experiment}/processed_data_{experiment}.csv')\n",
    "    df = pd.read_csv(f'results/{experiment}/processed_data_{experiment}.csv', index_col='Unnamed: 0')\n",
    "df"
   ],
   "metadata": {
    "collapsed": false,
    "pycharm": {
     "name": "#%%\n"
    }
   }
  },
  {
   "cell_type": "markdown",
   "source": [
    "# Experiment 5"
   ],
   "metadata": {
    "collapsed": false,
    "pycharm": {
     "name": "#%% md\n"
    }
   }
  },
  {
   "cell_type": "code",
   "execution_count": 82,
   "outputs": [],
   "source": [
    "import pandas as pd\n",
    "\n",
    "save_loaded_results = True"
   ],
   "metadata": {
    "collapsed": false,
    "pycharm": {
     "name": "#%%\n"
    }
   }
  },
  {
   "cell_type": "code",
   "execution_count": 83,
   "outputs": [
    {
     "data": {
      "text/plain": "dict_keys(['model', 'accuracy', 'seed', 'c11', 'c12', 'c21', 'c22'])"
     },
     "execution_count": 83,
     "metadata": {},
     "output_type": "execute_result"
    }
   ],
   "source": [
    "# Get data\n",
    "experiment = '5'\n",
    "path = f'results/{experiment}'\n",
    "result_files = [f'results/{experiment}/{model_name}/{ex}/results.json' for model_name in os.listdir(path) if os.path.isdir(os.path.join(path, model_name)) for ex in os.listdir(os.path.join(path, model_name)) if os.path.isdir(os.path.join(path, model_name, ex))]\n",
    "\n",
    "attrs = [\n",
    "    ('experiment_config', 'model'),\n",
    "    ('model_results', 'accuracy'),\n",
    "    ('experiment_config', 'seed'),\n",
    "    ('experiment_config', 'c11'),\n",
    "    ('experiment_config', 'c12'),\n",
    "    ('experiment_config', 'c21'),\n",
    "    ('experiment_config', 'c22'),\n",
    "]\n",
    "\n",
    "results = get_results(experiment, attrs, result_files)\n",
    "results.keys()"
   ],
   "metadata": {
    "collapsed": false,
    "pycharm": {
     "name": "#%%\n"
    }
   }
  },
  {
   "cell_type": "code",
   "execution_count": 84,
   "outputs": [
    {
     "data": {
      "text/plain": "   model  accuracy  seed  c11  c12  c21  c22\n0    ngc      0.75     1  0.9  0.4  0.0  0.9\n1    ngc      0.75   101  0.9  0.4  0.0  0.9\n2    ngc      0.75    33  0.9  0.4  0.0  0.9\n3    ngc      0.75    12  0.9  0.4  0.0  0.9\n4    ngc      0.75     0  0.9  0.4  0.0  0.9\n..   ...       ...   ...  ...  ...  ...  ...\n75  tvar      0.50     1  0.8  0.1  0.1  0.8\n76  tvar      0.50   101  0.8  0.1  0.1  0.8\n77  tvar      0.00    33  0.8  0.1  0.1  0.8\n78  tvar      0.50    12  0.8  0.1  0.1  0.8\n79  tvar      0.25     0  0.8  0.1  0.1  0.8\n\n[80 rows x 7 columns]",
      "text/html": "<div>\n<style scoped>\n    .dataframe tbody tr th:only-of-type {\n        vertical-align: middle;\n    }\n\n    .dataframe tbody tr th {\n        vertical-align: top;\n    }\n\n    .dataframe thead th {\n        text-align: right;\n    }\n</style>\n<table border=\"1\" class=\"dataframe\">\n  <thead>\n    <tr style=\"text-align: right;\">\n      <th></th>\n      <th>model</th>\n      <th>accuracy</th>\n      <th>seed</th>\n      <th>c11</th>\n      <th>c12</th>\n      <th>c21</th>\n      <th>c22</th>\n    </tr>\n  </thead>\n  <tbody>\n    <tr>\n      <th>0</th>\n      <td>ngc</td>\n      <td>0.75</td>\n      <td>1</td>\n      <td>0.9</td>\n      <td>0.4</td>\n      <td>0.0</td>\n      <td>0.9</td>\n    </tr>\n    <tr>\n      <th>1</th>\n      <td>ngc</td>\n      <td>0.75</td>\n      <td>101</td>\n      <td>0.9</td>\n      <td>0.4</td>\n      <td>0.0</td>\n      <td>0.9</td>\n    </tr>\n    <tr>\n      <th>2</th>\n      <td>ngc</td>\n      <td>0.75</td>\n      <td>33</td>\n      <td>0.9</td>\n      <td>0.4</td>\n      <td>0.0</td>\n      <td>0.9</td>\n    </tr>\n    <tr>\n      <th>3</th>\n      <td>ngc</td>\n      <td>0.75</td>\n      <td>12</td>\n      <td>0.9</td>\n      <td>0.4</td>\n      <td>0.0</td>\n      <td>0.9</td>\n    </tr>\n    <tr>\n      <th>4</th>\n      <td>ngc</td>\n      <td>0.75</td>\n      <td>0</td>\n      <td>0.9</td>\n      <td>0.4</td>\n      <td>0.0</td>\n      <td>0.9</td>\n    </tr>\n    <tr>\n      <th>...</th>\n      <td>...</td>\n      <td>...</td>\n      <td>...</td>\n      <td>...</td>\n      <td>...</td>\n      <td>...</td>\n      <td>...</td>\n    </tr>\n    <tr>\n      <th>75</th>\n      <td>tvar</td>\n      <td>0.50</td>\n      <td>1</td>\n      <td>0.8</td>\n      <td>0.1</td>\n      <td>0.1</td>\n      <td>0.8</td>\n    </tr>\n    <tr>\n      <th>76</th>\n      <td>tvar</td>\n      <td>0.50</td>\n      <td>101</td>\n      <td>0.8</td>\n      <td>0.1</td>\n      <td>0.1</td>\n      <td>0.8</td>\n    </tr>\n    <tr>\n      <th>77</th>\n      <td>tvar</td>\n      <td>0.00</td>\n      <td>33</td>\n      <td>0.8</td>\n      <td>0.1</td>\n      <td>0.1</td>\n      <td>0.8</td>\n    </tr>\n    <tr>\n      <th>78</th>\n      <td>tvar</td>\n      <td>0.50</td>\n      <td>12</td>\n      <td>0.8</td>\n      <td>0.1</td>\n      <td>0.1</td>\n      <td>0.8</td>\n    </tr>\n    <tr>\n      <th>79</th>\n      <td>tvar</td>\n      <td>0.25</td>\n      <td>0</td>\n      <td>0.8</td>\n      <td>0.1</td>\n      <td>0.1</td>\n      <td>0.8</td>\n    </tr>\n  </tbody>\n</table>\n<p>80 rows × 7 columns</p>\n</div>"
     },
     "execution_count": 84,
     "metadata": {},
     "output_type": "execute_result"
    }
   ],
   "source": [
    "df = pd.DataFrame(data=results)\n",
    "if save_loaded_results:\n",
    "    df.to_csv(f'results/5/processed_data_{experiment}.csv')\n",
    "    df = pd.read_csv(f'results/5/processed_data_{experiment}.csv', index_col='Unnamed: 0')\n",
    "df"
   ],
   "metadata": {
    "collapsed": false,
    "pycharm": {
     "name": "#%%\n"
    }
   }
  },
  {
   "cell_type": "markdown",
   "source": [
    "# Experiment 6"
   ],
   "metadata": {
    "collapsed": false,
    "pycharm": {
     "name": "#%% md\n"
    }
   }
  },
  {
   "cell_type": "code",
   "execution_count": 29,
   "outputs": [],
   "source": [
    "import pandas as pd\n",
    "\n",
    "save_loaded_results = False"
   ],
   "metadata": {
    "collapsed": false,
    "pycharm": {
     "name": "#%%\n"
    }
   }
  },
  {
   "cell_type": "code",
   "execution_count": 30,
   "outputs": [
    {
     "data": {
      "text/plain": "dict_keys(['model', 'full_dataset_bi_hvar_acc', 'full_dataset_full_hvar_acc', 'full_dataset_pds_lm_hvar_acc', 'seed', 'tvt_split'])"
     },
     "execution_count": 30,
     "metadata": {},
     "output_type": "execute_result"
    }
   ],
   "source": [
    "# Get data\n",
    "experiment = '6'\n",
    "\n",
    "attrs = [\n",
    "    ('experiment_config', 'model'),\n",
    "    ('model_results', 'accuracy'),\n",
    "    ('experiment_config', 'seed'),\n",
    "    ('experiment_config', 'tvt_split')\n",
    "]\n",
    "\n",
    "results = get_results(experiment, attrs)\n",
    "results.keys()"
   ],
   "metadata": {
    "collapsed": false,
    "pycharm": {
     "name": "#%%\n"
    }
   }
  },
  {
   "cell_type": "code",
   "execution_count": 31,
   "outputs": [
    {
     "data": {
      "text/plain": "   model  full_dataset_bi_hvar_acc  full_dataset_full_hvar_acc  \\\n0    ngc                       1.0                    0.125556   \n1    ngc                       1.0                    0.125556   \n2    ngc                       1.0                    0.125556   \n3    ngc                       1.0                    0.125556   \n4    ngc                       1.0                    0.125556   \n..   ...                       ...                         ...   \n95  tvar                       0.0                    0.874444   \n96  tvar                       0.0                    0.874444   \n97  tvar                       0.0                    0.874444   \n98  tvar                       0.0                    0.874444   \n99  tvar                       0.0                    0.874444   \n\n    full_dataset_pds_lm_hvar_acc  seed  tvt_split  \n0                       0.136667     1        0.1  \n1                       0.136667   101        0.1  \n2                       0.136667    33        0.1  \n3                       0.136667    12        0.1  \n4                       0.136667     0        0.1  \n..                           ...   ...        ...  \n95                      0.863333     1        1.0  \n96                      0.863333   101        1.0  \n97                      0.863333    33        1.0  \n98                      0.863333    12        1.0  \n99                      0.863333     0        1.0  \n\n[100 rows x 6 columns]",
      "text/html": "<div>\n<style scoped>\n    .dataframe tbody tr th:only-of-type {\n        vertical-align: middle;\n    }\n\n    .dataframe tbody tr th {\n        vertical-align: top;\n    }\n\n    .dataframe thead th {\n        text-align: right;\n    }\n</style>\n<table border=\"1\" class=\"dataframe\">\n  <thead>\n    <tr style=\"text-align: right;\">\n      <th></th>\n      <th>model</th>\n      <th>full_dataset_bi_hvar_acc</th>\n      <th>full_dataset_full_hvar_acc</th>\n      <th>full_dataset_pds_lm_hvar_acc</th>\n      <th>seed</th>\n      <th>tvt_split</th>\n    </tr>\n  </thead>\n  <tbody>\n    <tr>\n      <th>0</th>\n      <td>ngc</td>\n      <td>1.0</td>\n      <td>0.125556</td>\n      <td>0.136667</td>\n      <td>1</td>\n      <td>0.1</td>\n    </tr>\n    <tr>\n      <th>1</th>\n      <td>ngc</td>\n      <td>1.0</td>\n      <td>0.125556</td>\n      <td>0.136667</td>\n      <td>101</td>\n      <td>0.1</td>\n    </tr>\n    <tr>\n      <th>2</th>\n      <td>ngc</td>\n      <td>1.0</td>\n      <td>0.125556</td>\n      <td>0.136667</td>\n      <td>33</td>\n      <td>0.1</td>\n    </tr>\n    <tr>\n      <th>3</th>\n      <td>ngc</td>\n      <td>1.0</td>\n      <td>0.125556</td>\n      <td>0.136667</td>\n      <td>12</td>\n      <td>0.1</td>\n    </tr>\n    <tr>\n      <th>4</th>\n      <td>ngc</td>\n      <td>1.0</td>\n      <td>0.125556</td>\n      <td>0.136667</td>\n      <td>0</td>\n      <td>0.1</td>\n    </tr>\n    <tr>\n      <th>...</th>\n      <td>...</td>\n      <td>...</td>\n      <td>...</td>\n      <td>...</td>\n      <td>...</td>\n      <td>...</td>\n    </tr>\n    <tr>\n      <th>95</th>\n      <td>tvar</td>\n      <td>0.0</td>\n      <td>0.874444</td>\n      <td>0.863333</td>\n      <td>1</td>\n      <td>1.0</td>\n    </tr>\n    <tr>\n      <th>96</th>\n      <td>tvar</td>\n      <td>0.0</td>\n      <td>0.874444</td>\n      <td>0.863333</td>\n      <td>101</td>\n      <td>1.0</td>\n    </tr>\n    <tr>\n      <th>97</th>\n      <td>tvar</td>\n      <td>0.0</td>\n      <td>0.874444</td>\n      <td>0.863333</td>\n      <td>33</td>\n      <td>1.0</td>\n    </tr>\n    <tr>\n      <th>98</th>\n      <td>tvar</td>\n      <td>0.0</td>\n      <td>0.874444</td>\n      <td>0.863333</td>\n      <td>12</td>\n      <td>1.0</td>\n    </tr>\n    <tr>\n      <th>99</th>\n      <td>tvar</td>\n      <td>0.0</td>\n      <td>0.874444</td>\n      <td>0.863333</td>\n      <td>0</td>\n      <td>1.0</td>\n    </tr>\n  </tbody>\n</table>\n<p>100 rows × 6 columns</p>\n</div>"
     },
     "execution_count": 31,
     "metadata": {},
     "output_type": "execute_result"
    }
   ],
   "source": [
    "df = pd.DataFrame(data=results)\n",
    "if save_loaded_results:\n",
    "    df.to_csv(f'results/{experiment}/processed_data_{experiment}.csv')\n",
    "    df = pd.read_csv(f'results/{experiment}/processed_data_{experiment}.csv', index_col='Unnamed: 0')\n",
    "df"
   ],
   "metadata": {
    "collapsed": false,
    "pycharm": {
     "name": "#%%\n"
    }
   }
  },
  {
   "cell_type": "markdown",
   "source": [
    "# Experiment 7"
   ],
   "metadata": {
    "collapsed": false,
    "pycharm": {
     "name": "#%% md\n"
    }
   }
  },
  {
   "cell_type": "code",
   "execution_count": 32,
   "outputs": [],
   "source": [
    "import pandas as pd\n",
    "\n",
    "save_loaded_results = False"
   ],
   "metadata": {
    "collapsed": false,
    "pycharm": {
     "name": "#%%\n"
    }
   }
  },
  {
   "cell_type": "code",
   "execution_count": 33,
   "outputs": [
    {
     "data": {
      "text/plain": "dict_keys(['model', 'full_dataset_bi_hvar_acc', 'full_dataset_full_hvar_acc', 'full_dataset_pds_lm_hvar_acc', 'seed', 'tvt_split'])"
     },
     "execution_count": 33,
     "metadata": {},
     "output_type": "execute_result"
    }
   ],
   "source": [
    "# Get data\n",
    "experiment = '7'\n",
    "\n",
    "attrs = [\n",
    "    ('experiment_config', 'model'),\n",
    "    ('model_results', 'accuracy'),\n",
    "    ('experiment_config', 'seed'),\n",
    "    ('experiment_config', 'tvt_split')\n",
    "]\n",
    "\n",
    "results = get_results(experiment, attrs)\n",
    "results.keys()"
   ],
   "metadata": {
    "collapsed": false,
    "pycharm": {
     "name": "#%%\n"
    }
   }
  },
  {
   "cell_type": "code",
   "execution_count": 34,
   "outputs": [
    {
     "data": {
      "text/plain": "   model  full_dataset_bi_hvar_acc  full_dataset_full_hvar_acc  \\\n0    ngc                  1.000000                    0.125556   \n1    ngc                  1.000000                    0.125556   \n2    ngc                  1.000000                    0.125556   \n3    ngc                  1.000000                    0.125556   \n4    ngc                  1.000000                    0.125556   \n5   ngc0                  1.000000                    0.125556   \n6   ngc0                  1.000000                    0.125556   \n7   ngc0                  1.000000                    0.125556   \n8   ngc0                  1.000000                    0.125556   \n9   ngc0                  1.000000                    0.125556   \n10   nri                  0.000000                    0.837370   \n11   nri                  0.000000                    0.837370   \n12   nri                  0.000000                    0.837370   \n13   nri                  0.000000                    0.837370   \n14   nri                  0.941176                    0.103806   \n15  tvar                  0.247778                    0.731111   \n16  tvar                  0.247778                    0.731111   \n17  tvar                  0.247778                    0.731111   \n18  tvar                  0.247778                    0.731111   \n19  tvar                  0.247778                    0.731111   \n\n    full_dataset_pds_lm_hvar_acc  seed  tvt_split  \n0                       0.136667     1        0.1  \n1                       0.136667   101        0.1  \n2                       0.136667    33        0.1  \n3                       0.136667    12        0.1  \n4                       0.136667     0        0.1  \n5                       0.136667     1        0.1  \n6                       0.136667   101        0.1  \n7                       0.136667    33        0.1  \n8                       0.136667    12        0.1  \n9                       0.136667     0        0.1  \n10                      0.823529     1        0.1  \n11                      0.823529   101        0.1  \n12                      0.823529    33        0.1  \n13                      0.823529    12        0.1  \n14                      0.117647     0        0.1  \n15                      0.722222     1        0.1  \n16                      0.722222   101        0.1  \n17                      0.722222    33        0.1  \n18                      0.722222    12        0.1  \n19                      0.722222     0        0.1  ",
      "text/html": "<div>\n<style scoped>\n    .dataframe tbody tr th:only-of-type {\n        vertical-align: middle;\n    }\n\n    .dataframe tbody tr th {\n        vertical-align: top;\n    }\n\n    .dataframe thead th {\n        text-align: right;\n    }\n</style>\n<table border=\"1\" class=\"dataframe\">\n  <thead>\n    <tr style=\"text-align: right;\">\n      <th></th>\n      <th>model</th>\n      <th>full_dataset_bi_hvar_acc</th>\n      <th>full_dataset_full_hvar_acc</th>\n      <th>full_dataset_pds_lm_hvar_acc</th>\n      <th>seed</th>\n      <th>tvt_split</th>\n    </tr>\n  </thead>\n  <tbody>\n    <tr>\n      <th>0</th>\n      <td>ngc</td>\n      <td>1.000000</td>\n      <td>0.125556</td>\n      <td>0.136667</td>\n      <td>1</td>\n      <td>0.1</td>\n    </tr>\n    <tr>\n      <th>1</th>\n      <td>ngc</td>\n      <td>1.000000</td>\n      <td>0.125556</td>\n      <td>0.136667</td>\n      <td>101</td>\n      <td>0.1</td>\n    </tr>\n    <tr>\n      <th>2</th>\n      <td>ngc</td>\n      <td>1.000000</td>\n      <td>0.125556</td>\n      <td>0.136667</td>\n      <td>33</td>\n      <td>0.1</td>\n    </tr>\n    <tr>\n      <th>3</th>\n      <td>ngc</td>\n      <td>1.000000</td>\n      <td>0.125556</td>\n      <td>0.136667</td>\n      <td>12</td>\n      <td>0.1</td>\n    </tr>\n    <tr>\n      <th>4</th>\n      <td>ngc</td>\n      <td>1.000000</td>\n      <td>0.125556</td>\n      <td>0.136667</td>\n      <td>0</td>\n      <td>0.1</td>\n    </tr>\n    <tr>\n      <th>5</th>\n      <td>ngc0</td>\n      <td>1.000000</td>\n      <td>0.125556</td>\n      <td>0.136667</td>\n      <td>1</td>\n      <td>0.1</td>\n    </tr>\n    <tr>\n      <th>6</th>\n      <td>ngc0</td>\n      <td>1.000000</td>\n      <td>0.125556</td>\n      <td>0.136667</td>\n      <td>101</td>\n      <td>0.1</td>\n    </tr>\n    <tr>\n      <th>7</th>\n      <td>ngc0</td>\n      <td>1.000000</td>\n      <td>0.125556</td>\n      <td>0.136667</td>\n      <td>33</td>\n      <td>0.1</td>\n    </tr>\n    <tr>\n      <th>8</th>\n      <td>ngc0</td>\n      <td>1.000000</td>\n      <td>0.125556</td>\n      <td>0.136667</td>\n      <td>12</td>\n      <td>0.1</td>\n    </tr>\n    <tr>\n      <th>9</th>\n      <td>ngc0</td>\n      <td>1.000000</td>\n      <td>0.125556</td>\n      <td>0.136667</td>\n      <td>0</td>\n      <td>0.1</td>\n    </tr>\n    <tr>\n      <th>10</th>\n      <td>nri</td>\n      <td>0.000000</td>\n      <td>0.837370</td>\n      <td>0.823529</td>\n      <td>1</td>\n      <td>0.1</td>\n    </tr>\n    <tr>\n      <th>11</th>\n      <td>nri</td>\n      <td>0.000000</td>\n      <td>0.837370</td>\n      <td>0.823529</td>\n      <td>101</td>\n      <td>0.1</td>\n    </tr>\n    <tr>\n      <th>12</th>\n      <td>nri</td>\n      <td>0.000000</td>\n      <td>0.837370</td>\n      <td>0.823529</td>\n      <td>33</td>\n      <td>0.1</td>\n    </tr>\n    <tr>\n      <th>13</th>\n      <td>nri</td>\n      <td>0.000000</td>\n      <td>0.837370</td>\n      <td>0.823529</td>\n      <td>12</td>\n      <td>0.1</td>\n    </tr>\n    <tr>\n      <th>14</th>\n      <td>nri</td>\n      <td>0.941176</td>\n      <td>0.103806</td>\n      <td>0.117647</td>\n      <td>0</td>\n      <td>0.1</td>\n    </tr>\n    <tr>\n      <th>15</th>\n      <td>tvar</td>\n      <td>0.247778</td>\n      <td>0.731111</td>\n      <td>0.722222</td>\n      <td>1</td>\n      <td>0.1</td>\n    </tr>\n    <tr>\n      <th>16</th>\n      <td>tvar</td>\n      <td>0.247778</td>\n      <td>0.731111</td>\n      <td>0.722222</td>\n      <td>101</td>\n      <td>0.1</td>\n    </tr>\n    <tr>\n      <th>17</th>\n      <td>tvar</td>\n      <td>0.247778</td>\n      <td>0.731111</td>\n      <td>0.722222</td>\n      <td>33</td>\n      <td>0.1</td>\n    </tr>\n    <tr>\n      <th>18</th>\n      <td>tvar</td>\n      <td>0.247778</td>\n      <td>0.731111</td>\n      <td>0.722222</td>\n      <td>12</td>\n      <td>0.1</td>\n    </tr>\n    <tr>\n      <th>19</th>\n      <td>tvar</td>\n      <td>0.247778</td>\n      <td>0.731111</td>\n      <td>0.722222</td>\n      <td>0</td>\n      <td>0.1</td>\n    </tr>\n  </tbody>\n</table>\n</div>"
     },
     "execution_count": 34,
     "metadata": {},
     "output_type": "execute_result"
    }
   ],
   "source": [
    "df = pd.DataFrame(data=results)\n",
    "if save_loaded_results:\n",
    "    df.to_csv(f'results/{experiment}/processed_data_{experiment}.csv')\n",
    "    df = pd.read_csv(f'results/{experiment}/processed_data_{experiment}.csv', index_col='Unnamed: 0')\n",
    "df"
   ],
   "metadata": {
    "collapsed": false,
    "pycharm": {
     "name": "#%%\n"
    }
   }
  },
  {
   "cell_type": "markdown",
   "source": [
    "# Experiment 8"
   ],
   "metadata": {
    "collapsed": false,
    "pycharm": {
     "name": "#%% md\n"
    }
   }
  },
  {
   "cell_type": "code",
   "execution_count": 35,
   "outputs": [],
   "source": [
    "import pandas as pd\n",
    "\n",
    "save_loaded_results = False"
   ],
   "metadata": {
    "collapsed": false,
    "pycharm": {
     "name": "#%%\n"
    }
   }
  },
  {
   "cell_type": "code",
   "execution_count": 36,
   "outputs": [
    {
     "data": {
      "text/plain": "dict_keys(['model', 'part_dataset_bi_hvar_acc', 'part_dataset_full_hvar_acc', 'part_dataset_pds_lm_hvar_acc', 'seed', 'tvt_split'])"
     },
     "execution_count": 36,
     "metadata": {},
     "output_type": "execute_result"
    }
   ],
   "source": [
    "# Get data\n",
    "experiment = '8'\n",
    "\n",
    "attrs = [\n",
    "    ('experiment_config', 'model'),\n",
    "    ('model_results', 'accuracy'),\n",
    "    ('experiment_config', 'seed'),\n",
    "    ('experiment_config', 'tvt_split')\n",
    "]\n",
    "\n",
    "results = get_results(experiment, attrs)\n",
    "results.keys()"
   ],
   "metadata": {
    "collapsed": false,
    "pycharm": {
     "name": "#%%\n"
    }
   }
  },
  {
   "cell_type": "code",
   "execution_count": 37,
   "outputs": [
    {
     "data": {
      "text/plain": "   model  part_dataset_bi_hvar_acc  part_dataset_full_hvar_acc  \\\n0    ngc                  0.132222                    0.038889   \n1    ngc                  0.132222                    0.038889   \n2    ngc                  0.132222                    0.038889   \n3    ngc                  0.132222                    0.038889   \n4    ngc                  0.132222                    0.038889   \n5   ngc0                  0.132222                    0.038889   \n6   ngc0                  0.132222                    0.038889   \n7   ngc0                  0.132222                    0.038889   \n8   ngc0                  0.132222                    0.038889   \n9   ngc0                  0.132222                    0.038889   \n10   nri                  0.816609                    0.906574   \n11   nri                  0.833910                    0.930796   \n12   nri                  0.785467                    0.861592   \n13   nri                  0.809689                    0.906574   \n14   nri                  0.830450                    0.927336   \n15  tvar                  0.867778                    0.961111   \n16  tvar                  0.867778                    0.961111   \n17  tvar                  0.867778                    0.961111   \n18  tvar                  0.867778                    0.961111   \n19  tvar                  0.867778                    0.961111   \n\n    part_dataset_pds_lm_hvar_acc  seed  tvt_split  \n0                       0.128889     1        0.1  \n1                       0.128889   101        0.1  \n2                       0.128889    33        0.1  \n3                       0.128889    12        0.1  \n4                       0.128889     0        0.1  \n5                       0.128889     1        0.1  \n6                       0.128889   101        0.1  \n7                       0.128889    33        0.1  \n8                       0.128889    12        0.1  \n9                       0.128889     0        0.1  \n10                      0.799308     1        0.1  \n11                      0.823529   101        0.1  \n12                      0.775087    33        0.1  \n13                      0.806228    12        0.1  \n14                      0.820069     0        0.1  \n15                      0.871111     1        0.1  \n16                      0.871111   101        0.1  \n17                      0.871111    33        0.1  \n18                      0.871111    12        0.1  \n19                      0.871111     0        0.1  ",
      "text/html": "<div>\n<style scoped>\n    .dataframe tbody tr th:only-of-type {\n        vertical-align: middle;\n    }\n\n    .dataframe tbody tr th {\n        vertical-align: top;\n    }\n\n    .dataframe thead th {\n        text-align: right;\n    }\n</style>\n<table border=\"1\" class=\"dataframe\">\n  <thead>\n    <tr style=\"text-align: right;\">\n      <th></th>\n      <th>model</th>\n      <th>part_dataset_bi_hvar_acc</th>\n      <th>part_dataset_full_hvar_acc</th>\n      <th>part_dataset_pds_lm_hvar_acc</th>\n      <th>seed</th>\n      <th>tvt_split</th>\n    </tr>\n  </thead>\n  <tbody>\n    <tr>\n      <th>0</th>\n      <td>ngc</td>\n      <td>0.132222</td>\n      <td>0.038889</td>\n      <td>0.128889</td>\n      <td>1</td>\n      <td>0.1</td>\n    </tr>\n    <tr>\n      <th>1</th>\n      <td>ngc</td>\n      <td>0.132222</td>\n      <td>0.038889</td>\n      <td>0.128889</td>\n      <td>101</td>\n      <td>0.1</td>\n    </tr>\n    <tr>\n      <th>2</th>\n      <td>ngc</td>\n      <td>0.132222</td>\n      <td>0.038889</td>\n      <td>0.128889</td>\n      <td>33</td>\n      <td>0.1</td>\n    </tr>\n    <tr>\n      <th>3</th>\n      <td>ngc</td>\n      <td>0.132222</td>\n      <td>0.038889</td>\n      <td>0.128889</td>\n      <td>12</td>\n      <td>0.1</td>\n    </tr>\n    <tr>\n      <th>4</th>\n      <td>ngc</td>\n      <td>0.132222</td>\n      <td>0.038889</td>\n      <td>0.128889</td>\n      <td>0</td>\n      <td>0.1</td>\n    </tr>\n    <tr>\n      <th>5</th>\n      <td>ngc0</td>\n      <td>0.132222</td>\n      <td>0.038889</td>\n      <td>0.128889</td>\n      <td>1</td>\n      <td>0.1</td>\n    </tr>\n    <tr>\n      <th>6</th>\n      <td>ngc0</td>\n      <td>0.132222</td>\n      <td>0.038889</td>\n      <td>0.128889</td>\n      <td>101</td>\n      <td>0.1</td>\n    </tr>\n    <tr>\n      <th>7</th>\n      <td>ngc0</td>\n      <td>0.132222</td>\n      <td>0.038889</td>\n      <td>0.128889</td>\n      <td>33</td>\n      <td>0.1</td>\n    </tr>\n    <tr>\n      <th>8</th>\n      <td>ngc0</td>\n      <td>0.132222</td>\n      <td>0.038889</td>\n      <td>0.128889</td>\n      <td>12</td>\n      <td>0.1</td>\n    </tr>\n    <tr>\n      <th>9</th>\n      <td>ngc0</td>\n      <td>0.132222</td>\n      <td>0.038889</td>\n      <td>0.128889</td>\n      <td>0</td>\n      <td>0.1</td>\n    </tr>\n    <tr>\n      <th>10</th>\n      <td>nri</td>\n      <td>0.816609</td>\n      <td>0.906574</td>\n      <td>0.799308</td>\n      <td>1</td>\n      <td>0.1</td>\n    </tr>\n    <tr>\n      <th>11</th>\n      <td>nri</td>\n      <td>0.833910</td>\n      <td>0.930796</td>\n      <td>0.823529</td>\n      <td>101</td>\n      <td>0.1</td>\n    </tr>\n    <tr>\n      <th>12</th>\n      <td>nri</td>\n      <td>0.785467</td>\n      <td>0.861592</td>\n      <td>0.775087</td>\n      <td>33</td>\n      <td>0.1</td>\n    </tr>\n    <tr>\n      <th>13</th>\n      <td>nri</td>\n      <td>0.809689</td>\n      <td>0.906574</td>\n      <td>0.806228</td>\n      <td>12</td>\n      <td>0.1</td>\n    </tr>\n    <tr>\n      <th>14</th>\n      <td>nri</td>\n      <td>0.830450</td>\n      <td>0.927336</td>\n      <td>0.820069</td>\n      <td>0</td>\n      <td>0.1</td>\n    </tr>\n    <tr>\n      <th>15</th>\n      <td>tvar</td>\n      <td>0.867778</td>\n      <td>0.961111</td>\n      <td>0.871111</td>\n      <td>1</td>\n      <td>0.1</td>\n    </tr>\n    <tr>\n      <th>16</th>\n      <td>tvar</td>\n      <td>0.867778</td>\n      <td>0.961111</td>\n      <td>0.871111</td>\n      <td>101</td>\n      <td>0.1</td>\n    </tr>\n    <tr>\n      <th>17</th>\n      <td>tvar</td>\n      <td>0.867778</td>\n      <td>0.961111</td>\n      <td>0.871111</td>\n      <td>33</td>\n      <td>0.1</td>\n    </tr>\n    <tr>\n      <th>18</th>\n      <td>tvar</td>\n      <td>0.867778</td>\n      <td>0.961111</td>\n      <td>0.871111</td>\n      <td>12</td>\n      <td>0.1</td>\n    </tr>\n    <tr>\n      <th>19</th>\n      <td>tvar</td>\n      <td>0.867778</td>\n      <td>0.961111</td>\n      <td>0.871111</td>\n      <td>0</td>\n      <td>0.1</td>\n    </tr>\n  </tbody>\n</table>\n</div>"
     },
     "execution_count": 37,
     "metadata": {},
     "output_type": "execute_result"
    }
   ],
   "source": [
    "df = pd.DataFrame(data=results)\n",
    "if save_loaded_results:\n",
    "    df.to_csv(f'results/{experiment}/processed_data_{experiment}.csv')\n",
    "    df = pd.read_csv(f'results/{experiment}/processed_data_{experiment}.csv', index_col='Unnamed: 0')\n",
    "df"
   ],
   "metadata": {
    "collapsed": false,
    "pycharm": {
     "name": "#%%\n"
    }
   }
  },
  {
   "cell_type": "markdown",
   "source": [
    "# Experiment 9"
   ],
   "metadata": {
    "collapsed": false,
    "pycharm": {
     "name": "#%% md\n"
    }
   }
  },
  {
   "cell_type": "code",
   "execution_count": 9,
   "outputs": [],
   "source": [
    "import pandas as pd\n",
    "\n",
    "save_loaded_results = True"
   ],
   "metadata": {
    "collapsed": false,
    "pycharm": {
     "name": "#%%\n"
    }
   }
  },
  {
   "cell_type": "code",
   "execution_count": 10,
   "outputs": [
    {
     "data": {
      "text/plain": "dict_keys(['model', 'accuracy', 'seed', 'c11', 'c12', 'c21', 'c22', 'sigma_eta_diag', 'sigma_eta_off_diag'])"
     },
     "execution_count": 10,
     "metadata": {},
     "output_type": "execute_result"
    }
   ],
   "source": [
    "# Get data\n",
    "experiment = '9'\n",
    "\n",
    "attrs = [\n",
    "    ('experiment_config', 'model'),\n",
    "    ('model_results', 'accuracy'),\n",
    "    ('experiment_config', 'seed'),\n",
    "    ('experiment_config', 'c11'),\n",
    "    ('experiment_config', 'c12'),\n",
    "    ('experiment_config', 'c21'),\n",
    "    ('experiment_config', 'c22'),\n",
    "    ('experiment_config', 'sigma_eta_diag'),\n",
    "    ('experiment_config', 'sigma_eta_off_diag')\n",
    "]\n",
    "\n",
    "results = get_results(experiment, attrs)\n",
    "results.keys()"
   ],
   "metadata": {
    "collapsed": false,
    "pycharm": {
     "name": "#%%\n"
    }
   }
  },
  {
   "cell_type": "code",
   "execution_count": 11,
   "outputs": [
    {
     "data": {
      "text/plain": "        model  accuracy  seed  c11  c12  c21  c22  sigma_eta_diag  \\\n0   ngc_noise       1.0     1  0.8    0    0  0.8            0.01   \n1   ngc_noise       1.0   101  0.8    0    0  0.8            0.01   \n2   ngc_noise       1.0    33  0.8    0    0  0.8            0.01   \n3   ngc_noise       1.0    12  0.8    0    0  0.8            0.01   \n4   ngc_noise       1.0     0  0.8    0    0  0.8            0.01   \n5   ngc_noise       0.5     1  0.8    0    0  0.8            0.01   \n6   ngc_noise       0.5   101  0.8    0    0  0.8            0.01   \n7   ngc_noise       0.5    33  0.8    0    0  0.8            0.01   \n8   ngc_noise       0.5    12  0.8    0    0  0.8            0.01   \n9   ngc_noise       0.5     0  0.8    0    0  0.8            0.01   \n10  ngc_noise       1.0     1  0.8    0    0  0.8            0.02   \n11  ngc_noise       1.0   101  0.8    0    0  0.8            0.02   \n12  ngc_noise       1.0    33  0.8    0    0  0.8            0.02   \n13  ngc_noise       1.0    12  0.8    0    0  0.8            0.02   \n14  ngc_noise       1.0     0  0.8    0    0  0.8            0.02   \n15  ngc_noise       0.5     1  0.8    0    0  0.8            0.02   \n16  ngc_noise       0.5   101  0.8    0    0  0.8            0.02   \n17  ngc_noise       0.5    33  0.8    0    0  0.8            0.02   \n18  ngc_noise       0.5    12  0.8    0    0  0.8            0.02   \n19  ngc_noise       0.5     0  0.8    0    0  0.8            0.02   \n\n    sigma_eta_off_diag  \n0                 0.00  \n1                 0.00  \n2                 0.00  \n3                 0.00  \n4                 0.00  \n5                 0.01  \n6                 0.01  \n7                 0.01  \n8                 0.01  \n9                 0.01  \n10                0.00  \n11                0.00  \n12                0.00  \n13                0.00  \n14                0.00  \n15                0.02  \n16                0.02  \n17                0.02  \n18                0.02  \n19                0.02  ",
      "text/html": "<div>\n<style scoped>\n    .dataframe tbody tr th:only-of-type {\n        vertical-align: middle;\n    }\n\n    .dataframe tbody tr th {\n        vertical-align: top;\n    }\n\n    .dataframe thead th {\n        text-align: right;\n    }\n</style>\n<table border=\"1\" class=\"dataframe\">\n  <thead>\n    <tr style=\"text-align: right;\">\n      <th></th>\n      <th>model</th>\n      <th>accuracy</th>\n      <th>seed</th>\n      <th>c11</th>\n      <th>c12</th>\n      <th>c21</th>\n      <th>c22</th>\n      <th>sigma_eta_diag</th>\n      <th>sigma_eta_off_diag</th>\n    </tr>\n  </thead>\n  <tbody>\n    <tr>\n      <th>0</th>\n      <td>ngc_noise</td>\n      <td>1.0</td>\n      <td>1</td>\n      <td>0.8</td>\n      <td>0</td>\n      <td>0</td>\n      <td>0.8</td>\n      <td>0.01</td>\n      <td>0.00</td>\n    </tr>\n    <tr>\n      <th>1</th>\n      <td>ngc_noise</td>\n      <td>1.0</td>\n      <td>101</td>\n      <td>0.8</td>\n      <td>0</td>\n      <td>0</td>\n      <td>0.8</td>\n      <td>0.01</td>\n      <td>0.00</td>\n    </tr>\n    <tr>\n      <th>2</th>\n      <td>ngc_noise</td>\n      <td>1.0</td>\n      <td>33</td>\n      <td>0.8</td>\n      <td>0</td>\n      <td>0</td>\n      <td>0.8</td>\n      <td>0.01</td>\n      <td>0.00</td>\n    </tr>\n    <tr>\n      <th>3</th>\n      <td>ngc_noise</td>\n      <td>1.0</td>\n      <td>12</td>\n      <td>0.8</td>\n      <td>0</td>\n      <td>0</td>\n      <td>0.8</td>\n      <td>0.01</td>\n      <td>0.00</td>\n    </tr>\n    <tr>\n      <th>4</th>\n      <td>ngc_noise</td>\n      <td>1.0</td>\n      <td>0</td>\n      <td>0.8</td>\n      <td>0</td>\n      <td>0</td>\n      <td>0.8</td>\n      <td>0.01</td>\n      <td>0.00</td>\n    </tr>\n    <tr>\n      <th>5</th>\n      <td>ngc_noise</td>\n      <td>0.5</td>\n      <td>1</td>\n      <td>0.8</td>\n      <td>0</td>\n      <td>0</td>\n      <td>0.8</td>\n      <td>0.01</td>\n      <td>0.01</td>\n    </tr>\n    <tr>\n      <th>6</th>\n      <td>ngc_noise</td>\n      <td>0.5</td>\n      <td>101</td>\n      <td>0.8</td>\n      <td>0</td>\n      <td>0</td>\n      <td>0.8</td>\n      <td>0.01</td>\n      <td>0.01</td>\n    </tr>\n    <tr>\n      <th>7</th>\n      <td>ngc_noise</td>\n      <td>0.5</td>\n      <td>33</td>\n      <td>0.8</td>\n      <td>0</td>\n      <td>0</td>\n      <td>0.8</td>\n      <td>0.01</td>\n      <td>0.01</td>\n    </tr>\n    <tr>\n      <th>8</th>\n      <td>ngc_noise</td>\n      <td>0.5</td>\n      <td>12</td>\n      <td>0.8</td>\n      <td>0</td>\n      <td>0</td>\n      <td>0.8</td>\n      <td>0.01</td>\n      <td>0.01</td>\n    </tr>\n    <tr>\n      <th>9</th>\n      <td>ngc_noise</td>\n      <td>0.5</td>\n      <td>0</td>\n      <td>0.8</td>\n      <td>0</td>\n      <td>0</td>\n      <td>0.8</td>\n      <td>0.01</td>\n      <td>0.01</td>\n    </tr>\n    <tr>\n      <th>10</th>\n      <td>ngc_noise</td>\n      <td>1.0</td>\n      <td>1</td>\n      <td>0.8</td>\n      <td>0</td>\n      <td>0</td>\n      <td>0.8</td>\n      <td>0.02</td>\n      <td>0.00</td>\n    </tr>\n    <tr>\n      <th>11</th>\n      <td>ngc_noise</td>\n      <td>1.0</td>\n      <td>101</td>\n      <td>0.8</td>\n      <td>0</td>\n      <td>0</td>\n      <td>0.8</td>\n      <td>0.02</td>\n      <td>0.00</td>\n    </tr>\n    <tr>\n      <th>12</th>\n      <td>ngc_noise</td>\n      <td>1.0</td>\n      <td>33</td>\n      <td>0.8</td>\n      <td>0</td>\n      <td>0</td>\n      <td>0.8</td>\n      <td>0.02</td>\n      <td>0.00</td>\n    </tr>\n    <tr>\n      <th>13</th>\n      <td>ngc_noise</td>\n      <td>1.0</td>\n      <td>12</td>\n      <td>0.8</td>\n      <td>0</td>\n      <td>0</td>\n      <td>0.8</td>\n      <td>0.02</td>\n      <td>0.00</td>\n    </tr>\n    <tr>\n      <th>14</th>\n      <td>ngc_noise</td>\n      <td>1.0</td>\n      <td>0</td>\n      <td>0.8</td>\n      <td>0</td>\n      <td>0</td>\n      <td>0.8</td>\n      <td>0.02</td>\n      <td>0.00</td>\n    </tr>\n    <tr>\n      <th>15</th>\n      <td>ngc_noise</td>\n      <td>0.5</td>\n      <td>1</td>\n      <td>0.8</td>\n      <td>0</td>\n      <td>0</td>\n      <td>0.8</td>\n      <td>0.02</td>\n      <td>0.02</td>\n    </tr>\n    <tr>\n      <th>16</th>\n      <td>ngc_noise</td>\n      <td>0.5</td>\n      <td>101</td>\n      <td>0.8</td>\n      <td>0</td>\n      <td>0</td>\n      <td>0.8</td>\n      <td>0.02</td>\n      <td>0.02</td>\n    </tr>\n    <tr>\n      <th>17</th>\n      <td>ngc_noise</td>\n      <td>0.5</td>\n      <td>33</td>\n      <td>0.8</td>\n      <td>0</td>\n      <td>0</td>\n      <td>0.8</td>\n      <td>0.02</td>\n      <td>0.02</td>\n    </tr>\n    <tr>\n      <th>18</th>\n      <td>ngc_noise</td>\n      <td>0.5</td>\n      <td>12</td>\n      <td>0.8</td>\n      <td>0</td>\n      <td>0</td>\n      <td>0.8</td>\n      <td>0.02</td>\n      <td>0.02</td>\n    </tr>\n    <tr>\n      <th>19</th>\n      <td>ngc_noise</td>\n      <td>0.5</td>\n      <td>0</td>\n      <td>0.8</td>\n      <td>0</td>\n      <td>0</td>\n      <td>0.8</td>\n      <td>0.02</td>\n      <td>0.02</td>\n    </tr>\n  </tbody>\n</table>\n</div>"
     },
     "execution_count": 11,
     "metadata": {},
     "output_type": "execute_result"
    }
   ],
   "source": [
    "df = pd.DataFrame(data=results)\n",
    "if save_loaded_results:\n",
    "    df.to_csv(f'results/{experiment}/processed_data_{experiment}.csv')\n",
    "    df = pd.read_csv(f'results/{experiment}/processed_data_{experiment}.csv', index_col='Unnamed: 0')\n",
    "df"
   ],
   "metadata": {
    "collapsed": false,
    "pycharm": {
     "name": "#%%\n"
    }
   }
  },
  {
   "cell_type": "code",
   "execution_count": null,
   "outputs": [],
   "source": [],
   "metadata": {
    "collapsed": false,
    "pycharm": {
     "name": "#%%\n"
    }
   }
  }
 ],
 "metadata": {
  "kernelspec": {
   "display_name": "Python 3",
   "language": "python",
   "name": "python3"
  },
  "language_info": {
   "codemirror_mode": {
    "name": "ipython",
    "version": 2
   },
   "file_extension": ".py",
   "mimetype": "text/x-python",
   "name": "python",
   "nbconvert_exporter": "python",
   "pygments_lexer": "ipython2",
   "version": "2.7.6"
  }
 },
 "nbformat": 4,
 "nbformat_minor": 0
}