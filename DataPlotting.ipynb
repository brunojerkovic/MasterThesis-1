{
 "cells": [
  {
   "cell_type": "code",
   "execution_count": 13,
   "outputs": [],
   "source": [
    "import numpy as np\n",
    "import pandas as pd"
   ],
   "metadata": {
    "collapsed": false,
    "pycharm": {
     "name": "#%%\n"
    }
   }
  },
  {
   "cell_type": "code",
   "execution_count": 16,
   "outputs": [
    {
     "data": {
      "text/plain": "    model  accuracy  seed  c11  c12  c21  c22  sigma_eta_diag  \\\n0     ngc       1.0     1  0.8  0.0    0  0.8            0.01   \n1     ngc       1.0   101  0.8  0.0    0  0.8            0.01   \n2     ngc       1.0    33  0.8  0.0    0  0.8            0.01   \n3     ngc       1.0    12  0.8  0.0    0  0.8            0.01   \n4     ngc       1.0     0  0.8  0.0    0  0.8            0.01   \n..    ...       ...   ...  ...  ...  ...  ...             ...   \n150  tvar       0.5     1  0.8  0.0    0  0.8            0.02   \n151  tvar       0.5   101  0.8  0.0    0  0.8            0.02   \n152  tvar       0.5    33  0.8  0.0    0  0.8            0.02   \n153  tvar       0.5    12  0.8  0.0    0  0.8            0.02   \n154  tvar       0.5     0  0.8  0.0    0  0.8            0.02   \n\n     sigma_eta_off_diag  \n0                  0.00  \n1                  0.00  \n2                  0.00  \n3                  0.00  \n4                  0.00  \n..                  ...  \n150                0.02  \n151                0.02  \n152                0.02  \n153                0.02  \n154                0.02  \n\n[80 rows x 9 columns]",
      "text/html": "<div>\n<style scoped>\n    .dataframe tbody tr th:only-of-type {\n        vertical-align: middle;\n    }\n\n    .dataframe tbody tr th {\n        vertical-align: top;\n    }\n\n    .dataframe thead th {\n        text-align: right;\n    }\n</style>\n<table border=\"1\" class=\"dataframe\">\n  <thead>\n    <tr style=\"text-align: right;\">\n      <th></th>\n      <th>model</th>\n      <th>accuracy</th>\n      <th>seed</th>\n      <th>c11</th>\n      <th>c12</th>\n      <th>c21</th>\n      <th>c22</th>\n      <th>sigma_eta_diag</th>\n      <th>sigma_eta_off_diag</th>\n    </tr>\n  </thead>\n  <tbody>\n    <tr>\n      <th>0</th>\n      <td>ngc</td>\n      <td>1.0</td>\n      <td>1</td>\n      <td>0.8</td>\n      <td>0.0</td>\n      <td>0</td>\n      <td>0.8</td>\n      <td>0.01</td>\n      <td>0.00</td>\n    </tr>\n    <tr>\n      <th>1</th>\n      <td>ngc</td>\n      <td>1.0</td>\n      <td>101</td>\n      <td>0.8</td>\n      <td>0.0</td>\n      <td>0</td>\n      <td>0.8</td>\n      <td>0.01</td>\n      <td>0.00</td>\n    </tr>\n    <tr>\n      <th>2</th>\n      <td>ngc</td>\n      <td>1.0</td>\n      <td>33</td>\n      <td>0.8</td>\n      <td>0.0</td>\n      <td>0</td>\n      <td>0.8</td>\n      <td>0.01</td>\n      <td>0.00</td>\n    </tr>\n    <tr>\n      <th>3</th>\n      <td>ngc</td>\n      <td>1.0</td>\n      <td>12</td>\n      <td>0.8</td>\n      <td>0.0</td>\n      <td>0</td>\n      <td>0.8</td>\n      <td>0.01</td>\n      <td>0.00</td>\n    </tr>\n    <tr>\n      <th>4</th>\n      <td>ngc</td>\n      <td>1.0</td>\n      <td>0</td>\n      <td>0.8</td>\n      <td>0.0</td>\n      <td>0</td>\n      <td>0.8</td>\n      <td>0.01</td>\n      <td>0.00</td>\n    </tr>\n    <tr>\n      <th>...</th>\n      <td>...</td>\n      <td>...</td>\n      <td>...</td>\n      <td>...</td>\n      <td>...</td>\n      <td>...</td>\n      <td>...</td>\n      <td>...</td>\n      <td>...</td>\n    </tr>\n    <tr>\n      <th>150</th>\n      <td>tvar</td>\n      <td>0.5</td>\n      <td>1</td>\n      <td>0.8</td>\n      <td>0.0</td>\n      <td>0</td>\n      <td>0.8</td>\n      <td>0.02</td>\n      <td>0.02</td>\n    </tr>\n    <tr>\n      <th>151</th>\n      <td>tvar</td>\n      <td>0.5</td>\n      <td>101</td>\n      <td>0.8</td>\n      <td>0.0</td>\n      <td>0</td>\n      <td>0.8</td>\n      <td>0.02</td>\n      <td>0.02</td>\n    </tr>\n    <tr>\n      <th>152</th>\n      <td>tvar</td>\n      <td>0.5</td>\n      <td>33</td>\n      <td>0.8</td>\n      <td>0.0</td>\n      <td>0</td>\n      <td>0.8</td>\n      <td>0.02</td>\n      <td>0.02</td>\n    </tr>\n    <tr>\n      <th>153</th>\n      <td>tvar</td>\n      <td>0.5</td>\n      <td>12</td>\n      <td>0.8</td>\n      <td>0.0</td>\n      <td>0</td>\n      <td>0.8</td>\n      <td>0.02</td>\n      <td>0.02</td>\n    </tr>\n    <tr>\n      <th>154</th>\n      <td>tvar</td>\n      <td>0.5</td>\n      <td>0</td>\n      <td>0.8</td>\n      <td>0.0</td>\n      <td>0</td>\n      <td>0.8</td>\n      <td>0.02</td>\n      <td>0.02</td>\n    </tr>\n  </tbody>\n</table>\n<p>80 rows × 9 columns</p>\n</div>"
     },
     "execution_count": 16,
     "metadata": {},
     "output_type": "execute_result"
    }
   ],
   "source": [
    "experiment = f'2'\n",
    "\n",
    "df = pd.read_csv(f'results/{experiment}/processed_data_{experiment}.csv', index_col='Unnamed: 0')\n",
    "\n",
    "df = df.loc[df.c12 == 0] if int(experiment[0]) == 2 or int(experiment[0]) == 9 else df\n",
    "df = df[df.n_data <= 8] if int(experiment[0]) == 3 else df\n",
    "#df = df.drop(columns=['time']) if int(experiment[0]) == 3 else df\n",
    "if int(experiment[0]) == 2 or int(experiment[0]) == 9:\n",
    "    df.loc[df.sigma_eta_off_diag == -1, 'sigma_eta_off_diag'] = df.sigma_eta_diag\n",
    "if 'prior' in df.columns:\n",
    "    df.loc[df.prior == True, 'model'] = df[df.prior == True].model + '_sparse'\n",
    "\n",
    "# Dataframe experiment # ALL OF THIS: 7,8\n",
    "if 9 > int(experiment[0]) > 5:\n",
    "    acc_cols = [c[:-4] for c in df.columns if c.endswith('_acc')]\n",
    "    num_repetitions = len(df)\n",
    "\n",
    "    df = pd.concat([df, df, df])\n",
    "    df = df.reset_index(drop=True)\n",
    "    df['dataset'] = sorted(acc_cols * num_repetitions)\n",
    "    df['accuracy'] = np.zeros(df.shape[0])\n",
    "    for acc_col in acc_cols:\n",
    "        df.loc[df.dataset == acc_col, 'accuracy'] = df.loc[df.dataset == acc_col, f\"{acc_col}_acc\"]\n",
    "\n",
    "df"
   ],
   "metadata": {
    "collapsed": false,
    "pycharm": {
     "name": "#%%\n"
    }
   }
  },
  {
   "cell_type": "code",
   "execution_count": 17,
   "outputs": [
    {
     "data": {
      "text/plain": "   model  c11  c12  c21  sigma_eta_diag  sigma_eta_off_diag  acc_mean  \\\n0    ngc  0.8  0.0    0            0.01                0.00      1.00   \n1    ngc  0.8  0.0    0            0.01                0.01      0.50   \n2    ngc  0.8  0.0    0            0.02                0.00      1.00   \n3    ngc  0.8  0.0    0            0.02                0.02      0.50   \n4   ngc0  0.8  0.0    0            0.01                0.00      1.00   \n5   ngc0  0.8  0.0    0            0.01                0.01      0.50   \n6   ngc0  0.8  0.0    0            0.02                0.00      1.00   \n7   ngc0  0.8  0.0    0            0.02                0.02      0.50   \n8    nri  0.8  0.0    0            0.01                0.00      0.45   \n9    nri  0.8  0.0    0            0.01                0.01      0.20   \n10   nri  0.8  0.0    0            0.02                0.00      0.45   \n11   nri  0.8  0.0    0            0.02                0.02      0.20   \n12  tvar  0.8  0.0    0            0.01                0.00      0.90   \n13  tvar  0.8  0.0    0            0.01                0.01      0.50   \n14  tvar  0.8  0.0    0            0.02                0.00      0.90   \n15  tvar  0.8  0.0    0            0.02                0.02      0.50   \n\n     acc_std  \n0   0.000000  \n1   0.000000  \n2   0.000000  \n3   0.000000  \n4   0.000000  \n5   0.000000  \n6   0.000000  \n7   0.000000  \n8   0.111803  \n9   0.273861  \n10  0.111803  \n11  0.273861  \n12  0.136931  \n13  0.000000  \n14  0.136931  \n15  0.000000  ",
      "text/html": "<div>\n<style scoped>\n    .dataframe tbody tr th:only-of-type {\n        vertical-align: middle;\n    }\n\n    .dataframe tbody tr th {\n        vertical-align: top;\n    }\n\n    .dataframe thead th {\n        text-align: right;\n    }\n</style>\n<table border=\"1\" class=\"dataframe\">\n  <thead>\n    <tr style=\"text-align: right;\">\n      <th></th>\n      <th>model</th>\n      <th>c11</th>\n      <th>c12</th>\n      <th>c21</th>\n      <th>sigma_eta_diag</th>\n      <th>sigma_eta_off_diag</th>\n      <th>acc_mean</th>\n      <th>acc_std</th>\n    </tr>\n  </thead>\n  <tbody>\n    <tr>\n      <th>0</th>\n      <td>ngc</td>\n      <td>0.8</td>\n      <td>0.0</td>\n      <td>0</td>\n      <td>0.01</td>\n      <td>0.00</td>\n      <td>1.00</td>\n      <td>0.000000</td>\n    </tr>\n    <tr>\n      <th>1</th>\n      <td>ngc</td>\n      <td>0.8</td>\n      <td>0.0</td>\n      <td>0</td>\n      <td>0.01</td>\n      <td>0.01</td>\n      <td>0.50</td>\n      <td>0.000000</td>\n    </tr>\n    <tr>\n      <th>2</th>\n      <td>ngc</td>\n      <td>0.8</td>\n      <td>0.0</td>\n      <td>0</td>\n      <td>0.02</td>\n      <td>0.00</td>\n      <td>1.00</td>\n      <td>0.000000</td>\n    </tr>\n    <tr>\n      <th>3</th>\n      <td>ngc</td>\n      <td>0.8</td>\n      <td>0.0</td>\n      <td>0</td>\n      <td>0.02</td>\n      <td>0.02</td>\n      <td>0.50</td>\n      <td>0.000000</td>\n    </tr>\n    <tr>\n      <th>4</th>\n      <td>ngc0</td>\n      <td>0.8</td>\n      <td>0.0</td>\n      <td>0</td>\n      <td>0.01</td>\n      <td>0.00</td>\n      <td>1.00</td>\n      <td>0.000000</td>\n    </tr>\n    <tr>\n      <th>5</th>\n      <td>ngc0</td>\n      <td>0.8</td>\n      <td>0.0</td>\n      <td>0</td>\n      <td>0.01</td>\n      <td>0.01</td>\n      <td>0.50</td>\n      <td>0.000000</td>\n    </tr>\n    <tr>\n      <th>6</th>\n      <td>ngc0</td>\n      <td>0.8</td>\n      <td>0.0</td>\n      <td>0</td>\n      <td>0.02</td>\n      <td>0.00</td>\n      <td>1.00</td>\n      <td>0.000000</td>\n    </tr>\n    <tr>\n      <th>7</th>\n      <td>ngc0</td>\n      <td>0.8</td>\n      <td>0.0</td>\n      <td>0</td>\n      <td>0.02</td>\n      <td>0.02</td>\n      <td>0.50</td>\n      <td>0.000000</td>\n    </tr>\n    <tr>\n      <th>8</th>\n      <td>nri</td>\n      <td>0.8</td>\n      <td>0.0</td>\n      <td>0</td>\n      <td>0.01</td>\n      <td>0.00</td>\n      <td>0.45</td>\n      <td>0.111803</td>\n    </tr>\n    <tr>\n      <th>9</th>\n      <td>nri</td>\n      <td>0.8</td>\n      <td>0.0</td>\n      <td>0</td>\n      <td>0.01</td>\n      <td>0.01</td>\n      <td>0.20</td>\n      <td>0.273861</td>\n    </tr>\n    <tr>\n      <th>10</th>\n      <td>nri</td>\n      <td>0.8</td>\n      <td>0.0</td>\n      <td>0</td>\n      <td>0.02</td>\n      <td>0.00</td>\n      <td>0.45</td>\n      <td>0.111803</td>\n    </tr>\n    <tr>\n      <th>11</th>\n      <td>nri</td>\n      <td>0.8</td>\n      <td>0.0</td>\n      <td>0</td>\n      <td>0.02</td>\n      <td>0.02</td>\n      <td>0.20</td>\n      <td>0.273861</td>\n    </tr>\n    <tr>\n      <th>12</th>\n      <td>tvar</td>\n      <td>0.8</td>\n      <td>0.0</td>\n      <td>0</td>\n      <td>0.01</td>\n      <td>0.00</td>\n      <td>0.90</td>\n      <td>0.136931</td>\n    </tr>\n    <tr>\n      <th>13</th>\n      <td>tvar</td>\n      <td>0.8</td>\n      <td>0.0</td>\n      <td>0</td>\n      <td>0.01</td>\n      <td>0.01</td>\n      <td>0.50</td>\n      <td>0.000000</td>\n    </tr>\n    <tr>\n      <th>14</th>\n      <td>tvar</td>\n      <td>0.8</td>\n      <td>0.0</td>\n      <td>0</td>\n      <td>0.02</td>\n      <td>0.00</td>\n      <td>0.90</td>\n      <td>0.136931</td>\n    </tr>\n    <tr>\n      <th>15</th>\n      <td>tvar</td>\n      <td>0.8</td>\n      <td>0.0</td>\n      <td>0</td>\n      <td>0.02</td>\n      <td>0.02</td>\n      <td>0.50</td>\n      <td>0.000000</td>\n    </tr>\n  </tbody>\n</table>\n</div>"
     },
     "execution_count": 17,
     "metadata": {},
     "output_type": "execute_result"
    }
   ],
   "source": [
    "addition = []\n",
    "if experiment == '0':\n",
    "    addition += ['trainset_size']\n",
    "elif experiment == '1a':\n",
    "    addition += ['c11', 'c22']\n",
    "elif experiment == '1b':\n",
    "    addition += ['c21']\n",
    "elif experiment == '1c':\n",
    "    addition += ['c12']\n",
    "elif experiment == '1d':\n",
    "    addition += ['c12', 'c21']\n",
    "elif experiment == '2' or experiment == '9':\n",
    "    addition += ['c11', 'c12', 'c21', 'sigma_eta_diag', 'sigma_eta_off_diag']\n",
    "elif experiment == '3':\n",
    "    addition += ['n_data']\n",
    "elif experiment == '4':\n",
    "    addition += ['sparsity']\n",
    "elif experiment == '5':\n",
    "    addition += ['c11', 'c12', 'c21', 'c22']\n",
    "elif experiment == '7' or experiment == '8':\n",
    "    addition += ['dataset']\n",
    "\n",
    "groupby_columns = ['model'] + addition\n",
    "df_mean = df.groupby(by=groupby_columns).mean().rename(columns={'accuracy':'acc_mean'})[['acc_mean']]\n",
    "df_std = df.groupby(by=groupby_columns).std().rename(columns={'accuracy': 'acc_std'})[['acc_std']]\n",
    "# df_time = df.groupby(by=groupby_columns).std().rename(columns={'time': 'time'})[['time']]\n",
    "df_results = pd.concat([df_mean, df_std], axis=1, join=\"inner\").reset_index()#[['model', 'c11', 'acc_mean', 'acc_std']]\n",
    "df_results"
   ],
   "metadata": {
    "collapsed": false,
    "pycharm": {
     "name": "#%%\n"
    }
   }
  },
  {
   "cell_type": "code",
   "execution_count": 11,
   "outputs": [
    {
     "name": "stderr",
     "output_type": "stream",
     "text": [
      "C:\\Users\\User\\AppData\\Local\\Temp\\ipykernel_36556\\1965764976.py:1: VisibleDeprecationWarning: Creating an ndarray from ragged nested sequences (which is a list-or-tuple of lists-or-tuples-or ndarrays with different lengths or shapes) is deprecated. If you meant to do this, you must specify 'dtype=object' when creating the ndarray.\n",
      "  mean_acc = np.array([df_results[df_results.model==model]['acc_mean'] for model in list(set(df.model))])\n",
      "C:\\Users\\User\\AppData\\Local\\Temp\\ipykernel_36556\\1965764976.py:2: VisibleDeprecationWarning: Creating an ndarray from ragged nested sequences (which is a list-or-tuple of lists-or-tuples-or ndarrays with different lengths or shapes) is deprecated. If you meant to do this, you must specify 'dtype=object' when creating the ndarray.\n",
      "  std_acc = np.array([df_results[df_results.model==model]['acc_std'] for model in list(set(df.model))])\n"
     ]
    },
    {
     "data": {
      "text/plain": "((2,), (2,))"
     },
     "execution_count": 11,
     "metadata": {},
     "output_type": "execute_result"
    }
   ],
   "source": [
    "mean_acc = np.array([df_results[df_results.model==model]['acc_mean'] for model in list(set(df.model))])\n",
    "std_acc = np.array([df_results[df_results.model==model]['acc_std'] for model in list(set(df.model))])\n",
    "\n",
    "mean_acc.shape, std_acc.shape"
   ],
   "metadata": {
    "collapsed": false,
    "pycharm": {
     "name": "#%%\n"
    }
   }
  },
  {
   "cell_type": "code",
   "execution_count": 12,
   "outputs": [
    {
     "name": "stdout",
     "output_type": "stream",
     "text": [
      "['ngc0', 'ngc_noise']\n"
     ]
    },
    {
     "name": "stderr",
     "output_type": "stream",
     "text": [
      "C:\\Users\\User\\anaconda3\\envs\\thesis\\lib\\site-packages\\numpy\\core\\_methods.py:44: RuntimeWarning: invalid value encountered in reduce\n",
      "  return umr_minimum(a, axis, None, out, keepdims, initial, where)\n",
      "C:\\Users\\User\\anaconda3\\envs\\thesis\\lib\\site-packages\\numpy\\core\\_methods.py:40: RuntimeWarning: invalid value encountered in reduce\n",
      "  return umr_maximum(a, axis, None, out, keepdims, initial, where)\n"
     ]
    },
    {
     "ename": "KeyError",
     "evalue": "'ngc_noise'",
     "output_type": "error",
     "traceback": [
      "\u001B[1;31m---------------------------------------------------------------------------\u001B[0m",
      "\u001B[1;31mKeyError\u001B[0m                                  Traceback (most recent call last)",
      "Input \u001B[1;32mIn [12]\u001B[0m, in \u001B[0;36m<cell line: 39>\u001B[1;34m()\u001B[0m\n\u001B[0;32m     41\u001B[0m     y \u001B[38;5;241m=\u001B[39m mean_accuracy[i]\n\u001B[0;32m     42\u001B[0m     error \u001B[38;5;241m=\u001B[39m std_dev[i]\n\u001B[1;32m---> 43\u001B[0m     plt\u001B[38;5;241m.\u001B[39mbar(x \u001B[38;5;241m+\u001B[39m i \u001B[38;5;241m*\u001B[39m \u001B[38;5;241m0.1\u001B[39m, y, yerr\u001B[38;5;241m=\u001B[39merror, capsize\u001B[38;5;241m=\u001B[39m\u001B[38;5;241m10\u001B[39m, width\u001B[38;5;241m=\u001B[39m\u001B[38;5;241m0.1\u001B[39m, label\u001B[38;5;241m=\u001B[39m\u001B[43mmodel_names_dict\u001B[49m\u001B[43m[\u001B[49m\u001B[43mmodel_name\u001B[49m\u001B[43m]\u001B[49m, color\u001B[38;5;241m=\u001B[39mmodel_color_dict[model_name])\n\u001B[0;32m     45\u001B[0m \u001B[38;5;66;03m# Set the x-axis limits.\u001B[39;00m\n\u001B[0;32m     46\u001B[0m plt\u001B[38;5;241m.\u001B[39mxlim(\u001B[38;5;241m+\u001B[39m\u001B[38;5;241m0.75\u001B[39m, n_hyperparams[\u001B[38;5;241m0\u001B[39m]\u001B[38;5;241m+\u001B[39m\u001B[38;5;241m0.5\u001B[39m)\n",
      "\u001B[1;31mKeyError\u001B[0m: 'ngc_noise'"
     ]
    },
    {
     "data": {
      "text/plain": "<Figure size 1080x360 with 1 Axes>",
      "image/png": "[encoded data removed]"
     },
     "metadata": {
      "needs_background": "light"
     },
     "output_type": "display_data"
    }
   ],
   "source": [
    "# Should I save figure?\n",
    "save_figure = False\n",
    "\n",
    "# Import the necessary libraries.\n",
    "import matplotlib.pyplot as plt\n",
    "import numpy as np\n",
    "\n",
    "# create a figure with a width of 10 inches and a height of 8 inches\n",
    "fig = plt.figure(figsize=(15, 5))\n",
    "\n",
    "# Model name dictionary\n",
    "model_names_dict = {\n",
    "    'ngc': 'NGC',\n",
    "    'ngc0': 'NGC-0',\n",
    "    'nri': 'NRI',\n",
    "    'tvar': 't-VAR',\n",
    "    'nri_sparse': 'NRI(sparse prior)'\n",
    "}\n",
    "model_color_dict = {\n",
    "    'ngc': 'limegreen',\n",
    "    'ngc0': 'orange',\n",
    "    'nri': 'red',\n",
    "    'tvar': 'aqua',\n",
    "    'nri_sparse': 'pink'\n",
    "}\n",
    "\n",
    "# Set the names of the four deep learning models.\n",
    "model_names = list(set(df_results.model))\n",
    "print(model_names)\n",
    "\n",
    "# Set the number of hyperparameters for each model.\n",
    "n_hyperparams = [int(len(df_results)/len(model_names))] * len(model_names)\n",
    "\n",
    "# Set the mean accuracy and standard deviation of each hyperparameter for each model.\n",
    "mean_accuracy = mean_acc\n",
    "std_dev = std_acc\n",
    "\n",
    "# Create the grouped bar chart.\n",
    "for i, model_name in enumerate(model_names):\n",
    "    x = np.arange(n_hyperparams[i]) + 1\n",
    "    y = mean_accuracy[i]\n",
    "    error = std_dev[i]\n",
    "    plt.bar(x + i * 0.1, y, yerr=error, capsize=10, width=0.1, label=model_names_dict[model_name], color=model_color_dict[model_name])\n",
    "\n",
    "# Set the x-axis limits.\n",
    "plt.xlim(+0.75, n_hyperparams[0]+0.5)\n",
    "plt.xticks(np.arange(n_hyperparams[0])+1, fontsize=12)\n",
    "plt.yticks(fontsize=12)\n",
    "\n",
    "# Set the y-axis limits.\n",
    "#plt.ylim(0, 1)\n",
    "\n",
    "# Set axis names\n",
    "plt.ylabel('Similarity' if int(experiment[0]) >= 5 else 'Accuracy', fontsize=14)\n",
    "plt.xlabel('Experiment ID', fontsize=14)\n",
    "letter = '' if len(experiment) == 1 else f'({experiment[1]})'\n",
    "sub = 0 if int(experiment[0]) < 7 else 1\n",
    "plt.title(f'Experiment {int(experiment[0])+1-sub} {letter} \\n Mean and standard deviation of accuracy of four different models over {n_hyperparams[0]} sub-experiments', fontsize=16)\n",
    "\n",
    "# Add a legend.\n",
    "plt.legend(bbox_to_anchor=(1.0, 0.5))\n",
    "\n",
    "# Save figure\n",
    "if save_figure:\n",
    "    plt.savefig(f'results/{experiment}/results_{experiment}')\n",
    "\n",
    "# Show the plot.\n",
    "plt.show()"
   ],
   "metadata": {
    "collapsed": false,
    "pycharm": {
     "name": "#%%\n"
    }
   }
  },
  {
   "cell_type": "code",
   "execution_count": 68,
   "outputs": [
    {
     "data": {
      "text/plain": "(3000, 2)"
     },
     "execution_count": 68,
     "metadata": {},
     "output_type": "execute_result"
    }
   ],
   "source": [
    "import numpy as np\n",
    "from matplotlib import pyplot as plt\n",
    "\n",
    "epsilons = np.random.multivariate_normal(mean=[1.1,0], cov=[[0.01,0], [0,0.01]], size=(3_000,))\n",
    "epsilons.shape"
   ],
   "metadata": {
    "collapsed": false,
    "pycharm": {
     "name": "#%%\n"
    }
   }
  },
  {
   "cell_type": "code",
   "execution_count": 69,
   "outputs": [
    {
     "data": {
      "text/plain": "array([[1.05053751e-02, 7.39734707e-06],\n       [7.39734707e-06, 1.03456078e-02]])"
     },
     "execution_count": 69,
     "metadata": {},
     "output_type": "execute_result"
    }
   ],
   "source": [
    "n = epsilons.shape[0]\n",
    "mean = np.mean(epsilons, axis=0)\n",
    "cov_mat = (1/n) * (epsilons - mean).T @ (epsilons - mean)\n",
    "cov_mat"
   ],
   "metadata": {
    "collapsed": false,
    "pycharm": {
     "name": "#%%\n"
    }
   }
  },
  {
   "cell_type": "code",
   "execution_count": 80,
   "outputs": [
    {
     "data": {
      "text/plain": "[<matplotlib.lines.Line2D at 0x1cca66dfdc0>]"
     },
     "execution_count": 80,
     "metadata": {},
     "output_type": "execute_result"
    },
    {
     "data": {
      "text/plain": "<Figure size 432x288 with 1 Axes>",
      "image/png": "[encoded data removed]"
     },
     "metadata": {
      "needs_background": "light"
     },
     "output_type": "display_data"
    }
   ],
   "source": [
    "\n",
    "x = np.linspace(0, +10, n)\n",
    "y = 1 / (1 + np.exp(-x))\n",
    "\n",
    "plt.plot(x, y)"
   ],
   "metadata": {
    "collapsed": false,
    "pycharm": {
     "name": "#%%\n"
    }
   }
  },
  {
   "cell_type": "code",
   "execution_count": null,
   "outputs": [],
   "source": [],
   "metadata": {
    "collapsed": false,
    "pycharm": {
     "name": "#%%\n"
    }
   }
  }
 ],
 "metadata": {
  "kernelspec": {
   "display_name": "Python 3",
   "language": "python",
   "name": "python3"
  },
  "language_info": {
   "codemirror_mode": {
    "name": "ipython",
    "version": 2
   },
   "file_extension": ".py",
   "mimetype": "text/x-python",
   "name": "python",
   "nbconvert_exporter": "python",
   "pygments_lexer": "ipython2",
   "version": "2.7.6"
  }
 },
 "nbformat": 4,
 "nbformat_minor": 0
}