{
 "cells": [
  {
   "cell_type": "code",
   "execution_count": 1,
   "outputs": [],
   "source": [
    "import numpy as np\n",
    "import pandas as pd"
   ],
   "metadata": {
    "collapsed": false,
    "pycharm": {
     "name": "#%%\n"
    }
   }
  },
  {
   "cell_type": "code",
   "execution_count": 2,
   "outputs": [
    {
     "data": {
      "text/plain": "    model  accuracy  seed  c11  c12  c21  c22  sigma_eta_diag  \\\n0     ngc       1.0     1  0.8  0.0    0  0.8            0.01   \n1     ngc       1.0   101  0.8  0.0    0  0.8            0.01   \n2     ngc       1.0    33  0.8  0.0    0  0.8            0.01   \n3     ngc       1.0    12  0.8  0.0    0  0.8            0.01   \n4     ngc       1.0     0  0.8  0.0    0  0.8            0.01   \n..    ...       ...   ...  ...  ...  ...  ...             ...   \n150  tvar       0.5     1  0.8  0.0    0  0.8            0.02   \n151  tvar       0.5   101  0.8  0.0    0  0.8            0.02   \n152  tvar       0.5    33  0.8  0.0    0  0.8            0.02   \n153  tvar       0.5    12  0.8  0.0    0  0.8            0.02   \n154  tvar       0.5     0  0.8  0.0    0  0.8            0.02   \n\n     sigma_eta_off_diag  \n0                  0.00  \n1                  0.00  \n2                  0.00  \n3                  0.00  \n4                  0.00  \n..                  ...  \n150                0.02  \n151                0.02  \n152                0.02  \n153                0.02  \n154                0.02  \n\n[80 rows x 9 columns]",
      "text/html": "<div>\n<style scoped>\n    .dataframe tbody tr th:only-of-type {\n        vertical-align: middle;\n    }\n\n    .dataframe tbody tr th {\n        vertical-align: top;\n    }\n\n    .dataframe thead th {\n        text-align: right;\n    }\n</style>\n<table border=\"1\" class=\"dataframe\">\n  <thead>\n    <tr style=\"text-align: right;\">\n      <th></th>\n      <th>model</th>\n      <th>accuracy</th>\n      <th>seed</th>\n      <th>c11</th>\n      <th>c12</th>\n      <th>c21</th>\n      <th>c22</th>\n      <th>sigma_eta_diag</th>\n      <th>sigma_eta_off_diag</th>\n    </tr>\n  </thead>\n  <tbody>\n    <tr>\n      <th>0</th>\n      <td>ngc</td>\n      <td>1.0</td>\n      <td>1</td>\n      <td>0.8</td>\n      <td>0.0</td>\n      <td>0</td>\n      <td>0.8</td>\n      <td>0.01</td>\n      <td>0.00</td>\n    </tr>\n    <tr>\n      <th>1</th>\n      <td>ngc</td>\n      <td>1.0</td>\n      <td>101</td>\n      <td>0.8</td>\n      <td>0.0</td>\n      <td>0</td>\n      <td>0.8</td>\n      <td>0.01</td>\n      <td>0.00</td>\n    </tr>\n    <tr>\n      <th>2</th>\n      <td>ngc</td>\n      <td>1.0</td>\n      <td>33</td>\n      <td>0.8</td>\n      <td>0.0</td>\n      <td>0</td>\n      <td>0.8</td>\n      <td>0.01</td>\n      <td>0.00</td>\n    </tr>\n    <tr>\n      <th>3</th>\n      <td>ngc</td>\n      <td>1.0</td>\n      <td>12</td>\n      <td>0.8</td>\n      <td>0.0</td>\n      <td>0</td>\n      <td>0.8</td>\n      <td>0.01</td>\n      <td>0.00</td>\n    </tr>\n    <tr>\n      <th>4</th>\n      <td>ngc</td>\n      <td>1.0</td>\n      <td>0</td>\n      <td>0.8</td>\n      <td>0.0</td>\n      <td>0</td>\n      <td>0.8</td>\n      <td>0.01</td>\n      <td>0.00</td>\n    </tr>\n    <tr>\n      <th>...</th>\n      <td>...</td>\n      <td>...</td>\n      <td>...</td>\n      <td>...</td>\n      <td>...</td>\n      <td>...</td>\n      <td>...</td>\n      <td>...</td>\n      <td>...</td>\n    </tr>\n    <tr>\n      <th>150</th>\n      <td>tvar</td>\n      <td>0.5</td>\n      <td>1</td>\n      <td>0.8</td>\n      <td>0.0</td>\n      <td>0</td>\n      <td>0.8</td>\n      <td>0.02</td>\n      <td>0.02</td>\n    </tr>\n    <tr>\n      <th>151</th>\n      <td>tvar</td>\n      <td>0.5</td>\n      <td>101</td>\n      <td>0.8</td>\n      <td>0.0</td>\n      <td>0</td>\n      <td>0.8</td>\n      <td>0.02</td>\n      <td>0.02</td>\n    </tr>\n    <tr>\n      <th>152</th>\n      <td>tvar</td>\n      <td>0.5</td>\n      <td>33</td>\n      <td>0.8</td>\n      <td>0.0</td>\n      <td>0</td>\n      <td>0.8</td>\n      <td>0.02</td>\n      <td>0.02</td>\n    </tr>\n    <tr>\n      <th>153</th>\n      <td>tvar</td>\n      <td>0.5</td>\n      <td>12</td>\n      <td>0.8</td>\n      <td>0.0</td>\n      <td>0</td>\n      <td>0.8</td>\n      <td>0.02</td>\n      <td>0.02</td>\n    </tr>\n    <tr>\n      <th>154</th>\n      <td>tvar</td>\n      <td>0.5</td>\n      <td>0</td>\n      <td>0.8</td>\n      <td>0.0</td>\n      <td>0</td>\n      <td>0.8</td>\n      <td>0.02</td>\n      <td>0.02</td>\n    </tr>\n  </tbody>\n</table>\n<p>80 rows × 9 columns</p>\n</div>"
     },
     "execution_count": 2,
     "metadata": {},
     "output_type": "execute_result"
    }
   ],
   "source": [
    "experiment = f'2'\n",
    "\n",
    "df = pd.read_csv(f'results/{experiment}/processed_data_{experiment}.csv', index_col='Unnamed: 0')\n",
    "\n",
    "df = df.loc[df.c12 == 0] if int(experiment[0]) == 2 else df\n",
    "df = df[df.n_data <= 8] if int(experiment[0]) == 3 else df\n",
    "#df = df.drop(columns=['time']) if int(experiment[0]) == 3 else df\n",
    "if int(experiment[0]) == 2:\n",
    "    df.loc[df.sigma_eta_off_diag == -1, 'sigma_eta_off_diag'] = df.sigma_eta_diag\n",
    "if 'prior' in df.columns:\n",
    "    df.loc[df.prior == True, 'model'] = df[df.prior == True].model + '_sparse'\n",
    "\n",
    "# Dataframe experiment # ALL OF THIS: 7,8\n",
    "if int(experiment[0]) > 5:\n",
    "    acc_cols = [c[:-4] for c in df.columns if c.endswith('_acc')]\n",
    "    num_repetitions = len(df)\n",
    "\n",
    "    df = pd.concat([df, df, df])\n",
    "    df = df.reset_index(drop=True)\n",
    "    df['dataset'] = sorted(acc_cols * num_repetitions)\n",
    "    df['accuracy'] = np.zeros(df.shape[0])\n",
    "    for acc_col in acc_cols:\n",
    "        df.loc[df.dataset == acc_col, 'accuracy'] = df.loc[df.dataset == acc_col, f\"{acc_col}_acc\"]\n",
    "\n",
    "df"
   ],
   "metadata": {
    "collapsed": false,
    "pycharm": {
     "name": "#%%\n"
    }
   }
  },
  {
   "cell_type": "code",
   "execution_count": 3,
   "outputs": [
    {
     "ename": "KeyError",
     "evalue": "\"None of [Index(['time'], dtype='object')] are in the [columns]\"",
     "output_type": "error",
     "traceback": [
      "\u001B[1;31m---------------------------------------------------------------------------\u001B[0m",
      "\u001B[1;31mKeyError\u001B[0m                                  Traceback (most recent call last)",
      "Input \u001B[1;32mIn [3]\u001B[0m, in \u001B[0;36m<cell line: 26>\u001B[1;34m()\u001B[0m\n\u001B[0;32m     24\u001B[0m df_mean \u001B[38;5;241m=\u001B[39m df\u001B[38;5;241m.\u001B[39mgroupby(by\u001B[38;5;241m=\u001B[39mgroupby_columns)\u001B[38;5;241m.\u001B[39mmean()\u001B[38;5;241m.\u001B[39mrename(columns\u001B[38;5;241m=\u001B[39m{\u001B[38;5;124m'\u001B[39m\u001B[38;5;124maccuracy\u001B[39m\u001B[38;5;124m'\u001B[39m:\u001B[38;5;124m'\u001B[39m\u001B[38;5;124macc_mean\u001B[39m\u001B[38;5;124m'\u001B[39m})[[\u001B[38;5;124m'\u001B[39m\u001B[38;5;124macc_mean\u001B[39m\u001B[38;5;124m'\u001B[39m]]\n\u001B[0;32m     25\u001B[0m df_std \u001B[38;5;241m=\u001B[39m df\u001B[38;5;241m.\u001B[39mgroupby(by\u001B[38;5;241m=\u001B[39mgroupby_columns)\u001B[38;5;241m.\u001B[39mstd()\u001B[38;5;241m.\u001B[39mrename(columns\u001B[38;5;241m=\u001B[39m{\u001B[38;5;124m'\u001B[39m\u001B[38;5;124maccuracy\u001B[39m\u001B[38;5;124m'\u001B[39m: \u001B[38;5;124m'\u001B[39m\u001B[38;5;124macc_std\u001B[39m\u001B[38;5;124m'\u001B[39m})[[\u001B[38;5;124m'\u001B[39m\u001B[38;5;124macc_std\u001B[39m\u001B[38;5;124m'\u001B[39m]]\n\u001B[1;32m---> 26\u001B[0m df_time \u001B[38;5;241m=\u001B[39m \u001B[43mdf\u001B[49m\u001B[38;5;241;43m.\u001B[39;49m\u001B[43mgroupby\u001B[49m\u001B[43m(\u001B[49m\u001B[43mby\u001B[49m\u001B[38;5;241;43m=\u001B[39;49m\u001B[43mgroupby_columns\u001B[49m\u001B[43m)\u001B[49m\u001B[38;5;241;43m.\u001B[39;49m\u001B[43mstd\u001B[49m\u001B[43m(\u001B[49m\u001B[43m)\u001B[49m\u001B[38;5;241;43m.\u001B[39;49m\u001B[43mrename\u001B[49m\u001B[43m(\u001B[49m\u001B[43mcolumns\u001B[49m\u001B[38;5;241;43m=\u001B[39;49m\u001B[43m{\u001B[49m\u001B[38;5;124;43m'\u001B[39;49m\u001B[38;5;124;43mtime\u001B[39;49m\u001B[38;5;124;43m'\u001B[39;49m\u001B[43m:\u001B[49m\u001B[43m \u001B[49m\u001B[38;5;124;43m'\u001B[39;49m\u001B[38;5;124;43mtime\u001B[39;49m\u001B[38;5;124;43m'\u001B[39;49m\u001B[43m}\u001B[49m\u001B[43m)\u001B[49m\u001B[43m[\u001B[49m\u001B[43m[\u001B[49m\u001B[38;5;124;43m'\u001B[39;49m\u001B[38;5;124;43mtime\u001B[39;49m\u001B[38;5;124;43m'\u001B[39;49m\u001B[43m]\u001B[49m\u001B[43m]\u001B[49m\n\u001B[0;32m     27\u001B[0m df_results \u001B[38;5;241m=\u001B[39m pd\u001B[38;5;241m.\u001B[39mconcat([df_mean, df_std, df_time], axis\u001B[38;5;241m=\u001B[39m\u001B[38;5;241m1\u001B[39m, join\u001B[38;5;241m=\u001B[39m\u001B[38;5;124m\"\u001B[39m\u001B[38;5;124minner\u001B[39m\u001B[38;5;124m\"\u001B[39m)\u001B[38;5;241m.\u001B[39mreset_index()\u001B[38;5;66;03m#[['model', 'c11', 'acc_mean', 'acc_std']]\u001B[39;00m\n\u001B[0;32m     28\u001B[0m df_results\n",
      "File \u001B[1;32m~\\anaconda3\\envs\\thesis\\lib\\site-packages\\pandas\\core\\frame.py:3511\u001B[0m, in \u001B[0;36mDataFrame.__getitem__\u001B[1;34m(self, key)\u001B[0m\n\u001B[0;32m   3509\u001B[0m     \u001B[38;5;28;01mif\u001B[39;00m is_iterator(key):\n\u001B[0;32m   3510\u001B[0m         key \u001B[38;5;241m=\u001B[39m \u001B[38;5;28mlist\u001B[39m(key)\n\u001B[1;32m-> 3511\u001B[0m     indexer \u001B[38;5;241m=\u001B[39m \u001B[38;5;28;43mself\u001B[39;49m\u001B[38;5;241;43m.\u001B[39;49m\u001B[43mcolumns\u001B[49m\u001B[38;5;241;43m.\u001B[39;49m\u001B[43m_get_indexer_strict\u001B[49m\u001B[43m(\u001B[49m\u001B[43mkey\u001B[49m\u001B[43m,\u001B[49m\u001B[43m \u001B[49m\u001B[38;5;124;43m\"\u001B[39;49m\u001B[38;5;124;43mcolumns\u001B[39;49m\u001B[38;5;124;43m\"\u001B[39;49m\u001B[43m)\u001B[49m[\u001B[38;5;241m1\u001B[39m]\n\u001B[0;32m   3513\u001B[0m \u001B[38;5;66;03m# take() does not accept boolean indexers\u001B[39;00m\n\u001B[0;32m   3514\u001B[0m \u001B[38;5;28;01mif\u001B[39;00m \u001B[38;5;28mgetattr\u001B[39m(indexer, \u001B[38;5;124m\"\u001B[39m\u001B[38;5;124mdtype\u001B[39m\u001B[38;5;124m\"\u001B[39m, \u001B[38;5;28;01mNone\u001B[39;00m) \u001B[38;5;241m==\u001B[39m \u001B[38;5;28mbool\u001B[39m:\n",
      "File \u001B[1;32m~\\anaconda3\\envs\\thesis\\lib\\site-packages\\pandas\\core\\indexes\\base.py:5782\u001B[0m, in \u001B[0;36mIndex._get_indexer_strict\u001B[1;34m(self, key, axis_name)\u001B[0m\n\u001B[0;32m   5779\u001B[0m \u001B[38;5;28;01melse\u001B[39;00m:\n\u001B[0;32m   5780\u001B[0m     keyarr, indexer, new_indexer \u001B[38;5;241m=\u001B[39m \u001B[38;5;28mself\u001B[39m\u001B[38;5;241m.\u001B[39m_reindex_non_unique(keyarr)\n\u001B[1;32m-> 5782\u001B[0m \u001B[38;5;28;43mself\u001B[39;49m\u001B[38;5;241;43m.\u001B[39;49m\u001B[43m_raise_if_missing\u001B[49m\u001B[43m(\u001B[49m\u001B[43mkeyarr\u001B[49m\u001B[43m,\u001B[49m\u001B[43m \u001B[49m\u001B[43mindexer\u001B[49m\u001B[43m,\u001B[49m\u001B[43m \u001B[49m\u001B[43maxis_name\u001B[49m\u001B[43m)\u001B[49m\n\u001B[0;32m   5784\u001B[0m keyarr \u001B[38;5;241m=\u001B[39m \u001B[38;5;28mself\u001B[39m\u001B[38;5;241m.\u001B[39mtake(indexer)\n\u001B[0;32m   5785\u001B[0m \u001B[38;5;28;01mif\u001B[39;00m \u001B[38;5;28misinstance\u001B[39m(key, Index):\n\u001B[0;32m   5786\u001B[0m     \u001B[38;5;66;03m# GH 42790 - Preserve name from an Index\u001B[39;00m\n",
      "File \u001B[1;32m~\\anaconda3\\envs\\thesis\\lib\\site-packages\\pandas\\core\\indexes\\base.py:5842\u001B[0m, in \u001B[0;36mIndex._raise_if_missing\u001B[1;34m(self, key, indexer, axis_name)\u001B[0m\n\u001B[0;32m   5840\u001B[0m     \u001B[38;5;28;01mif\u001B[39;00m use_interval_msg:\n\u001B[0;32m   5841\u001B[0m         key \u001B[38;5;241m=\u001B[39m \u001B[38;5;28mlist\u001B[39m(key)\n\u001B[1;32m-> 5842\u001B[0m     \u001B[38;5;28;01mraise\u001B[39;00m \u001B[38;5;167;01mKeyError\u001B[39;00m(\u001B[38;5;124mf\u001B[39m\u001B[38;5;124m\"\u001B[39m\u001B[38;5;124mNone of [\u001B[39m\u001B[38;5;132;01m{\u001B[39;00mkey\u001B[38;5;132;01m}\u001B[39;00m\u001B[38;5;124m] are in the [\u001B[39m\u001B[38;5;132;01m{\u001B[39;00maxis_name\u001B[38;5;132;01m}\u001B[39;00m\u001B[38;5;124m]\u001B[39m\u001B[38;5;124m\"\u001B[39m)\n\u001B[0;32m   5844\u001B[0m not_found \u001B[38;5;241m=\u001B[39m \u001B[38;5;28mlist\u001B[39m(ensure_index(key)[missing_mask\u001B[38;5;241m.\u001B[39mnonzero()[\u001B[38;5;241m0\u001B[39m]]\u001B[38;5;241m.\u001B[39munique())\n\u001B[0;32m   5845\u001B[0m \u001B[38;5;28;01mraise\u001B[39;00m \u001B[38;5;167;01mKeyError\u001B[39;00m(\u001B[38;5;124mf\u001B[39m\u001B[38;5;124m\"\u001B[39m\u001B[38;5;132;01m{\u001B[39;00mnot_found\u001B[38;5;132;01m}\u001B[39;00m\u001B[38;5;124m not in index\u001B[39m\u001B[38;5;124m\"\u001B[39m)\n",
      "\u001B[1;31mKeyError\u001B[0m: \"None of [Index(['time'], dtype='object')] are in the [columns]\""
     ]
    }
   ],
   "source": [
    "addition = []\n",
    "if experiment == '0':\n",
    "    addition += ['trainset_size']\n",
    "elif experiment == '1a':\n",
    "    addition += ['c11', 'c22']\n",
    "elif experiment == '1b':\n",
    "    addition += ['c21']\n",
    "elif experiment == '1c':\n",
    "    addition += ['c12']\n",
    "elif experiment == '1d':\n",
    "    addition += ['c12', 'c21']\n",
    "elif experiment == '2':\n",
    "    addition += ['c11', 'c12', 'c21', 'sigma_eta_diag', 'sigma_eta_off_diag']\n",
    "elif experiment == '3':\n",
    "    addition += ['n_data']\n",
    "elif experiment == '4':\n",
    "    addition += ['sparsity']\n",
    "elif experiment == '5':\n",
    "    addition += ['c11', 'c12', 'c21', 'c22']\n",
    "elif experiment == '7' or experiment == '8':\n",
    "    addition += ['dataset']\n",
    "\n",
    "groupby_columns = ['model'] + addition\n",
    "df_mean = df.groupby(by=groupby_columns).mean().rename(columns={'accuracy':'acc_mean'})[['acc_mean']]\n",
    "df_std = df.groupby(by=groupby_columns).std().rename(columns={'accuracy': 'acc_std'})[['acc_std']]\n",
    "df_time = df.groupby(by=groupby_columns).std().rename(columns={'time': 'time'})[['time']]\n",
    "df_results = pd.concat([df_mean, df_std, df_time], axis=1, join=\"inner\").reset_index()#[['model', 'c11', 'acc_mean', 'acc_std']]\n",
    "df_results"
   ],
   "metadata": {
    "collapsed": false,
    "pycharm": {
     "name": "#%%\n"
    }
   }
  },
  {
   "cell_type": "code",
   "execution_count": 223,
   "outputs": [
    {
     "data": {
      "text/plain": "((4, 8), (4, 8))"
     },
     "execution_count": 223,
     "metadata": {},
     "output_type": "execute_result"
    }
   ],
   "source": [
    "mean_acc = np.array([df_results[df_results.model==model]['acc_mean'] for model in list(set(df.model))])\n",
    "std_acc = np.array([df_results[df_results.model==model]['acc_std'] for model in list(set(df.model))])\n",
    "\n",
    "mean_acc.shape, std_acc.shape"
   ],
   "metadata": {
    "collapsed": false,
    "pycharm": {
     "name": "#%%\n"
    }
   }
  },
  {
   "cell_type": "code",
   "execution_count": 224,
   "outputs": [
    {
     "name": "stdout",
     "output_type": "stream",
     "text": [
      "['nri', 'ngc0', 'ngc', 'tvar']\n"
     ]
    },
    {
     "data": {
      "text/plain": "<Figure size 1080x360 with 1 Axes>",
      "image/png": "[encoded data removed]"
     },
     "metadata": {
      "needs_background": "light"
     },
     "output_type": "display_data"
    }
   ],
   "source": [
    "# Should I save figure?\n",
    "save_figure = False\n",
    "\n",
    "# Import the necessary libraries.\n",
    "import matplotlib.pyplot as plt\n",
    "import numpy as np\n",
    "\n",
    "# create a figure with a width of 10 inches and a height of 8 inches\n",
    "fig = plt.figure(figsize=(15, 5))\n",
    "\n",
    "# Model name dictionary\n",
    "model_names_dict = {\n",
    "    'ngc': 'NGC',\n",
    "    'ngc0': 'NGC-0',\n",
    "    'nri': 'NRI',\n",
    "    'tvar': 't-VAR',\n",
    "    'nri_sparse': 'NRI(sparse prior)'\n",
    "}\n",
    "model_color_dict = {\n",
    "    'ngc': 'limegreen',\n",
    "    'ngc0': 'orange',\n",
    "    'nri': 'red',\n",
    "    'tvar': 'aqua',\n",
    "    'nri_sparse': 'pink'\n",
    "}\n",
    "\n",
    "# Set the names of the four deep learning models.\n",
    "model_names = list(set(df_results.model))\n",
    "print(model_names)\n",
    "\n",
    "# Set the number of hyperparameters for each model.\n",
    "n_hyperparams = [int(len(df_results)/len(model_names))] * len(model_names)\n",
    "\n",
    "# Set the mean accuracy and standard deviation of each hyperparameter for each model.\n",
    "mean_accuracy = mean_acc\n",
    "std_dev = std_acc\n",
    "\n",
    "# Create the grouped bar chart.\n",
    "for i, model_name in enumerate(model_names):\n",
    "    x = np.arange(n_hyperparams[i]) + 1\n",
    "    y = mean_accuracy[i]\n",
    "    error = std_dev[i]\n",
    "    plt.bar(x + i * 0.1, y, yerr=error, capsize=10, width=0.1, label=model_names_dict[model_name], color=model_color_dict[model_name])\n",
    "\n",
    "# Set the x-axis limits.\n",
    "plt.xlim(+0.75, n_hyperparams[0]+0.5)\n",
    "plt.xticks(np.arange(n_hyperparams[0])+1, fontsize=12)\n",
    "plt.yticks(fontsize=12)\n",
    "\n",
    "# Set the y-axis limits.\n",
    "#plt.ylim(0, 1)\n",
    "\n",
    "# Set axis names\n",
    "plt.ylabel('Similarity' if int(experiment[0]) >= 5 else 'Accuracy', fontsize=14)\n",
    "plt.xlabel('Experiment ID', fontsize=14)\n",
    "letter = '' if len(experiment) == 1 else f'({experiment[1]})'\n",
    "sub = 0 if int(experiment[0]) < 7 else 1\n",
    "plt.title(f'Experiment {int(experiment[0])+1-sub} {letter} \\n Mean and standard deviation of accuracy of four different models over {n_hyperparams[0]} sub-experiments', fontsize=16)\n",
    "\n",
    "# Add a legend.\n",
    "plt.legend(bbox_to_anchor=(1.0, 0.5))\n",
    "\n",
    "# Save figure\n",
    "if save_figure:\n",
    "    plt.savefig(f'results/{experiment}/results_{experiment}')\n",
    "\n",
    "# Show the plot.\n",
    "plt.show()"
   ],
   "metadata": {
    "collapsed": false,
    "pycharm": {
     "name": "#%%\n"
    }
   }
  },
  {
   "cell_type": "code",
   "execution_count": 230,
   "outputs": [
    {
     "data": {
      "text/plain": "datetime.datetime(2008, 9, 26, 1, 51, 42)"
     },
     "execution_count": 230,
     "metadata": {},
     "output_type": "execute_result"
    }
   ],
   "source": [
    "from datetime import datetime\n",
    "\n",
    "datetime.strptime('2008-09-26T01:51:42.000Z', \"%Y-%m-%dT%H:%M:%S.%fZ\")"
   ],
   "metadata": {
    "collapsed": false,
    "pycharm": {
     "name": "#%%\n"
    }
   }
  },
  {
   "cell_type": "code",
   "execution_count": null,
   "outputs": [],
   "source": [],
   "metadata": {
    "collapsed": false,
    "pycharm": {
     "name": "#%%\n"
    }
   }
  }
 ],
 "metadata": {
  "kernelspec": {
   "display_name": "Python 3",
   "language": "python",
   "name": "python3"
  },
  "language_info": {
   "codemirror_mode": {
    "name": "ipython",
    "version": 2
   },
   "file_extension": ".py",
   "mimetype": "text/x-python",
   "name": "python",
   "nbconvert_exporter": "python",
   "pygments_lexer": "ipython2",
   "version": "2.7.6"
  }
 },
 "nbformat": 4,
 "nbformat_minor": 0
}